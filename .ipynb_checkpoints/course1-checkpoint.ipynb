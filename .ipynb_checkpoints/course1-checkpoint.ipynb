{
 "cells": [
  {
   "cell_type": "markdown",
   "metadata": {},
   "source": [
    "# Course 1:\n",
    "# General Facts About Machine Learning. Linear Regression."
   ]
  },
  {
   "cell_type": "markdown",
   "metadata": {},
   "source": [
    "## 1. Machine learning. Supervised, unsupervised, reinforcement learning."
   ]
  },
  {
   "cell_type": "code",
   "execution_count": 1,
   "metadata": {
    "collapsed": false
   },
   "outputs": [],
   "source": [
    "import numpy as np\n",
    "import pandas as pd\n",
    "import matplotlib.pyplot as plt\n",
    "import seaborn as sns\n",
    "from matplotlib import animation \n",
    "plt.rcParams[\"animation.html\"] = \"html5\"\n",
    "\n",
    "% matplotlib inline"
   ]
  },
  {
   "cell_type": "markdown",
   "metadata": {},
   "source": [
    "We begin by loading some data: [The World Happiness Report 2017](https://www.kaggle.com/unsdsn/world-happiness) and [The number of partners during lifetime](https://www.statista.com/statistics/248856/average-number-of-sexual-partners-in-selected-countries-worldwide/)"
   ]
  },
  {
   "cell_type": "code",
   "execution_count": 2,
   "metadata": {
    "collapsed": false
   },
   "outputs": [],
   "source": [
    "df1 = pd.read_csv('data/happiness2017.csv')\n",
    "df2 = pd.read_csv('data/Number_of_Sexual_Partners_You_Have_Had.csv')"
   ]
  },
  {
   "cell_type": "code",
   "execution_count": 3,
   "metadata": {
    "collapsed": false
   },
   "outputs": [
    {
     "data": {
      "text/html": [
       "<div>\n",
       "<style>\n",
       "    .dataframe thead tr:only-child th {\n",
       "        text-align: right;\n",
       "    }\n",
       "\n",
       "    .dataframe thead th {\n",
       "        text-align: left;\n",
       "    }\n",
       "\n",
       "    .dataframe tbody tr th {\n",
       "        vertical-align: top;\n",
       "    }\n",
       "</style>\n",
       "<table border=\"1\" class=\"dataframe\">\n",
       "  <thead>\n",
       "    <tr style=\"text-align: right;\">\n",
       "      <th></th>\n",
       "      <th>Country</th>\n",
       "      <th>Happiness.Rank</th>\n",
       "      <th>Happiness.Score</th>\n",
       "      <th>Whisker.high</th>\n",
       "      <th>Whisker.low</th>\n",
       "      <th>Economy..GDP.per.Capita.</th>\n",
       "      <th>Family</th>\n",
       "      <th>Health..Life.Expectancy.</th>\n",
       "      <th>Freedom</th>\n",
       "      <th>Generosity</th>\n",
       "      <th>Trust..Government.Corruption.</th>\n",
       "      <th>Dystopia.Residual</th>\n",
       "    </tr>\n",
       "  </thead>\n",
       "  <tbody>\n",
       "    <tr>\n",
       "      <th>0</th>\n",
       "      <td>Norway</td>\n",
       "      <td>1</td>\n",
       "      <td>7.537</td>\n",
       "      <td>7.594445</td>\n",
       "      <td>7.479556</td>\n",
       "      <td>1.616463</td>\n",
       "      <td>1.533524</td>\n",
       "      <td>0.796667</td>\n",
       "      <td>0.635423</td>\n",
       "      <td>0.362012</td>\n",
       "      <td>0.315964</td>\n",
       "      <td>2.277027</td>\n",
       "    </tr>\n",
       "    <tr>\n",
       "      <th>1</th>\n",
       "      <td>Denmark</td>\n",
       "      <td>2</td>\n",
       "      <td>7.522</td>\n",
       "      <td>7.581728</td>\n",
       "      <td>7.462272</td>\n",
       "      <td>1.482383</td>\n",
       "      <td>1.551122</td>\n",
       "      <td>0.792566</td>\n",
       "      <td>0.626007</td>\n",
       "      <td>0.355280</td>\n",
       "      <td>0.400770</td>\n",
       "      <td>2.313707</td>\n",
       "    </tr>\n",
       "    <tr>\n",
       "      <th>2</th>\n",
       "      <td>Iceland</td>\n",
       "      <td>3</td>\n",
       "      <td>7.504</td>\n",
       "      <td>7.622030</td>\n",
       "      <td>7.385970</td>\n",
       "      <td>1.480633</td>\n",
       "      <td>1.610574</td>\n",
       "      <td>0.833552</td>\n",
       "      <td>0.627163</td>\n",
       "      <td>0.475540</td>\n",
       "      <td>0.153527</td>\n",
       "      <td>2.322715</td>\n",
       "    </tr>\n",
       "    <tr>\n",
       "      <th>3</th>\n",
       "      <td>Switzerland</td>\n",
       "      <td>4</td>\n",
       "      <td>7.494</td>\n",
       "      <td>7.561772</td>\n",
       "      <td>7.426227</td>\n",
       "      <td>1.564980</td>\n",
       "      <td>1.516912</td>\n",
       "      <td>0.858131</td>\n",
       "      <td>0.620071</td>\n",
       "      <td>0.290549</td>\n",
       "      <td>0.367007</td>\n",
       "      <td>2.276716</td>\n",
       "    </tr>\n",
       "    <tr>\n",
       "      <th>4</th>\n",
       "      <td>Finland</td>\n",
       "      <td>5</td>\n",
       "      <td>7.469</td>\n",
       "      <td>7.527542</td>\n",
       "      <td>7.410458</td>\n",
       "      <td>1.443572</td>\n",
       "      <td>1.540247</td>\n",
       "      <td>0.809158</td>\n",
       "      <td>0.617951</td>\n",
       "      <td>0.245483</td>\n",
       "      <td>0.382612</td>\n",
       "      <td>2.430182</td>\n",
       "    </tr>\n",
       "  </tbody>\n",
       "</table>\n",
       "</div>"
      ],
      "text/plain": [
       "       Country  Happiness.Rank  Happiness.Score  Whisker.high  Whisker.low  \\\n",
       "0       Norway               1            7.537      7.594445     7.479556   \n",
       "1      Denmark               2            7.522      7.581728     7.462272   \n",
       "2      Iceland               3            7.504      7.622030     7.385970   \n",
       "3  Switzerland               4            7.494      7.561772     7.426227   \n",
       "4      Finland               5            7.469      7.527542     7.410458   \n",
       "\n",
       "   Economy..GDP.per.Capita.    Family  Health..Life.Expectancy.   Freedom  \\\n",
       "0                  1.616463  1.533524                  0.796667  0.635423   \n",
       "1                  1.482383  1.551122                  0.792566  0.626007   \n",
       "2                  1.480633  1.610574                  0.833552  0.627163   \n",
       "3                  1.564980  1.516912                  0.858131  0.620071   \n",
       "4                  1.443572  1.540247                  0.809158  0.617951   \n",
       "\n",
       "   Generosity  Trust..Government.Corruption.  Dystopia.Residual  \n",
       "0    0.362012                       0.315964           2.277027  \n",
       "1    0.355280                       0.400770           2.313707  \n",
       "2    0.475540                       0.153527           2.322715  \n",
       "3    0.290549                       0.367007           2.276716  \n",
       "4    0.245483                       0.382612           2.430182  "
      ]
     },
     "execution_count": 3,
     "metadata": {},
     "output_type": "execute_result"
    }
   ],
   "source": [
    "df1.head()"
   ]
  },
  {
   "cell_type": "code",
   "execution_count": 4,
   "metadata": {
    "collapsed": false
   },
   "outputs": [],
   "source": [
    "df1.drop(['Happiness.Rank','Whisker.high','Whisker.low','Freedom','Generosity'],axis=1,inplace=True)"
   ]
  },
  {
   "cell_type": "code",
   "execution_count": 5,
   "metadata": {
    "collapsed": false
   },
   "outputs": [
    {
     "data": {
      "text/html": [
       "<div>\n",
       "<style>\n",
       "    .dataframe thead tr:only-child th {\n",
       "        text-align: right;\n",
       "    }\n",
       "\n",
       "    .dataframe thead th {\n",
       "        text-align: left;\n",
       "    }\n",
       "\n",
       "    .dataframe tbody tr th {\n",
       "        vertical-align: top;\n",
       "    }\n",
       "</style>\n",
       "<table border=\"1\" class=\"dataframe\">\n",
       "  <thead>\n",
       "    <tr style=\"text-align: right;\">\n",
       "      <th></th>\n",
       "      <th>Date</th>\n",
       "      <th>1/1/2005</th>\n",
       "    </tr>\n",
       "  </thead>\n",
       "  <tbody>\n",
       "    <tr>\n",
       "      <th>0</th>\n",
       "      <td>Number of sexual partners- Turkey</td>\n",
       "      <td>14.5</td>\n",
       "    </tr>\n",
       "    <tr>\n",
       "      <th>1</th>\n",
       "      <td>Number of sexual partners- Australia</td>\n",
       "      <td>13.3</td>\n",
       "    </tr>\n",
       "    <tr>\n",
       "      <th>2</th>\n",
       "      <td>Number of sexual partners- New Zealand</td>\n",
       "      <td>13.2</td>\n",
       "    </tr>\n",
       "    <tr>\n",
       "      <th>3</th>\n",
       "      <td>Number of sexual partners- Iceland</td>\n",
       "      <td>13.0</td>\n",
       "    </tr>\n",
       "    <tr>\n",
       "      <th>4</th>\n",
       "      <td>Number of sexual partners- South Africa</td>\n",
       "      <td>12.5</td>\n",
       "    </tr>\n",
       "  </tbody>\n",
       "</table>\n",
       "</div>"
      ],
      "text/plain": [
       "                                      Date  1/1/2005\n",
       "0        Number of sexual partners- Turkey      14.5\n",
       "1     Number of sexual partners- Australia      13.3\n",
       "2   Number of sexual partners- New Zealand      13.2\n",
       "3       Number of sexual partners- Iceland      13.0\n",
       "4  Number of sexual partners- South Africa      12.5"
      ]
     },
     "execution_count": 5,
     "metadata": {},
     "output_type": "execute_result"
    }
   ],
   "source": [
    "df2.head()"
   ]
  },
  {
   "cell_type": "markdown",
   "metadata": {},
   "source": [
    "df2 needs to be cleaned"
   ]
  },
  {
   "cell_type": "code",
   "execution_count": 6,
   "metadata": {
    "collapsed": false
   },
   "outputs": [],
   "source": [
    "df2.columns = ['Country','partners']\n",
    "\n",
    "df2['Country'] = df2['Country'].map(lambda s: s.split('- ')[1]) # function that spitls a string on the '-'\n",
    "#and takes the second part"
   ]
  },
  {
   "cell_type": "code",
   "execution_count": 7,
   "metadata": {
    "collapsed": false
   },
   "outputs": [
    {
     "data": {
      "text/html": [
       "<div>\n",
       "<style>\n",
       "    .dataframe thead tr:only-child th {\n",
       "        text-align: right;\n",
       "    }\n",
       "\n",
       "    .dataframe thead th {\n",
       "        text-align: left;\n",
       "    }\n",
       "\n",
       "    .dataframe tbody tr th {\n",
       "        vertical-align: top;\n",
       "    }\n",
       "</style>\n",
       "<table border=\"1\" class=\"dataframe\">\n",
       "  <thead>\n",
       "    <tr style=\"text-align: right;\">\n",
       "      <th></th>\n",
       "      <th>Country</th>\n",
       "      <th>partners</th>\n",
       "    </tr>\n",
       "  </thead>\n",
       "  <tbody>\n",
       "    <tr>\n",
       "      <th>0</th>\n",
       "      <td>Turkey</td>\n",
       "      <td>14.5</td>\n",
       "    </tr>\n",
       "    <tr>\n",
       "      <th>1</th>\n",
       "      <td>Australia</td>\n",
       "      <td>13.3</td>\n",
       "    </tr>\n",
       "    <tr>\n",
       "      <th>2</th>\n",
       "      <td>New Zealand</td>\n",
       "      <td>13.2</td>\n",
       "    </tr>\n",
       "    <tr>\n",
       "      <th>3</th>\n",
       "      <td>Iceland</td>\n",
       "      <td>13.0</td>\n",
       "    </tr>\n",
       "    <tr>\n",
       "      <th>4</th>\n",
       "      <td>South Africa</td>\n",
       "      <td>12.5</td>\n",
       "    </tr>\n",
       "  </tbody>\n",
       "</table>\n",
       "</div>"
      ],
      "text/plain": [
       "        Country  partners\n",
       "0        Turkey      14.5\n",
       "1     Australia      13.3\n",
       "2   New Zealand      13.2\n",
       "3       Iceland      13.0\n",
       "4  South Africa      12.5"
      ]
     },
     "execution_count": 7,
     "metadata": {},
     "output_type": "execute_result"
    }
   ],
   "source": [
    "df2.head()"
   ]
  },
  {
   "cell_type": "code",
   "execution_count": 8,
   "metadata": {
    "collapsed": false
   },
   "outputs": [],
   "source": [
    "df = pd.merge(df1,df2,on='Country')"
   ]
  },
  {
   "cell_type": "code",
   "execution_count": 9,
   "metadata": {
    "collapsed": false
   },
   "outputs": [
    {
     "data": {
      "text/html": [
       "<div>\n",
       "<style>\n",
       "    .dataframe thead tr:only-child th {\n",
       "        text-align: right;\n",
       "    }\n",
       "\n",
       "    .dataframe thead th {\n",
       "        text-align: left;\n",
       "    }\n",
       "\n",
       "    .dataframe tbody tr th {\n",
       "        vertical-align: top;\n",
       "    }\n",
       "</style>\n",
       "<table border=\"1\" class=\"dataframe\">\n",
       "  <thead>\n",
       "    <tr style=\"text-align: right;\">\n",
       "      <th></th>\n",
       "      <th>Country</th>\n",
       "      <th>Happiness.Score</th>\n",
       "      <th>Economy..GDP.per.Capita.</th>\n",
       "      <th>Family</th>\n",
       "      <th>Health..Life.Expectancy.</th>\n",
       "      <th>Trust..Government.Corruption.</th>\n",
       "      <th>Dystopia.Residual</th>\n",
       "      <th>partners</th>\n",
       "    </tr>\n",
       "  </thead>\n",
       "  <tbody>\n",
       "    <tr>\n",
       "      <th>0</th>\n",
       "      <td>Norway</td>\n",
       "      <td>7.537</td>\n",
       "      <td>1.616463</td>\n",
       "      <td>1.533524</td>\n",
       "      <td>0.796667</td>\n",
       "      <td>0.315964</td>\n",
       "      <td>2.277027</td>\n",
       "      <td>12.1</td>\n",
       "    </tr>\n",
       "    <tr>\n",
       "      <th>1</th>\n",
       "      <td>Denmark</td>\n",
       "      <td>7.522</td>\n",
       "      <td>1.482383</td>\n",
       "      <td>1.551122</td>\n",
       "      <td>0.792566</td>\n",
       "      <td>0.400770</td>\n",
       "      <td>2.313707</td>\n",
       "      <td>9.3</td>\n",
       "    </tr>\n",
       "    <tr>\n",
       "      <th>2</th>\n",
       "      <td>Iceland</td>\n",
       "      <td>7.504</td>\n",
       "      <td>1.480633</td>\n",
       "      <td>1.610574</td>\n",
       "      <td>0.833552</td>\n",
       "      <td>0.153527</td>\n",
       "      <td>2.322715</td>\n",
       "      <td>13.0</td>\n",
       "    </tr>\n",
       "    <tr>\n",
       "      <th>3</th>\n",
       "      <td>Switzerland</td>\n",
       "      <td>7.494</td>\n",
       "      <td>1.564980</td>\n",
       "      <td>1.516912</td>\n",
       "      <td>0.858131</td>\n",
       "      <td>0.367007</td>\n",
       "      <td>2.276716</td>\n",
       "      <td>11.1</td>\n",
       "    </tr>\n",
       "    <tr>\n",
       "      <th>4</th>\n",
       "      <td>Finland</td>\n",
       "      <td>7.469</td>\n",
       "      <td>1.443572</td>\n",
       "      <td>1.540247</td>\n",
       "      <td>0.809158</td>\n",
       "      <td>0.382612</td>\n",
       "      <td>2.430182</td>\n",
       "      <td>12.4</td>\n",
       "    </tr>\n",
       "  </tbody>\n",
       "</table>\n",
       "</div>"
      ],
      "text/plain": [
       "       Country  Happiness.Score  Economy..GDP.per.Capita.    Family  \\\n",
       "0       Norway            7.537                  1.616463  1.533524   \n",
       "1      Denmark            7.522                  1.482383  1.551122   \n",
       "2      Iceland            7.504                  1.480633  1.610574   \n",
       "3  Switzerland            7.494                  1.564980  1.516912   \n",
       "4      Finland            7.469                  1.443572  1.540247   \n",
       "\n",
       "   Health..Life.Expectancy.  Trust..Government.Corruption.  Dystopia.Residual  \\\n",
       "0                  0.796667                       0.315964           2.277027   \n",
       "1                  0.792566                       0.400770           2.313707   \n",
       "2                  0.833552                       0.153527           2.322715   \n",
       "3                  0.858131                       0.367007           2.276716   \n",
       "4                  0.809158                       0.382612           2.430182   \n",
       "\n",
       "   partners  \n",
       "0      12.1  \n",
       "1       9.3  \n",
       "2      13.0  \n",
       "3      11.1  \n",
       "4      12.4  "
      ]
     },
     "execution_count": 9,
     "metadata": {},
     "output_type": "execute_result"
    }
   ],
   "source": [
    "df.head()"
   ]
  },
  {
   "cell_type": "markdown",
   "metadata": {},
   "source": [
    "## 2. Regression"
   ]
  },
  {
   "cell_type": "code",
   "execution_count": 10,
   "metadata": {
    "collapsed": false
   },
   "outputs": [],
   "source": [
    "df.set_index('Country',inplace=True)"
   ]
  },
  {
   "cell_type": "markdown",
   "metadata": {},
   "source": [
    "Let's consider only two variables: The happiness score and the no of partners."
   ]
  },
  {
   "cell_type": "code",
   "execution_count": 11,
   "metadata": {
    "collapsed": false
   },
   "outputs": [],
   "source": [
    "data = df.loc[:,['partners','Happiness.Score']].rename(columns = {'partners' : 'partners', \n",
    "                                                                  'Happiness.Score' : 'happiness'})\n",
    "data.dropna(inplace=True)"
   ]
  },
  {
   "cell_type": "code",
   "execution_count": 12,
   "metadata": {
    "collapsed": false
   },
   "outputs": [
    {
     "data": {
      "text/html": [
       "<div>\n",
       "<style>\n",
       "    .dataframe thead tr:only-child th {\n",
       "        text-align: right;\n",
       "    }\n",
       "\n",
       "    .dataframe thead th {\n",
       "        text-align: left;\n",
       "    }\n",
       "\n",
       "    .dataframe tbody tr th {\n",
       "        vertical-align: top;\n",
       "    }\n",
       "</style>\n",
       "<table border=\"1\" class=\"dataframe\">\n",
       "  <thead>\n",
       "    <tr style=\"text-align: right;\">\n",
       "      <th></th>\n",
       "      <th>partners</th>\n",
       "      <th>happiness</th>\n",
       "    </tr>\n",
       "    <tr>\n",
       "      <th>Country</th>\n",
       "      <th></th>\n",
       "      <th></th>\n",
       "    </tr>\n",
       "  </thead>\n",
       "  <tbody>\n",
       "    <tr>\n",
       "      <th>Norway</th>\n",
       "      <td>12.1</td>\n",
       "      <td>7.537</td>\n",
       "    </tr>\n",
       "    <tr>\n",
       "      <th>Denmark</th>\n",
       "      <td>9.3</td>\n",
       "      <td>7.522</td>\n",
       "    </tr>\n",
       "    <tr>\n",
       "      <th>Iceland</th>\n",
       "      <td>13.0</td>\n",
       "      <td>7.504</td>\n",
       "    </tr>\n",
       "    <tr>\n",
       "      <th>Switzerland</th>\n",
       "      <td>11.1</td>\n",
       "      <td>7.494</td>\n",
       "    </tr>\n",
       "    <tr>\n",
       "      <th>Finland</th>\n",
       "      <td>12.4</td>\n",
       "      <td>7.469</td>\n",
       "    </tr>\n",
       "  </tbody>\n",
       "</table>\n",
       "</div>"
      ],
      "text/plain": [
       "             partners  happiness\n",
       "Country                         \n",
       "Norway           12.1      7.537\n",
       "Denmark           9.3      7.522\n",
       "Iceland          13.0      7.504\n",
       "Switzerland      11.1      7.494\n",
       "Finland          12.4      7.469"
      ]
     },
     "execution_count": 12,
     "metadata": {},
     "output_type": "execute_result"
    }
   ],
   "source": [
    "data.head()"
   ]
  },
  {
   "cell_type": "code",
   "execution_count": 13,
   "metadata": {
    "collapsed": false
   },
   "outputs": [
    {
     "data": {
      "text/plain": [
       "<seaborn.axisgrid.FacetGrid at 0x2a1a3bbd7b8>"
      ]
     },
     "execution_count": 13,
     "metadata": {},
     "output_type": "execute_result"
    },
    {
     "data": {
      "image/png": "[encoded data removed]",
      "text/plain": [
       "<matplotlib.figure.Figure at 0x2a1a3bbd908>"
      ]
     },
     "metadata": {},
     "output_type": "display_data"
    }
   ],
   "source": [
    "g = sns.lmplot(\"partners\", \"happiness\", data=data, fit_reg=True)#kind=\"reg\")\n",
    "g.set(ylim=(-4, None))"
   ]
  },
  {
   "cell_type": "code",
   "execution_count": 14,
   "metadata": {
    "collapsed": true
   },
   "outputs": [],
   "source": [
    "def model(a,b,x): \n",
    "    '''\n",
    "    function that computes the model\n",
    "    ARGUMENTS: a,b,x floating point numbers\n",
    "    RETURNS: floating point number, the estimated (predicted value) corrsponding to the input x\n",
    "    '''\n",
    "    return a*x+b"
   ]
  },
  {
   "cell_type": "markdown",
   "metadata": {},
   "source": [
    "### 3. Training the model: Gradient Descent"
   ]
  },
  {
   "cell_type": "markdown",
   "metadata": {},
   "source": [
    "<img src=\"images/scara.jpg\" width=\"900\">\n"
   ]
  },
  {
   "cell_type": "markdown",
   "metadata": {},
   "source": [
    "for a sigle training example $(x^{(i)},y^{(i)})$, denote $\\hat y ^{(i)} = a x^{(i)}+ b$ the prediction.\n",
    "The loss will be $l(y^{(i)},\\hat y^{(i)}) = (\\hat y^{(i)} - y^{(i)})^2$ (square loss) and define the cost function\n",
    "$C(a,b) = \\frac{1}{n} \\sum_i l(y^{(i)},\\hat y^{(i)}) $"
   ]
  },
  {
   "cell_type": "code",
   "execution_count": 15,
   "metadata": {
    "collapsed": true
   },
   "outputs": [],
   "source": [
    "def totLoss(y,y_pred):\n",
    "    '''\n",
    "    function that computes the total sqare loss\n",
    "    ARGUMENTS: y,y_pred arrays (mathematical vectors)\n",
    "    RETURNS: floating point number, the sum of the losses (y - y_pred)**2 for each training example (x, y)\n",
    "    '''\n",
    "    return ((y-y_pred)**2).sum()\n",
    "\n",
    "def cost(y,a,b,x):\n",
    "    '''\n",
    "    the cost function\n",
    "    ARGUMENTS: a,b floating point numbers, x, y, arrays (mathematical vectors)\n",
    "    RETURNS: floating point number, the cost corresponding to our choice of parameters a,b\n",
    "    '''\n",
    "    return totLoss(y, model(a,b,x)) / n\n"
   ]
  },
  {
   "cell_type": "markdown",
   "metadata": {},
   "source": [
    "* Idea: minimize the cost function"
   ]
  },
  {
   "cell_type": "markdown",
   "metadata": {},
   "source": [
    "* Derivatives, gradient"
   ]
  },
  {
   "cell_type": "markdown",
   "metadata": {},
   "source": [
    "Start with randomly chosen $a,b$, and simultaneously update them:\n",
    "\n",
    "$$a =a -\\alpha \\frac{\\partial C}{\\partial a}$$\n",
    "$$b = b - \\alpha \\frac{\\partial C}{\\partial b}$$"
   ]
  },
  {
   "cell_type": "code",
   "execution_count": 16,
   "metadata": {
    "collapsed": false
   },
   "outputs": [],
   "source": [
    "#set some initial values for the parameters\n",
    "a_guess=-1\n",
    "b_guess=10\n",
    "\n",
    "n = len(data)\n",
    "x = data['partners'].values\n",
    "y = data['happiness'].values\n"
   ]
  },
  {
   "cell_type": "code",
   "execution_count": 17,
   "metadata": {
    "collapsed": false
   },
   "outputs": [
    {
     "data": {
      "text/plain": [
       "42.419551344376849"
      ]
     },
     "execution_count": 17,
     "metadata": {},
     "output_type": "execute_result"
    }
   ],
   "source": [
    "cost(y, a_guess, b_guess, x)"
   ]
  },
  {
   "cell_type": "code",
   "execution_count": 18,
   "metadata": {
    "collapsed": true
   },
   "outputs": [],
   "source": [
    "lr=0.01\n",
    "def upd():\n",
    "    global a_guess, b_guess\n",
    "    y_pred = model(a_guess, b_guess, x)\n",
    "    dydb = 2 * (y_pred - y)\n",
    "    dyda = x * 2 * (y_pred - y)\n",
    "    a_guess -= lr * dyda.mean()\n",
    "    b_guess -= lr * dydb.mean()"
   ]
  },
  {
   "cell_type": "code",
   "execution_count": 19,
   "metadata": {
    "collapsed": false
   },
   "outputs": [
    {
     "data": {
      "text/html": [
       "<video width=\"700\" height=\"700\" controls autoplay loop>\n",
       "  <source type=\"video/mp4\" src=\"data:video/mp4;base64,AAAAHGZ0eXBNNFYgAAACAGlzb21pc28yYXZjMQAAAAhmcmVlAABpj21kYXQAAAKvBgX//6vcRem9\n",
       "5tlIt5Ys2CDZI+7veDI2NCAtIGNvcmUgMTUyIHIyODUxIGJhMjQ4OTkgLSBILjI2NC9NUEVHLTQg\n",
       "QVZDIGNvZGVjIC0gQ29weWxlZnQgMjAwMy0yMDE3IC0gaHR0cDovL3d3dy52aWRlb2xhbi5vcmcv\n",
       "eDI2NC5odG1sIC0gb3B0aW9uczogY2FiYWM9MSByZWY9MyBkZWJsb2NrPTE6MDowIGFuYWx5c2U9\n",
       "MHgzOjB4MTEzIG1lPWhleCBzdWJtZT03IHBzeT0xIHBzeV9yZD0xLjAwOjAuMDAgbWl4ZWRfcmVm\n",
       "PTEgbWVfcmFuZ2U9MTYgY2hyb21hX21lPTEgdHJlbGxpcz0xIDh4OGRjdD0xIGNxbT0wIGRlYWR6\n",
       "b25lPTIxLDExIGZhc3RfcHNraXA9MSBjaHJvbWFfcXBfb2Zmc2V0PS0yIHRocmVhZHM9MTIgbG9v\n",
       "a2FoZWFkX3RocmVhZHM9MiBzbGljZWRfdGhyZWFkcz0wIG5yPTAgZGVjaW1hdGU9MSBpbnRlcmxh\n",
       "Y2VkPTAgYmx1cmF5X2NvbXBhdD0wIGNvbnN0cmFpbmVkX2ludHJhPTAgYmZyYW1lcz0zIGJfcHly\n",
       "YW1pZD0yIGJfYWRhcHQ9MSBiX2JpYXM9MCBkaXJlY3Q9MSB3ZWlnaHRiPTEgb3Blbl9nb3A9MCB3\n",
       "ZWlnaHRwPTIga2V5aW50PTI1MCBrZXlpbnRfbWluPTEwIHNjZW5lY3V0PTQwIGludHJhX3JlZnJl\n",
       "c2g9MCByY19sb29rYWhlYWQ9NDAgcmM9Y3JmIG1idHJlZT0xIGNyZj0yMy4wIHFjb21wPTAuNjAg\n",
       "cXBtaW49MCBxcG1heD02OSBxcHN0ZXA9NCBpcF9yYXRpbz0xLjQwIGFxPTE6MS4wMACAAAAf52WI\n",
       "hAAR//73iB8yy2n5OtdyEeetLq0fUO5GcV6kvf4gAAADAAADAAAF8OiLdliyefKUQAAACVgBXAN0\n",
       "E6y3hrTD96GYAr4cjIb3iPgjo9P2c3NjgrAugTGhA3SO3F9i1+Y/auRP9D1c+b7oLc2Qlh7TsFZh\n",
       "LIXkY2UpgcLzROjO0bqxfehLjPmH5w9UUSouw7ZA+e2iW1KAKC/SEITWrbqxnyDbdgkO3/4TyrbF\n",
       "5hT589tqkxu/Aqt44FJNbnb3fvumyq/JlSnXxpmcEZRAoZD2np0oVAlhqjNwwDRPhPR2m0/eOH3s\n",
       "jD3VTn93KfEDAlL/ft4quwCPFtB5ahbEFkqkAPFJK68Lipahqt16o415qCn0kO9+7gFzFMxtvAXi\n",
       "fh6GISfWXXKuagcxJ42HyL/kSCOBeZTk6PGPCZ6W3Dp1zdjp2OasHAfIIniR7UTt7Q6e8xevS9uH\n",
       "+9HMj0R/NQ+Wq5gkaaw7hitQB+XYh4CqFciMKU79tL22D1ktiRpIlXXAvuaEaqp1uoW/vYxPHwLL\n",
       "9fY9nKZBco/iGg0k/3xYK9lSju+dfIgnc2QgBgUHAbR/Yq0Y1c/ECmLls7QODy/oc9ubq/kamKg6\n",
       "AIZWvh7a4U13KmO7xre1V4O4s5rmuaFdsb+NjVk9AF6JJbyTbMB8TEXizzEOlcJL/uDJ+3EsuVdu\n",
       "CjjpbOlb7aYsram3ZLaw1rVTdv8UnNThyPnAtC2FWpfcIU36gRAAgkLoZs3QYvbref6wUygEiz17\n",
       "fD7SmJJDyWpAGmYj+5XgBuCVx0V0nQEwxk8x5f1qjBhacf7Kmk5dT7ux+D4NFWSoFQVA8s+X0ARI\n",
       "B39feqJu55UKX211AOO3Ds60sASSaxpJ5iNKB8UGphBHWxMYo7e+9BjIP5GVMwZzP8k6aVCuMalA\n",
       "dGhbUM8Ka+MXqBu9Pl+vfWPT4gNjqznf9+SKnEsTXQaLn5igN2631jlircsYXRUYwStoO7BT2pE0\n",
       "VHNv0Slmam2873bbkAFnt/ycmeqF6oLID53VYFRf9YG2dP14xdOBGR03VrPt5QJGdVoxoTZjP8nj\n",
       "Fx1VtuZUwHcUMupRJU/S+RzIzgkCZlBJ3KXSX02KMBfLkflILaITIIWF6ZZazZOie+97gdfK9a8d\n",
       "op8kSBH5fMF1HaQXu8cYvix3IS+d3+iynCd6ra2JsBFV8KMyqlTN2hPNqcO5LKH+dksjZRfhJCgm\n",
       "H86PjU2JHb/Op6qf7zx0EUhPSNqzaZqpQQffz3T4e2l8mXnnvijkVfMnDewL31qYhE7Ocdp+FpqT\n",
       "qqJNzsmsp/2Yy+9NUiZxwj8fWVZTZOQaUOKoNWIvmOsJMEKjs8KGFUuFSwlmM7hoKhz67YrmXorz\n",
       "zw3oYwwNMvLzVv0muCj43xJUlx4cZB54474IFri5Wxar1QezudXjL02/99/Udf8CVvHVJVIp6wiP\n",
       "Am8vg3q76f+aUyuCMtuDvKGzdwDBa4tIqBCpJwOgjusQlYof0uRLALdRzF8CBkEgqWKe12NUGjyl\n",
       "qSwwWUBYW5bAaNnlx5K5f1EIY0AeUOOuvtaHAxrtNPy+UWssgG4H+ZvEsGmC2ZekONJMNh8wfYCf\n",
       "DGV9GXKWbrDZKjk01ctLqKStFDGhcgDnSgbtmi3I81OXoIXCYs8SiHXklPA9Ha26hNqbz2TcAM+W\n",
       "XWFcKFpK7B+Ed865X0nlXjlqd+yCfcHcxoyTAOqHLW53I0ariTsCN1QbPT8fgfh8xx3x8V/8Uoob\n",
       "sX+RMvO+G165aCYeqDXgM6BIKMkv84hV59UZG8P6SMl8o18rZv/jWmql8/lHHzCY4PkIiQn8Q857\n",
       "R/bqSGWs109XIzJYwJkJi7zzsCw0YRHW6I4r2rIPkObP648lAFr0FgLbch6l5NUJDEGnFLSaRUpk\n",
       "ood3YHO7jB4JhHijuwkRy0LDu+gOndiSHliWEhiUeLQaoMwKVdtfMYWXuMFU9ww66281I6PsOYMc\n",
       "6qBfcbgjwMBkCAgvEfTUmgC63blLFn5xAsYWQn9et5SzqP3bibxk01YufJSvNoX58XdNdgu02j3I\n",
       "qb9m7Bnyujk5IoY+BL2CTIgD5aVAQB0TlkZNkLfJGnE0v84dhoGBVKjuollX9A9qQaEcgzdTIpUR\n",
       "Rw9oVBsLxE2bWnKSseAz7QMOwvqN4VK4iFc1tkX9Dtvq9XygWlnvjCBtjSDpCUmHN6Z/yNOWRutp\n",
       "b13yK6I7L1DgylJQdl6ySKoERuyZ/LQc65ytERSlRP6MlHdCB+c0gXxe1YPsW+uIFV7FGVrat9nQ\n",
       "buQa4lRHnU6rDnc85eIj7Zj8UJB4WLhCurPeyPyulB20LPaUjd9Gph0e8RvkwboX3wAOzTjcniDk\n",
       "eSKTZOp6s4dCyIwcVMucsV8QJETjsX4d+BVSnlrWuL7oFbVNdtRqynJy1O0QPtzofuOXUejFwRVh\n",
       "Tv0A3QMBcahRaR3kB8Yp6+fob+V4xri8ncYFZmLeAbC5qfX4YvNcoa9j0MXusyNak5nbxAmBjBDI\n",
       "TBxuYZMC7HiqBHepeVM9vyCwhoqFgMATeUPWAPbZxNZ/ZuLhijHbKtwxDEpd2ZO1AiyYXvu/aPH9\n",
       "Mj0wDl880LP2/W4DNmwTiwBTJ5ysI/p2SoUhxD6t7ZM4fCFnGLvUiuXJdveOmcNLf6jV2UAA7eM3\n",
       "tnSuj30UWSjJ40n0o1OrczucLn+3sMXdEndRIVothnVu+wFu4kCpOpg5vyPNUk9NEsZg/fXFvWmC\n",
       "qdPDhdPov/9py8P5r4qL/GCSaufxLzcIMbd7i7hBBLwitMur88vlDlBVDAyd4rlenoyYRL1XL//1\n",
       "KXwZr5M+RVZC3zoClHriY9wVOQmTlaLaqUDYUNe1thGwz5RmuJ7DG21Rf7TRJT9W6X/TX+RsEmab\n",
       "BQXHVfUHQBfLXg30XDP77pIqvs21wBsJNb5Eavv+sR7bfQF15d0BC6+ITGlBwqSn4smlkKxEMh9S\n",
       "66NKWthKDuq3l/cGTIPoSs5KZg85NORtp0lxZR5yiX8KxBc49SXbCBQbqnYv92ShqyKwTBYuoYxE\n",
       "sVgfDAbyhYdug3UmTPOmPi5ly1m2T003jtXC7RHtXgvsVzA9q6BgQ3oHUaqnDMBWXruSAxcg3Y8I\n",
       "hrwbpWv+YtbDXgKVrq6ftwzlU+86MLSvBbDLI0cNhz0Bjo/M+7/iyau6toDe/6lDsTSy/z+97XL7\n",
       "MzBqpelkXMh44MT7k9sMXDHahm+RMxV/ZBI9EN91n6ts3Gn2RirLNKEgw3WEtysgy6hGXiji9sQP\n",
       "mKxTK3e/6gWy5vgBXbA+sXuAmGOvfP+W9kCJmFj7uTljNIR33sUXUA1o/3IHJI8DwLGIQdgfBxv7\n",
       "hqwc79qWd0zti7/mKzP+W0KD0Cw5BYHze6W7H+K3wtKRzEBy10X63WcYJLJCir//rJvpxLwcm6zg\n",
       "UhdPzDUTb6MyjjuhLV0xy5iVx0bb6ubZpCxAUZRdbeKWhfwzudIl0jZUdxJoPKmUbTtkd7G4jlk3\n",
       "Lou3yXB0081D23FT2E4CpdX7swxNV94rydVmxW3PsN1ScZv0tc7lWHnIrHdalNdm+zOyTFJTZNPZ\n",
       "qO+ZTTnfN7D10QRp5+l8fM0DAxiccHKcTBMgSAjCsSE5i5iZ68qhoAS4qEb9i8jTWzJxcjhNTFsE\n",
       "IIWlfBrby2+0xsZyV29cqdtUDvT3UYmgsuKp/ButoUkxUOH5m7pkGBW2BUzhNqIdnxt7ItnhIYHv\n",
       "bCZhGaYXjnqxhCA2p34eKsz5d6JI8KPoD9X485AmGwjFwTKGAmMjjXWG3oOe+PVNBeLmSKpd7hKG\n",
       "WSDsloj1C/6TU1Xha5nj1JqxdxJMZvC9rgVnV2uQO2g412gmbrfjqiaJUCCjtdb8JbFZY9ja5dBA\n",
       "gGOcMQW6KiiFerwUeotyDhHzh1yBUcQOcmyqVHhDNdIezx/oZgRe2SqTkFm4wZYLUgVfaWcg9Zlf\n",
       "C6J1RHGL8RGrIPlsjCJASbVZDhEYduPTdRhPs29+uGsxzo0eDLC+Yfp1ImSaaJbst2UE1D4wJfHf\n",
       "MlA2CsOHVHgB+2xH/KSZj6ECtanDK1XKC9VA2L3j+U+t4Bv0C91CM5TdzteJgg07woQna/telXbS\n",
       "LHK2tP9UePtG2y3CNzuWd6dNVI9d68jkaSkKB0zo9g2fTz1UAWYP2fk3bv1/4HCEoFuV3if9Qta1\n",
       "xc1gtNFsz58gGMn1K0bDEtce72V7rI9nyTHlm7NID3bAwUOh8BpUSPhV80YTjmPuhvORn53OMWMY\n",
       "W/KhhOaQJrHzfihLKnsq2Pwon6NRXKJdMGBYQbD3rRPIRlTZ3g4pBLSRDne4nfUQ5+tbRwEC328O\n",
       "MxMNHX/orJFXGFy/HqnIP/bETI3+WUbJw06W13LWCG9mbXUkiJEIiDYKFUtknOesAn5HnK934u+0\n",
       "0GR74nfr4K49rJQ62fLB0EGVtUQkrOTHycmRhIR6trSzi0gxFUr15v52gzxbiuPGb+T1PKip9pdi\n",
       "WnYEIFV4l2uxsqfo/skkrLXjn7OKjhzE13EI7+Fv3MvOEJ8NY1LqcGMOzAPYdBDp5fenZSsTCQDX\n",
       "a2e1ZIuqx4wGLBB1AK159YIrDGL/BwIN+1NPf8rh49ccZoZGOq7Fb5iPnpC2ga2/O4XSYJLJ+8/V\n",
       "xqaBrDK0tSRJhX13EcvWrY8e5LI2l5Vfu5XaB4z2LEHk4geBM+qc9ThjYhhUvhM/SRo3dBktqgpI\n",
       "K3mWhttQCKFBV/CArghdyHuSte+iDATh34FPNSpgDiSVR/EDjvyxdPVyO4+MUFFwbFaUFwKm4Cdc\n",
       "StbzmbUnt19RKD8eofBLNQdaoadTMyqY5LS2aNr0NqIlRNH3YSPQxY0SLBnvx0ulV55rF3m2DNj9\n",
       "SMcGR/ugSMnJrETefsPoZ2qUltexU2WHp5AjFQh/RT3jIlEGQbVqDcL9lmrboFxsl5shszf/0373\n",
       "gSbpYOJ05JoUHXZMbxAsiDWNVyc5bhgdB+I0jQlE21xCJ2g/XNdhRcrNnbt66GLp/lDGVN03hfX/\n",
       "3bjr+N1Q7v4MjXvE7p05MEEMvt3OOkDdxV8ijB1NE+zTobaOZmWo4RyOpV1cZBUFkb0S02NfCH8b\n",
       "J1M0zn++aXwi0oV/dXcc8m200pWvR0/OZY2DRxSh++n7Ruz8lAx1cSvyEATVLYJRqSaPCvKuUecH\n",
       "13kziOymsM+IJAd+bcISIEUzCWOe6Ljti0DSeU+S2Ocd6/lkwhXg5QWrDIKLCU9qh0EYtu0szjQv\n",
       "T5+JS3EHLkME74JSWrqvzxeq+xn5ZqrZtQKCsP61/peioN1hDJvsnBz4m/43Z+Yf162yVrLV+CX+\n",
       "nNlkLw9OO4IPwsR7o+QpGHaFPhzElSEzhabXr6aPgxgwuD/sP6WYKqIGp+X34NoXmV88RabiaaYI\n",
       "TqvjaYdlWUooFdtBTw1cz8c0vWKKNr21BdfV/vZ1eeEMbqoRXdFfVSLi4vWE3Iqeh5GAAkbFTN4h\n",
       "/ND5PhB1r1Sna2Lf8zXZHadnYmFLGVag0KoH/ok/m+pNUlrDwe4972lMmzx55/5dyl+SYjZbAJIl\n",
       "dld62i6NXYhH4PMF4clPaikWR7apvDv7mh2/2aDZGJyFEoo0Hv4/crm8j8jyLhx7Ygqf962PgUcB\n",
       "nBdh5DJetrenRblpMOq8rAWDRmDYclzwI93IKf7D9+B6rd2/mN3AFo0IbnZEsX+HM+MWVgpzrFWB\n",
       "JAoJC62CiudHm76W95/o8hTbwHpAxlnRw+mdbZtEyjOKe5x9xf+ql2NtCEd1johoar+g2M1OcyLJ\n",
       "tv74ojVFt4F40Ig3qzIC9ges9I75mI4gZ+Q4JnvI4xn0Caiw0Ozd0wcovYpzcUj9xsyZTNIgCKuZ\n",
       "tDhFJ9f5hsz6blhc97gk14whwXsfN9XtGc7QljnV1qpuKn8LPxjb73pqim7RpVfYR4T3mhuqiK5V\n",
       "xQNMUGMj9cb+MhjBwIQIM/CjypoJIJJ0PVLZagKJMBD+JLX/03aNi9XANCQMWQJAeuSlCRFOwD7x\n",
       "0Hc5LoXHwrfYjkdVkbEftb085HCFr9fWvXY/bPx5KUtyj/MIWfwptl0QoGCLXldqYGjfj3nU4cOg\n",
       "hBE1f7crPCMbkE3p/Hrp1xL7uh2/B+ixqRuDT52C7khmBnWQ0jPT5J1KxqKkj9QZktmxeL5w6+rV\n",
       "iXmqApeEedsH9BTQyW9jNSNmlYbhSelru3/31MDZ38XCNM7QcJAVQPIRgqd7dhyBArlCpoKccCTX\n",
       "k9EBqaNrLLACBvBm8xlr6+0SdyVr8EQj7sDABbpMCwe8gXY8AmPJVbq1tAgfsMvQa3r4Y6bTd97s\n",
       "OGowPh5cdDFj29UtFGsKmnEKOCew+oFdIonCA07ma09UeIRtGiw+0AuuxpjSLbiRVIvvxRh9EjfT\n",
       "AqRLQ0z6hwwOcyZ3mkYb8yQyNzdi3v/TstHPqMSC+I/pnTTg3VaqKvDHrl/ehMcdpYWImesqEO4h\n",
       "WfZxDRZsVF9h5wGeisOT/k2mDx+uFBU4+bgVJjKbXp64dKkwS/d+WT73l3T1b2FEXM7ck072OtP3\n",
       "7kpbdysy8pWnyfDbSeMpGKID5FY8t2fQZxoMZL3tm1n42xB0q6nwVa4dkN9Be+CiO5y/Hje3m8wg\n",
       "+BmxOSC7fN6TsTiSIx+ELYG/qxw5pBy7jotVNurYAhblJ4xyZwCLRxRLKaQ4pD7kxoRrpLUU+D2T\n",
       "pQkONZDXeInTAzUA91+TAWKZnOqao9lYF8hEEZM8fJDvp+66murLr6BmWy94zFT8VkuG+G8OsRN/\n",
       "HmaKfnkM7ovRgA5yad4iV0pu595mQqe+5oo/Cp0QxIGM/ZGK/TgnaXddr44aWXTiHHogCD5eamn5\n",
       "fMEFMrePObKtWwfUk4SZ2ADFyvve4KJ3z246eo7AidbFMschruxxsna6pGwieQChX0Ul9qc6Z1V1\n",
       "c8r7tJZ8UyMelxAYpJ3fuKQTDmJEnqxAe6JYhVXcikOd6qYEwAE5lE3PQQ1a8Vx/uWxsA5qzXpIf\n",
       "f+MoJTZW80PFMG7ySQQq9PmYYMQyI0ijhQMH0j1nnJAXpGg4e9FgGtEyRa5yor9s7jLtc27CUAKu\n",
       "nQbUiBWqtXSDcXbRpgbGkQws0IHt3KxosLuSyRSvqP3tZcyIODRn16lsNo/jIhAJOzEVnpt9LDAu\n",
       "P6uGEpG92ZfmOa07NOarcYpnZ5m0HHOb3t72Ixct+mIkXoQ8ofQNMPP/fv6lplrfRSPbE+xktIXJ\n",
       "8yZgp8+wLoGaJmB7i3e3aCJiJ1wfceyGt+dU9puShjpq5hL+hYvQApGEEuxjwwCDvaAQwU3NWhs6\n",
       "TJupalIPlceoP1LwfYzv3rXhE/TjhKQPTKEKjLc23ubSoKhRJJRZHcEbWdhJjdblDnBurt9a2O5j\n",
       "LOJjGefifzQ/J1uKYFSV7HvI/AYJGNSj+x6CS0F1WVcVMH98/U1fzyVVTdNOprxxGGxJslUx92r0\n",
       "bL88Y3c8seYIuBiuHwTIbf1RgdaKw5aezc5JjJNy5RwiQe+067PIREk7jHMhYI1I3NtgM9OSuTU8\n",
       "fMu6b2h/V6OJoZ3nG9QjoQbpKg9ryj5NyB5mXGX8t2eujH0Ubz30jshDwkTtiXuauHdbxWPFcgtD\n",
       "upe0jagdj6Lg0yfIYBZt8CpJmrTI4C5/Ew0huv4ZeQnH2RiC47GJklKvyfRMEzfVk6FjrA8q9uok\n",
       "7jvzm44J236hAkyE43WU650Z/1tN+vDX5ZkxdQByU3/Ldc8bm++jAZ8D9QSv/8OIRsVb8L2oRxnB\n",
       "yguevfIBnKixZHmnWZEn4tO1QvYxi3HansM/QMjPn8zUq8Xl5LGgMX8f5ZVxUobcDgBLidimH3/p\n",
       "pmcJX1Ku1DmYKodaTVNFGZl1PA4EdaESXtxTOTSUkM7kL+f801WBBZCM0ceAEhkzWBtrYuBFHZVG\n",
       "C84HhPA4hAfybsbPH0SXsCfiMuhKCE8MWo1zwDWrd9cKIC5n2gwIO1HlHxLdlHmtN3n7sS7gnB4B\n",
       "oG6JiaBLIZ3NxOPCiMgIEis1EJDfKuTjo1q2L31c5gx25w8JTPcO4a83kgocVnFd8dcKKtdWwUVU\n",
       "rsa4uuk+lN1LMR6e/6pTX9f1RpKvSIC0E07wijgTFJSCfQQXKtMmRLQIbVXjoRitCWU+rz1WFdBT\n",
       "dY1+4AjEmfYVOLJLlHfZFPRgn2LkCWD/ti3mo46j82B+e6ATQhMQ0n1q5kQcJ336h0b2C91DJGcY\n",
       "g559O5dvJVz7/TSwWl2gpUOWF9IMONcjqkU+SJZLcFhzL1ZKP08sRlRFsV0OrSqXnA5MdTb8Lq5K\n",
       "2Dfd/xa55HkWpBIlkmAACggmOV2ZxRagIn8G1r4Tts83XWVi9ijlXlxv8TzD3lCSSrhuyRYB26Kv\n",
       "X3spC7ZGkyCs4DRE89T34BTSDLZo9Ut3vdnpUz/K+8FYLeumMusaHVTmSeXQHRwKF1oJ39MjIqvA\n",
       "DBxleJg6cumWe2lyMZ3jqJwogohaPjCBD7tCV8xMuCJd5VKIAxUU0kbroVcFWWd8zQl1IE0rNZua\n",
       "UVkZbSmthcza5RakrgvcuR+3AQyEW8uJJ+qPOdyVqdXXKT8Dt5uf+vMP+JEkfR1lxuJJeUe60GCr\n",
       "LnEhapzhFoKuO7cbNWWoQPEhcSv0g4e2q+ox/JI5p8nl4m7v6yRbAIDhUWwYMSZch27buP5Y3U/h\n",
       "8WkgAFTfOTE4Psl2VRKvstR/OK/zJ2URs22wyDzCcQ7NzqL1qeqrMRLUzKOK9FUw7G5ORvDVBYmf\n",
       "dm1DwBvpJ3V5FW44kCDIAG8AAAMAAAMAAM4GbHwLiDCn8ChI8ksuBJ/YSqwAkq1I4cjnOUGtgRtJ\n",
       "ZUyX7ijuQBCRzqpeoqKHfbnHoUNL8J8HCD3e4Tc7gCzA1NMKjHmoXTux2hWnrSQAWlCVjGM8BpV4\n",
       "HLhr2l3w+KAUIRDSpNJGvfniflQOlAAAAwAHyJ7wIuoAAF1MMBOv0CjIQHr0GvT/Ud5e6kdFtBjQ\n",
       "ho1WXP9Cgw2ogsSE/94bOYIjz/Yi45+IvPi8DqTeF3SSUVSnjtPpJlrB9+WUs1VsRFh4X6GMGTft\n",
       "bcxiNQ3NR001HZXzbzKReH/xOpZfVI2Ww+5s+AhWa9uVjtOQAAVz5gBQ44IHUA/XoJK9qfYd+RK9\n",
       "yOF3AGIIYY17/6PPuXlmb8clq1qDv9jhUNUTl2VxkWGVYikOLTYf7klGC54/ux1db3wU8ykxQwiw\n",
       "SmuOZNVWwv92kJSbM5qOloYuPUry1j/6stsNuFzEzcLNckWn46m3U019jDLrT5XWmUpgAHLxgAdw\n",
       "IEuvBCxwRdzaPxBX3fEl5+FSgktcOg/ocQCdhJD49eNDN6lnflu9d26NFFsm+ZECxMJ5cujiv1AK\n",
       "Z+dmKhONS4DbMU4oJC4IjmO50aQDToyBpeKUxbHd5M80uGjF+HiztFpSr2USVGdm4zsCCe8pT+XZ\n",
       "KdcYXwIWv7rDPUAVNbgADfEgAWJUDJHs2Idh2bd8AsrFYVS/vzCefs06XXYigzoTma9fuqb4w38+\n",
       "XFswZIQaNIPXeNXH1XFygQD9de8L5reW4C9mkkV0bGZAWTi1zSNZESGvbsHMJuU3hiHo3xrQC5H2\n",
       "5deyYwKzn73ZpyACrSx/Ci/xWJgCyMUWWCufHNRw8YhrYN6GxexYKg8xokgsgGEx/55EGY0FX2Qm\n",
       "FrQT6Sf1Cyp0Q21HnXa4A9Jpbu30a73nqoGR7Jj1LoHYyE8wRHjAkSL5L3VaUbLbnJXSv4WYVat0\n",
       "4y3yzdsgF80iXj+M8vKxtfvsGqSVrEqNdZdM7kvT2QgRcbQgt7vgxyM8T3DGX+b1wRodPsD3Skf7\n",
       "tBEWsT5tkP4wqD2xTM0Mqen0+eoaJ9ByjVnHFEhlB1rfX50a6E9LnP79oaIE6A/jWnqQfzF+s7At\n",
       "NVZgGxsioro9WsYjZ3K1LJTMLh4F6nBQq4A87zOssMqfIDkPewiXEfey0rroZ7KdM5ddJXjSk6ZP\n",
       "EJslDIig+Y/bH3NyBVoyxscpFUQ8IJxL3sO3PgpCCDSh4EUK/hcVpFfzsF6H38ivspRSmG8sQAAA\n",
       "C6ySbLphf1I1jrP140Hov90DcHNL0JpAZI6tLGZNa7/SF1BtlyaIq+yOA4pu0OY/ck8Hn7Z+3RBB\n",
       "1LA+zvPgqJ6nYN+2xsT4778zW4jDlLlbHxI/HLHVV7UoV4B+/xuvkQbeEUWT5UmFkbQ/lWfozSt/\n",
       "oQdgK/jgUrg9dTxIzikMuY3siUw5GTgWuDmJChWZ7/5q0CKW5yLtmePuYsIG3vm5laKOt2rL8n6T\n",
       "8KULZfpaI4lngdW7tLvPaRsLYPaqbChZLNuEZo5y7fkisZJyHZRBZVMETm0Gp0hBrjqcchOX9z/B\n",
       "t91VHfzq4RixdJ9NYOJKeyMqO//bSMDAWv+JNdno4GfngRceZdo2l8zi9/ZENbh2L9I+rmbbVkNu\n",
       "yd5bCDC4uIW1L0LVWHfaeeWTPan5SJ2+Cp7ojXyObbeeb6BLlFuVh8EgALauHn2EBFlOYXGmD0wR\n",
       "bNvOOJW4CjDz5JbDe6UwdGOHcrfY77KOVRKp0ZXm3Kj0t60yp6Z8ZLVEeKZaQIwNgx1a9fjd1EK1\n",
       "Xoa+iW4UlCLsQzi91O6//zITcim6q6MXBj9VVgBWBU7cuA+seqahWVh/WGfv/TlXaJCmN0fXdZmY\n",
       "sO7Q/Fb2r8pOt4Hla4CFTEPRGGUvHZj2gZnRrUzVaRrGtBTFUVMNpx3j3CcgzyCurQmPsGToLNOV\n",
       "hhGyH9Xt0HOUSthMALy3Rv5VXzn8r/l8PFXkUvNi4k8bTjSDykLNTNJ+atBvYqR58DYzPi3ArzR8\n",
       "ymCSYBJ6elTdBykMZGgmFFFZVlpqTqtlniq94U1VnVRK+nxJ50g0yX7IWXjHmM9ylfUzYPf8Fsjo\n",
       "ZYAAeckpb4AAAAMAChkAAAdUQZojbEEf/rUqgABXfsMNYuvwrsZ3kHQAcb3MWOFAE3CcRfr/0Kch\n",
       "jau5w1+IeuJ92pDcEZRxq9sABAk3KC8Bq5vKGXJtgLObWtgAnkfRqhzODRG7dPpfDVQFPdzuwmxm\n",
       "7JVYmEhYSIxSIyWwIA6Kp9ENTcYSCtIEKUTlFI/aMtdC2GJdFn197Q+Wlu1Z+uHK5bylEQGa3hOV\n",
       "79tBLTcjdMLLIU16jyiOrGyEUpF1fEUBciBB36eZI5+8XsNNuLvqYgRp8IPaunga7LvLC+sWFMbv\n",
       "YkGHTEhdut/CRzy41ngI+uoEx6UjwnMCfc+m+QYdxsENmk9DG9JDrX4sfRahoQpf4g7s3l/XpWjK\n",
       "R2Z6D+bZ7hRJvfKhBzrrGVqzfShC7MmEK0fQw7b55nGEBxbobQebmEvqdC9wxFmVRb3XzLEssA9d\n",
       "dli7FL96bjHYxupTl95qa5NS/g8c/N58SwALULC/TQfe8VSIxo1Hn7dbIq1IMFaof1w3W/lGX/80\n",
       "NzZ5d3W3YKzPqDXt9VjHPHJdCnTdLZF6w2nl5lEkePayzithYjBVo7ME1UYWXaTMHeZXcNX4FYnG\n",
       "CxId2ehKmIVWo23H6GB3zj5d9xs3krRmCtFTXJAecjrc3K/uBQt42fnho+4feDMe09XlQ1AgHPiu\n",
       "j+TPtsnkIMI0GO07FCKkKTNLagASDUmBVdcWabuAhEdTxB/s/d/VcbG/svdNEu+1GhxoOutgVPo+\n",
       "5k7b68txGHPGAZNauECZrI45+Jvlno1LTOBnq8afXwjoXx1jZAI3zODnRAvlPFd9coAXtmbrcNPG\n",
       "sSuXbFKXmC6MJAMfc8qR4OTSB2XADv/ewn1PvAwKZSo2Gn60BZHD4C5B/ioLOcAPuCEt0G98Z8FJ\n",
       "d1UGssnQJLN4g+6Erue8xo3WOmbmXAwiQCRPoelOOpm2rhxqWMVaLNfM0qGI+n98gsFZRBtbQYGW\n",
       "Dq2DftZfaAX5s7cqIcO98k+tN/EI+VooQpCrpTgsulZYILnu8qs44uYkVE8xUfHl4kXL65YxQ17n\n",
       "SOI5/c+RU19QsHnGxEBhsFtUa9pxfyA3Qkq3+qswwsmM/j/uQrpmL9PYiKNSHooSFcFBEMqbpemj\n",
       "0reogSjGCkyI04+HvXCv678xsKCDJtcOEmRyTPweObfsyHbVXaECFA85i9TPt9C8Bf2ctAFV4NiL\n",
       "K+vpYYbX5kH29kRNEebPfa/a5y7vjD3nt8smAwTRc7wFGmGj2I7f3XqwTy4vtFUdudvpf84RTQRo\n",
       "CjQh1LIZpoNL5Oxa2dUaEbopqtGyS1I9jtiYsv63XHpx29l6GLHai2nWI3ihe+673ipvZPTmdkBk\n",
       "siilfBRIsA8aJ4T4u9W3HMKNgQgDNfQIcnL/4fsPWotK9k2XEql/V5Q/PL5aLT4RqfV4Kp/IHvFs\n",
       "az3nOyd9Ku5ulXiwtZyFm/o7xGuXzBx4ho46XFD2IPK72NbKUaO7DTX6Xd5xeAIXI/Z3IIdj1zDk\n",
       "DmNVNCC/ex3T41lCseP0aeAmXUuMYaGERBQvJG/PmRDPDc6ZsL7DPjDhwoMY7EnC4Gp/evFa+Mfi\n",
       "LHUcwGuPgHDefBuHG7Rd42swtPbCeCOcQ7X6fYP+CupF52ejOCNctxZEK+4d4hEBM91gys/wtvgX\n",
       "kJLPejn2t/pD/oCTPiIJuaXfje7qwYnmxANXIYBouIFpSF/bzJ3vgFCSEPmGxL87LEOX3W3Bkohq\n",
       "RTxL7OV9vzKnUex7Em3NFsuwiYjUZqRWXTSUbnawV75reOZK5Dd6uXSCNzWzjGBAfe3ugrp0ppCB\n",
       "qAujAjGAAvVUmbV0rya8bv/zaYCk5e+KEUa6b8xKZxl5yD8o3ZD0h9WPsGnQJdDGEl7m6upAYvGz\n",
       "AI82SYoqQ5WEfQSnc941xmFhq/djKkWEHzBkUPkFmDDM/7SjBw3IqeNmKM9K0iOB98G/VhL/TraH\n",
       "CKjhQWJRwJhvrqLKWWupWHEmvdsaKpMAeKRe2eUGmo1VsQ84kyDoPhS9bcHqU445WbUqChosUk9j\n",
       "A6Knkwo5aLXGsUUFWajmjZ0+XuvYCHWtUsEJWo//GSmOe5q+oz8T/K0GYZ8ZMIwlKtX3tsFHLzT8\n",
       "zzNJGOfJums1Yks7MpTJ3LEdZr7sgmXRGFvA78VpugHpc6NnwLxn0lKKUvN3z2FwPvoQxPgnjT1X\n",
       "gs96NSO1wOKwdZlQ99MlQP5p9RLX98HpOBz6SqSnGVqZGkGMQDXDJgmLK/bj+W5qEUpQK/Ntceek\n",
       "iHSEhcJGkry0f+DCdkIMfBrOj7OiKEz5Xy/fRx5yr/IgQLSoy0IC+Pd0KfH+le8/rfp+QK3FqALG\n",
       "xM1XcX9ZxwLIbiidY80B3NiWBu+/Dl4G0BJWIpsVoxPfABqpudBVlkawwNkdXCG8aiWxYGCAD7Ko\n",
       "t/vUr7+YvrMmapIkr+semCU5LQe/5XGIXszjyNw+nkM97RXZ4x3jq/md9EXzEYP5Gx5ZDsNgAAAQ\n",
       "xa0/sbZ3vcGymuLjKgAAA+lBnkF4hv8AAg0u0ACdulKG0tM/4KwIIfLuDX4A5Vb0Zaa83uRztm49\n",
       "1NaEkcd5ZSEp/CnsDtSq0RFYu+h5Qx3Twxs8H+9RrwbJGTJ60iCA/sl2NgGuEk8xA83cMs4nrPXz\n",
       "x2PIooSEP2J1ny9W+IPIHyDxzxnYPIIGM7xbyScugQk1rL4wfllVKGezt3oTL42gGThDQnEeKirH\n",
       "RLVQlFR83XCYxC+l26/w329zuue1m9ypIIRUFAVRoXt3QBkeoI1iSnyjVAWr1KfkwwU+WF2zNMDR\n",
       "V3k2MI1J+HKmHCvBKFMGr8WsnBtDjRu70JEOSh2ExU3yvzHjDJLdno7MyO8JkYtN3k6u+m+XPEIF\n",
       "pcIxenzq2gC6Sw8k5KVf9Wl5GRxPGePxirxE6QO7XQZTCNsweohVlygPFufb5DJ7WQJmq+Uopnsy\n",
       "ayECgRAfKaedoMGQd8I/4BjeAzoEHOCmV5bmbCWEh2nc75JHPq5TuaXmpFliWlqB0AHgA71nuo9S\n",
       "tUR+32B1htWIQj9PjEUdytz43F3j6pdodNW1qvAiWRd1voxuY8+7vnQ85w/gRUoavBSi7xjz6WyC\n",
       "epuznIy4td9cA1ZI6TFHc4+ttvZWgcZZkf8vM7Y2Lk+sYauNjLB6I2Owl4A+sY41Rf6q8LWXpgDW\n",
       "tdZvhQ9ZVQYRC7QhG0/XCMwi51LiTdZ2m/A2rc4Kbpb10th7Sp8lw5bGCz/n+t27VueLKu0s5cd6\n",
       "+KexPXxDgypX5F9sMjQ0RW4X3KN1qshLcwG2kLHYtx6fXsETptiaY08Zau+z++nupCV2lGSw7d6h\n",
       "boFYW2PyEjK4y8tO5nSZzNhoF3Hu2YBYc8vxL/iuA5Mjbue5JgT8k2bXWYVCN0ZzAZAgJdt5SFzK\n",
       "5QcORuWN6KnK8+CwiI+SjX1+GcoSkasLI2VOq87R2Z8chipPTp+DzsiNXaxVAkYvbfk6TO5EcZ4A\n",
       "YpRmliRjxub6A5WB4E+8Kt0sHRjfydkO3wIrYq6Z7E9n59t8nRVuUgEvOaaEQttU8zZq9J4DGCZq\n",
       "jfxV+oNzpsOffNkL0VOmCUwYjTOkwZ7l7bQKU3RZLfemAXkNKpf7VIz53e8S/pulcWDNvzHkoXJJ\n",
       "NGbZoLWgF4XWqcu+PEyWiTT0FiU/OGawueNhT4LAqb/Q7BCvG1CltEMydDHLThCwVX/3nl4mH/l/\n",
       "sGGiWwnFADa1498JH1ryEUzib2iyO9a06ln+7ukOMjD4qspECzXoThhcnMxWstogIhP2B6H9vlPZ\n",
       "CgiF4q+sULSaUBj5U9ayYs5JHiyORuiT3d4QFWmSFU/QMIkWd08MLMAAAAMDLACvgQAAAoEBnmJq\n",
       "Q38AAgsZKRhsPUba8AOZrLcwAcYQlRzHBb9zT0bPoKhE4j83atawpO5daFu4SUtjrb4ZOroub8tv\n",
       "Jx6dY/6PQNOO8/XjWIlN8UXm6JO4ia03bvx8cV9evuGmlx7zLtVLtmL/lf1qyzy0C6et+jKxIWJY\n",
       "pIoU2l+ijRKyBzFsZXXQFCiX3fu26Nqia3BLNep8sVup6aOUs9zY/ZKZjmKM5OND4Dz44btRttar\n",
       "RXMeMxiu5vn8C8rhJkPqDq7H0TUFAMy+LMHtNKt4VlxnEHmsxpcoeJHANP8c5feDbhCX8gt5e5QB\n",
       "G/i8dERBzyfutzl5LzKXCECJe4uf8vVLExJb/UxZraVVFQjhwB+KHW2CDyPxx6Q8xnI4OrpPZ2eq\n",
       "rATmSIU8oinSz+XauRTh/c0R2bhsxHIuWttK9LZeDAW8Fh4KrE95yIWtl1weF6tWCOKiaJkuoRx2\n",
       "L7XtsRAewmmuiw/p+9tvLS7Tav1XrY1hmwJuT9SnI5l8NqemjFqUL0ac5eLjlFT0zA7xoGKYNP7H\n",
       "8GaewRBpuivlxtxBdsZTJTIVvN2b5ty/eg7CxkKeLgbENWM7ua2LfHOwo3W2/Bn1woA43x7XFHqJ\n",
       "+NYZ+IFSHdVYwsSv4Oozs/YHN225WAMW6mdDrjc7ZJiU1wNqrA4VBT5qlRoHXrJutd3raQ/kPajF\n",
       "rKFUaSb0WqcsJ1viGmBIoOopO4Vy1rlDAgmiF3ZTgs4j3MB06elVGL0bXgYzeqKBq2z/JiuUsuJ5\n",
       "QCOIAfWW0LnGYmomOr1oJXwZc0BrJMhZeO5o+QZl0kuBrxirzYZjd/RUGcKabiSK/ZFJNo5lgBzA\n",
       "AAADABcyO9eOWAAAA8tBmmdJqEFomUwIIf/+qlUAAD1e9SslfX7YCMDvIzjH4/X5rLEJvSgCOkKc\n",
       "YtQ0cFZ9vJ6YAhrMxVp0MPNuVkoGtzo/msZpa0z0ioe/TQJEgGVqyoyT8bxDPXNIlK7DqKdQXWUK\n",
       "bklfwjSUy27Xv7Ql2PpXGkbO+wP/iklQz7MSksH5riDbJ2WBaz3N4Bsm1Mj/yv/YtTuzQQJLqTkT\n",
       "E4MkXqPaRYrCBfHB0jfdi/8FfUF+mHQD9d5ypRoB3VQThwRpeKl48HHQnvIQXkcvV1R4ojfOxlCn\n",
       "AnailpktFt2XVfc1uXiBbLl8kCM5P4plhPEacxP4HClCOCYpClYH7IikNIW8YRaNH0FRTfkFLZhM\n",
       "wDmUEXop4ijefvv7R9IubJrq4bgMJkpLAZWiJFu+Vaz2e092xxsYttW0FiDF1i8f6Nr+8ep0Nwit\n",
       "M31ZauNhvHO+/+r6JvOpRZHLAAA091SxTdGkauUc4mpLXMJAFYRC3tO1pDrHSpB/GKTqiMaHeqQ0\n",
       "pXtD862lZAnO2QfXl0r/Vo8dhHf8aydkPLHHyKq/j1JvaY9vwwXixAALT/fkeUCrJvOhgvgslSce\n",
       "RyvaemTHVlRvQqaUmyATEUNlvPPArYkcpLpkROVA6aQxbQ/jdqJpTL7C/6ie4jbJgi168UNBgUr+\n",
       "QJyMs3ue1THiPOkY+kW8kG2QDMgmhjUMbdZ66qopnZvJXwrFEBLCMvtNw1sA9piSYSABnXP7Yxp0\n",
       "kpNOGun/z/aMRanyHrg3kCd7IxgIOwslaAQ/wof5b6Pbq/OqVtESpII0LGlCfzmOSol6gSRnUM1l\n",
       "+8EmBj4lsVpxtQmABURDoZOpx76jEoQP+8a1LytQ03IUt/x1PS/KwcC1tGdjIibmorotUKGWHJ34\n",
       "Xw97/QdruWO8+Gr3zXarCummoTpcsr4Ro0sllNF0U6hQ1LmyACwhvo1vXTJVerNe8kXz/fr96N0C\n",
       "XMjSB6GGvAX9P3fechQZJU4XQU/y5Y9/d3rBsFSvUy9ke654NiVXaYOKQVV8EemC0e+Kn152UaW/\n",
       "1UTuJkpQI969m7gf1eYBpCLk/mSFT/srtxE2L9TrconqjAGPAENbhATDs0eSbXAbWRUsYmHu/ra9\n",
       "D61xtw+2y7mGd/e143BEm9aHZYI3Os3j53hiVwv30eh6X1tPyBNHszOZKx+D6JCC2gEUwT8WqVrq\n",
       "U4Lc3aFrbwQVeGNoctr+SXny4UCCYQ5ZayB9MHH58AuxdEP9rVMtS5pCdABnLILVWSnM5/y4HfM/\n",
       "39hhzruilgAAAwAAAwAHpQAAAp5BnoVFESw7/wAAd3QGy8nEAG0VxHVhvAyY/wywAV0vGQ2+quOx\n",
       "CLhWIPw9SKm02luKmitJhKkWuCUEfWZK2j/ow/dxrE4U5L6ukhCiE/LKsUO4J/kJDZoTomuiBZGf\n",
       "GJQBnHH2ND+rw4yKHqHrcokDNiduVEoN8EHrNsu2VopDqEBNMHoRP4yTUdDgJ6/T7KmbBMTMg4He\n",
       "sf5TGzHLJkqLtyuSogdCCEPniCx4FTRETW8nPxWROTlic3rvtzHrp7M+Kre7FT9uAeA1/+VXnzYB\n",
       "hEZg9ggDSqOW/qzqTotWv9WUaGLfcsY2r0GAi/a1DdlO3pQS3Qm2qLXGRYPXQ/7oQMLkmw8LJttM\n",
       "I4KgvY9pERH7x9GUz/ZKNaB5cPUOIIn4fWCMYwVNUb61eat2o4D2BB4WAl9fvmUCZRbpPtSEKi3G\n",
       "T7QoXg/FyCIqiKqzLVUkgg9fdxURwKz5nlX5tPV2VRmNA6llnjxjYEnynr3P6AABVjss3iKGACXh\n",
       "dm0W6sA0jDMS51JviTSGj6GcryEav3Heh7X7zk+ivynr6USqYYTw0w1AH8PT/+uQIAHUbazHAhkR\n",
       "1JX9U91ykORN3rORWUSgDKfbiWyRJacWw0FZDNEJIbz4iSZeAedyrbWwEM/kQt8bJ5/OcVtuM/V5\n",
       "MJCzr3EmAMrdMVIHhunUCLfViTbIweq+aLGtjhXodJbEkvwYrIAribdjTlhHuelTF/ZtPnhc5/cp\n",
       "JJr5DIFgzY4J3rEfrS77iidJWWQRc59/SoELoDexk2rPQbRoJKhDRX6xpq/P6eoiywfVp3VMQQ9k\n",
       "l0Zg+pFv3xFkEo8aDBgdoBfz8zinkp9/qkg5IJY/tHE3iQgLi/k2Gz7Y6kbBSQiB3Z8dHjb5wAAA\n",
       "AwAAAwMXAAABtAGepHRDfwAArJ3RnaChdoaAJ4MuIFP/roNeohhF9Qu+jqPCS+agS3n2PyJaB6I9\n",
       "QuDYYeKMMOzRKjLprZjadOS/KE+2sxswe03//G8Gi0lRMkq4UQN7Is+3EAAOoZ/fwVM5Xz6bnxNi\n",
       "cn2v2dMmelEfOfWmQACKJjKfH+Q4fhPrrTCUp28U22PM/zo0vSctl0p7tslTABYi75YP4QRLNML3\n",
       "WxvmPtNa5B+YYNepkGu2/QmBqoO56F4Agv4kI09OeLH+U3RnyKiR3npOQSGzK7AjB6oklpnM2HPS\n",
       "c11qOqWGQVa2lbvoKTCJtR1EpATb5Emu1HCB0pV6jiYVlnp/lGQAWe3a/PBUiDNshztwi6tFAIU9\n",
       "C9ADo6YSBwQrs0av2mxdr8yE0Xpu5G56uXhT6tR1l9VTRGHBEDL6U6n9XGHmw3nQ7rcm1oQVvIrN\n",
       "ennGFS4YwUvQJkcHAauQZ+/OfFrXRoB07gm/DMOYGc2lF9NDMZik667lmvvk4Sf5MWUeLnyOGiuJ\n",
       "L9CYL01Akl0s2YpYaU1Gz3jyStsKsimmsu7/YQLMy5FqtclcVL24AAADAAADA1MAAAGJAZ6makN/\n",
       "AACfPQkYq77G5hmRErgAc0FmsAdyWw9gkgIoXVc1VXI07GbXQbr7wBwsgnxKYE7ySVIhb7e2keyE\n",
       "m0QiBY8LdEVTtchdX4my96iinbjttZFiU+lneA8sKx/vqgMeSRnXO6wDjEdRvjHdATjU9aE3FRXB\n",
       "UMTrdkpsvaxQSASU+lX+og+MSmn6ayfyes/VWF2PB8bS3aCrrn+BdKfAnCkjf6B1527jQ41BpQfp\n",
       "9+N4FrB/yYEUSqKXCt/bwbvLgOarOLQ0NBcS73Y+GT7GTRxNTbrdgXUnYDdQS+o6E6duOPGv//16\n",
       "UNWxT06paNWL3nvHZyX3yCHlnaI1ogKqIL38sPfvLVwkmzihJ+mmb6TYlG2UkqqS+Vfwas2ST1Qr\n",
       "RhmuIn/f4IMGGbiwFv/nkZWmLUsszOaV5rxld83Xx0wr4aCJlV/Q/0Rw9kYc/75C2Fuw0GMJ098g\n",
       "/SJwBmdRLXCcJhNlITbqvaKK6fPXzFGyNfGbsdIi3SjyVb1MBAAAAwAAAwNnAAADQEGaqUmoQWyZ\n",
       "TBRMEf/+tSqAAAd0y5IAak6RiraxsjKLvohQZPuQ+5LWe0aSWu2zFzFUT4bDYUJDGKgXmzdwuySt\n",
       "kuNtHLzHZmnA6gjUBR5KfrlDVfkC67hsEa+pu4niMD6SUxZ/xr4O/bt/rh0wOLMP9riwNXdFHbdb\n",
       "u20mmWaLuoChzVDsmijKDBZG/Cg38gpLpxikQcpF/1NRFeNCQYNyK7wE0+vqe7RjVXG2AQh2h0iO\n",
       "F9re90AkySRduJlorUxaUCZQILDiP6HcM02RnycPalPSsg1v4FbogPWkwIlJXakzkkptBY8vV34J\n",
       "i57+FI6qt/MTsRin0GjrNXGLVAFrMNQdZtXmHV66G6esKBrhf68TBJSG32qw+3niH+ftVB1ZI6s3\n",
       "A25E3iShPbnXayJUr5phUQl+9/2jHlrT+V8rBgus424mlcTs2k66TPVTUX2yEUmhZj1xZ9HMBzK6\n",
       "GzffTrRrwQHwMfmeiXdasJgTJOG8ArgOE9CKrqE/A80gpIVTXDe6lkU6JSqonsUip7KvH+cMh219\n",
       "BDLud58d9e+b5R4eCHMgg1qBZCe/OAoJBIT0a5K54laIZo8wrCXCDxHtX+5qie5Jg0a/V7R4M7ON\n",
       "3NeFd6fEcVwPNCEeLoLYHrKOoPnmbcu4dnOh2zRQce0rWDtUdMcn2P4pMY1Iojq63J/nyVWgPj+p\n",
       "8qfH4m7vV7hSIjU3Uuj3tN6bBjQ3KSKR1AXZDpcffY5y5CheNHYG9WIDlPBJ9X0dgLIbN1wcb+iS\n",
       "YbDcuvHMVQ4g5RdYr5d7XQUYQZonRlHX8aKMgsvGoefIjYt8Adcaw9pZX7NPlCI5jhcxrV3/T1u/\n",
       "Zpr/1cUYAxZ0gBXckLhYtOlKD6Q+3tAZYnAZwMY/6pKqYp8KD/gmwradBQke7HSINsjzKj1N312A\n",
       "8eVn/KlD6lrpoKQWnWAFIpiQ/yn/siOWAb4zk70ucb0ja5oA9TeX39aCtSBlXxT29DhgNLLvbAmy\n",
       "TnTpIIBEhT1KKzlOzjGUiWtzylG8YyX9LQKMJOJ6t2INztAOb0eqXx40u3Dwamj1aeFOv6RcaCFq\n",
       "uM12qU6AG/7o9ecZ7jMs9FwGRJijBKYQHHAAAAEdAZ7IakN/AACfTBAMwcPoKXY9dtwdGU+h3r9a\n",
       "x1CrE0bI5T1kiywu2q0tfNw2dJM/05gltOH2MMk9tmTJdTMqWQYLMjceCMAbCB/lMrjOlbjlcFqb\n",
       "Knd/drPb1MNg8olrAsbb/XUTrvEfQvd0i07m1Yp9EGcx7CDX54InBr8TAHlRtlt6MAwSqBfn8iY2\n",
       "+RwtPRNWuZRJZQDpooVJqIkXpELmzAhY1/rTmXuKDQq92iR5+YIKJJCtzPfwzjBrEGOgkvgvw6a4\n",
       "VRAwcKN7QFZG5sMfY3ff66fwBWFDlyQVUM6diAW+ZQ5U2lV1Kp7udHd8HteLTnF0rm5xA23wFrtw\n",
       "Rx08uEeZnKTKY1/X2iqA1ah7f1ZMAAADAAADAAW0AAADpEGay0nhClJlMFLBH/61KoAABvvj5uIC\n",
       "enfhueiMBPgBZnzq545/9u/Xm2ozkC6rYNgS1i2zsrpPq0xFOJdxHGGhqefQWbrGDqBj1G6gb+JW\n",
       "Lzve+jFEWuIgi2ZZe/TBOupUv95Heax6ead8v5f8LLubHcsNxiaipGEXRJ5d95FOJHOmnUkZLOX2\n",
       "jQDcqx9y/Yftzoe7S0yBNOhnz0ninnWgiE8HL8TTxb6/1i1NqSkAnajkfjWibOQleCqr84aRlT3W\n",
       "vvXzOOPUq9piMkjoV3955BdDv+a+W1fRmEjvCDBGrOosWKz9LFisS//CGkhcDI3FqCjXzCBI75AZ\n",
       "QB90ifqVLHJqm9mvj/U/OCD6LfFJETXOk6Z0s6Zm3NUtK1WOGaP2q/sqQ+/K0tASHarjfIP96ZUq\n",
       "h6aMEnq4CPXfJN3KdWJCdSPfn3wCCbQohhFQ7I2RC2uLjVaBYx+asRJ293diBR0F8l8ub0VLJltZ\n",
       "KEYUIAkS16wJ8U5rcV1qSxyJd4y0NmBDUJIGzI8fPOVl2s635Sycmzo4+UVShV8H8BHG8YOAsqYO\n",
       "9R7htkMN+bHhe47GPW+febwEkULiIK/Iri5RJ9NSDfYOv+ERWd7LRNEiM8o93ysoLW9KHFXpn/9Z\n",
       "reZBOcANsIsAKhtX9Bkis4UQHE9LGdWEumvw8cLm6U3AG0LvfEWFDuCOQf95h9LAqjBD4Lb2svF5\n",
       "CQU2xsOHDdNr8SXJJIRTnHLOIeQlz4q1Qz4wMo3D7l5pucPineSqA6K7skgEQPrJcTs1/7Z56Nfz\n",
       "jreIyMMaIz5EFmq5rAj0Fw3TFDLCbJ+0f5/GzAzlUYnAm4xBUSUDLE/2JU9T6s7M8Wrts/kMWUo7\n",
       "/x2ReUvRC9QER183XSSYQXhVadnezXR2g2Up+pXK4Co9IUAQa/u3E5zgmXOdlkiTEzFS6Bt7PqhF\n",
       "e71EDi/5LzDo6Wc3d4u7Tmc08lWMYKNQVe1LKrg5HP7k81edSWC1lKevkzFP5Eou7XD2Q6+pxgyc\n",
       "BH/kvuayAsSbzgtsjYpx7bTLoQCeokYsK9v/hvlepWeKNLHhsiPW/tQsEoDui0e93yqU41yUiLn/\n",
       "L9aO2U92AgwJwJl9nq/bYpqT/wLNSL0doDzCYRh/ZgNC82yBKqC6jCyiQRslKT3dsXaf1ZGB3Y/y\n",
       "pYkiIbaysol1HPIt0pVhNBvdE2JaDVuiSIfh9sq6tHabT467SfV3TY/+IVfbth9hS9kZlnBRAAAB\n",
       "EAGe6mpDfwAAJ8xALj7LWuGe4JclKS2zUBSzdOGWCkl63ZfWBB6tV7KSpOhdLIqUkbqzJch7bVff\n",
       "WPMp20tm16lzeG9Tze+kmf7CI+LsAL7piBZGqxkq1pijkHUQSn3rli0qpVBgyirb8KcJnDVNmM22\n",
       "NxOMkVYorY6VzdwKdjQ/53CYfHUgByb//SUTunTOdrLXUfeYjYVZGDMoswetI2wpeHCfUcM9+qCT\n",
       "WMqO1NC7El/xJKXpbJYPISjCamBGKU+aTUqzyJFHbSbUiJhhHOXbeKmdBWbucjdflPxk3a85uIRA\n",
       "vAf6y8Utgi6trh0oLObv8A2T5Kd3XlNTMZzf6p2eztTwAAADAAAJCOH5zUD/AAAES0Ga7knhDomU\n",
       "wII//rUqgAAB0h5JkY51YgCH0Hwc3v+sszcRhY9ZUvwd4lynwrtxylgxTk+U3l0j3jONZq80XFMq\n",
       "kpxI+f4RSCDjFjiN7b3iLxH92UYZ3yQPhqeVf0c6G6I3EkT22p6kQtcIi6COb/7Wzm817aaIqdti\n",
       "EFirE4TVuOQQ8VdWfsYx9D0GHAypmCcfmLF5vmAKo0q1OHlQ67jCi1+NnAJhBoE0TlmuclEG66n4\n",
       "oOZIWGkGdA0YGhgRcTQgDKH2MnUTBVITkZH0pyVv0ZFQavCFBpzEIJ9+f0HzggfOkN8hRSBh8IfF\n",
       "r0Veo6scRDquanKFPs0giimHxVtA4EbbQj/Lu3MFtdsZPkqbAeOC//36KgqFLxhLsjKPZiYz8Eqp\n",
       "GtIyMjkOop7H3unnwsvUQG5Xbc0m5A5NFAcfZy9g8M1s+bXYIQMdLC9ic0EuH2ywxuQ/Ec5ERjx2\n",
       "N5eeoafLZixZfJFKZBiWrQrRqRAwD4AxP4XNtaKAipgWRw+SPi3vMqAIQT9G3aubqq0I3NshB8V+\n",
       "wxYRfqYAgmznveEdc2qpomoO9lty7Vff674Eq1i47Eeu4JZrchQV4PPT/PyqY1wB4ulLmu2kSiV/\n",
       "dFe53GqB+HzX/GbZMjCO+LTG2EJ6A358QmtvfrDjqw2dplSlxi0lNQb8k3O0f2nicRncCFMm68nH\n",
       "41s5XCfNWxqlOPDIxN8auZ6R9WIIH135neDZRexp7E8p/+wGR9cf4wYB9BZhmfPQR8hyNX3Ij4us\n",
       "atRaJIgmaijwno0ukfQPPYODT6mWOYzGHJeObiLdhlVH1rjNNBMe1PxORCYFdNgvgRIl56Fd5F5D\n",
       "73XxIGo8VWexRUcIIDTi//WE9CSyfOzLcIMA/6uk58vn65bk29Ri5PW6+ZJNOWrOQqB+skoh5I09\n",
       "DcmJdjmtHxeDOQQZBrUPw/ecRNBFzKOeFOUn4RgG1Q4McPHA4M68FBbgFIfD0G4t9QRUYWenFELq\n",
       "fRY5UmP4wzGcIRC4D/rlo3WfF8xtQgBmTkuqUL4r7DMi35o4Xh24pUfu4RTYl9T5Cn77TtCyNHep\n",
       "GLpFO3CzomN0A8JUfbFf8/vJeJbNE1FCxX4kS1TwMgxDFcJr8erEQjaQpiwJ70JMWgEaeZJ35FNO\n",
       "DswTxfPCJXy/VSbGUoBUKpVsnrI3APPqBcfKwz9JL/th0ieydkT7DflSyDXe6r7XvK3KJkZZbzHi\n",
       "gIYmsiiY/jER53rzMni+90bfxWPzydCAKGgJeboiDtSmBHo79c4UYpibxYrgHGoKWpFTof0KgdaB\n",
       "Rv8nRqFeL+PbKYj0EE7C43G6Z95LphhbdDaVpq29Ly+HcSXgPS5DCi9rejnrc/fxCc/AMykuQLt9\n",
       "8uNP2JmPvH6XOCoWENQB00U7Nplk6nNSP8Qc7N6mqmukBb5R0E27ITrhzYGEq/68n28P6a9/qRQv\n",
       "BYzVGwfAHLAAAAFfQZ8MRRU8N/8AACfMQDMwRZkWHHoSdA2RfLRtoqcxgphOwZ7lroJZ+hIqrkpb\n",
       "1NCweGpNSzi6eAXeRbz23BleYO5ypjn63vMMkIcyp1p3C0xkxCaighhxw6SCrDH5Gc0LovvU8767\n",
       "lbUInwFe3lyjHBufT/GJ98b0N79rwGiOoUI1WFKrHCFNDEg0exsz02CMPr4JgJtTH8jUF+TTdQi7\n",
       "KVFYXmUq00BBnpTRp90MuDYD6O8AmW3kysmFFMfGkmlMYgr/CZ90HPXBBP7WLI6UV3yQQ42SCFC9\n",
       "c5X1KnEEQxzqopr8s7ceTnActBSKG3oYzquPzDC37KDfiv2IAYTj06Df/SgRTI+7bd20MQUHgyUp\n",
       "4HDQYFKvPo0ExbdACxjaZe+aHMnAK43A3j0wNmTMCFd75IOEBWJrGJEQFOq6Gy5Ortsup6XIpC1R\n",
       "txZ4/yh4GvCDp8WAAAADAAADAB/hAAABFgGfLWpDfwAADYF29C509rgBA0uuXIvNtw6Dpmna/voU\n",
       "lJDdiUf/4OyWqKS8xOfRqdZlw/KX4gevaUppPC+TeMAVxQfxfeoYl7q0nNzlWSp0n85OERnf9XJT\n",
       "fVOTqu8gKBQr6o5MTAB8US9vVO/TTcoHKK580I0HerMYkfBXUiV5nSAha1RgpbRnH/ey4KqnSZtX\n",
       "fFGwCTM01TX4YduzbP2tKRHOvTn9gdeDULnlnQd3amswogxf16cUdQc0V4cdvqpCFvwONZzd2G1E\n",
       "fx+TulMwEwpV7YHS7G7SMzIrDJ4pQ3887hzxTsFAqD5Qi76wyx/HAgRpl+cjpUVkVLgZqGgXkc8b\n",
       "echLd8UdIIVqAAADAAADAAGfAAAEpEGbMkmoQWiZTAgj//61KoAABKf8fUZg+BRhcHcXGmrjlmiZ\n",
       "HL2SWBzJUyKLF6+r+HygCCryM3Zt/r+6fVfMcbbAYdg0TncS3uc8ImLhGtLs3Snbl4ko+oelxu2p\n",
       "u87eMZtK9GBozsOsegRH6pBuuNy3Re75I2h1Wb7xP/aylK6Z/8qiaoKKsRJT1HhJpMaSJZhz5G+g\n",
       "nfLGebInBxHNf/12a+UnQoS8MJfzDT7kLgUvP+WBgrubf8s/5R9sgu4Jrys1tO6ZvoXNZUb/mMfy\n",
       "AzHyCyVGHvOKJ+7q5yp2LmJJgY0R9XToCtJr2Cl/97Q7b/1n58NSwUY8bLGfJP26xj9bDrcad8cl\n",
       "w/kavbmDQfo+qpIapyI/CPz9qG5qLFKukKXYAgnVc7un/1TUh26/qKpCsMXmvDKXTWaLHdGSolXJ\n",
       "+dhra7ZVRVX23uYi17xMNOUspJxUi8XLTroFRJ/d50ltu7xmIDPUY5VseDMQMr3/vknPbhy7N/j3\n",
       "CEBNptLcAUKBNNaCHf+0y7c3hHBs+3oaqTWkXwnLlku0Y+59sdk3EPNa18GcWDJR76tUs+UrlAV+\n",
       "wk6wN4d7PtKDN8167zyhICCrssH+KiPIG2mXxDzvXI/U9bdXp1VGPery8VY2euzf2lmoirqhDvle\n",
       "h1RGW4EkhwpOIqYHNP3xMTLXdiKaDum7Vk9Nd5qT57nnN0zxZsAEt4yXC9GKWqoJvgVKumi7929u\n",
       "rDS9UQ3/N4lSG/HzCbcSzh9jtCY2CoHA5kX6iH1GMtv/wdIeVUD4mpfjWN4exSgIxJgPvbR/jbow\n",
       "8nR7yJ2PdlVPqKAowhpvkVAW+d37uJ3W4YVhPTcS0LC572g53n9MwHPbrxNn4kkRgkQsOASK0j8M\n",
       "zK67dAL8n96ZBeq0jWgSFYFMneMwwWe54PFKhob4CxPEZLQc9NAl+mP5NgQwW0zX1nwX/x8YBW1z\n",
       "ITIAyHmhnZ0YKZFdZ5NnjvXZqOsDhplSY8vkgoD7p7YncQ7R0EzUO+1U9E3sc8gzP5AFywe6CR7P\n",
       "Dz2c7E3VhhqGghCKyWBWJK/g7j9dv9hAUfYt2TGOnqVGMTwfdq8Xbv2Dw2x7AAOfgR6qYzz9ytTb\n",
       "hYdAQwf2HFylIHhYdo8kSBlYNeh9oGHtnlussvPxEPLD0LoqYKVxVyRUvFpYtLIZew46v/o/MVwi\n",
       "VbREfJQeti8DQ3Ndjt45TrdHx0mU0uG3Go+8jLy32pNC7KO+TyhjSOzO9m4hf7o1btdSZ6I9e9Ep\n",
       "pSPfwM/LXku+G8FIOu7cwE71H9SdC53jErdov5ItGf39QEgNYkjm9IN+1JERTrqDmRkob9c/as0z\n",
       "zhjma4DzUhLgp40nlVg6vN1EmtlmpaYOjI8a399Sun6FC2QFD28sT39QtD1sLLPLFQyl4rMFRqgG\n",
       "QrdM4dVLDBtC8Ws1ZOxrYT7p3eOin2YF7UCERpHHX4FowXtqdYtEBsl7Ndt9sLjrXk9kaHT2ogzE\n",
       "9Hz+abY5iQjEidVb1YfPzzUPte7HFrmBs4af/2qN1a9Fi3Q4sEFBf/iv6mdaik+yvlze59JE6SJ3\n",
       "EjmhEVeVRYz7z6rXIQAAAaBBn1BFESw7/wAAbja7+V6uZ+l476UtReK7ZDR68EKXGf3uIc9ZBACU\n",
       "/uZtVFy3Mb+ICF5uZ8224LL1Knup7yAwpISLJid0m3OYjxKv7kHUD9/y1twbiqoxeDvzwvxX045K\n",
       "/VcikhMd2IxfNjsJ9vdQWm1GnqXNlKCZu2bRQV/Zbk7vW7ZC5/Gdi0KS8+STLmv0jcEVOCBVqnhc\n",
       "TyMFjEOEnPFn3pPs/dFWVsZPjK1qQ6s8RclFC3QdgKpVgV8fMBgCwUFCk7vZ/EGQ5+m6DrJTGLim\n",
       "/VVIPz1RJl6hWGyBy4Yn+4SaKfAVTAnonZZ9IbDPTps1aarWZeOqY01RVhrtca3C8Y8db7/f1Bzx\n",
       "djn6GtUudkWgHwNN81bFpc9kz/uBpLQr4c7H1kxc4dThhGiZr/F9ROf/zPDqy0Kv2wP0z0soG46u\n",
       "fvE5ujM/t5yXWp9R4eAg3h4o8aaqMiVbAbNqB04fjWLaDbm5mmsM006GdRnCAImyV737oRgZQsGS\n",
       "UmOxAHxouD2LlVPVklLP/Gch/DRGoLjHX4AAAAMAC9ChqQAAASQBn290Q38AAJ8d8asvRmLhUBfd\n",
       "3Ji3knvE0rv6KnbbGa1/RtoJJxAceKK3b3WvvwuLcnWgAeczzEtcAJmQKVAZMDPSuiDp4fDzz17z\n",
       "khPV9nIO2MCvM5XcOTu4iRdEPPZoVHj4popQSkVCbN+HzBEjW38YzYma13qY+vbkq5eXFptmN3Xc\n",
       "iJe1+K72arqu5w/GR4tEf3NPAfhTPcDe3fOJTdsyv4ff9VpfgsQJUw/XXyqwa39dn4CCI82B4Gsh\n",
       "u3v3E/alkPvoe3H5a+gtWGVRfuD5OE8w6tQpevOgHH6S+wE7hP7nln8rjDTa7V4BcPtMQNqN8UhI\n",
       "OeJd9e3e8F6BjHn8K+SdI0gvl6E/7xu6TaGgTWd//jR/gZmwAAADAAAP4Sj/AAABHAGfcWpDfwAA\n",
       "nz0JGK+jGNhpS1zxP96i6ixq2cZ5oEM5MtLpEPCLPa4xvFGu2wH0kvIqACZ6jAhd8nha36roXioy\n",
       "9MYcfRwZwk5jtSppB5wnBKeB0HbRS9gD37IIsLuoeebbXlCGqdvEozXHZ2j7Q3hxpq8y6vf1Txlr\n",
       "28GV+ZW3UHhBg30Vx30PdqWKRma8NIV70IxgZnHLD2VcFt5QzSjEYt6aSRrAgOB1fUn8B5Fh9Gwg\n",
       "l3vmFwtAlwdCgAhVDV1040G+Mbfle8xLDnGjLD5zrpdD8lZPVK/e3Kfy+D/+BGLT5yYIREtNwQPm\n",
       "X7bPdE/DAVqAzo9kodTtBJ7YZtCWI2t4+TIiJLLtaxvWCkkAAAMAAAMAFFHqkDFhAAADjkGbdkmo\n",
       "QWyZTAgj//61KoAABMf7+Le1oaK9/cXunX5RBSqV82p+sW2P2+a52aKjv+xHKc9GuJVwF1gzZeWa\n",
       "IX3bd1ln2/LSBMLnl67E46frimmufLpGAjCvTR0qh2wnbq4TGOAyzOBq1qNkMr0MstNxL8xdHQHF\n",
       "b4u3ioADhhAZX/YJp1hEuaDq4m6VWKYeImeBAuK2dz0j60uhpW99OOsSkl//6eydjFLV0mpUKctU\n",
       "iZ42KdwVWvqKZbY0MgwHMOcxM8f15Hf3St3x2CKiVYLKKUGWHhL8P/f8qb8M9qpsQwvxTVw7Yi4s\n",
       "hwTV9FN6duu4uaiTcIhtXjijUxRNH16S655YzElVV6jou0HwoET/1mBbBVZnWMKAX4maZKdke3dB\n",
       "3O3VmoPqy4z8I1Z+jyeWV6yvjXNh3dm7TScKB5qTLNC8P/cl8igMA7/mMkgixqzzgg9GHCSIZv11\n",
       "8mWTImrT21E3dvxniOqgAYJsYI7oczTsas+p0EXykIgn14WAwdLMB8kc0XIU2fqR7ogaA8aEuSw1\n",
       "JQcG9vbzHFnnJXQNMDpfLQAMESHrTp9z5KH0ZBNQ8EQUQRUavtfwTIEAv4Crljbn8UGvNGpkDB+O\n",
       "D0xVl6tCt0b56TPGy+1uSkLjGz92fO9huKHyEtgjVEUwsHbZNM9oQ8m+0P895eAUT+crL8VvDjUm\n",
       "uM8CSQMEEO8NujBpkKcRBo2tfGwaVw4cSBdjGjXsBbcV1lFNn0u+Yogl6wvFMR9vpotaL+wjKp76\n",
       "BY+HhttxD6MdVlLjJsN8J18CG5btq5Q0k4scYWfiqxPApUK5A7jSQ9+rxiVj7jlAJS7JrVKlohwb\n",
       "qLhUlqRGpkHVBQ97BuIw7sbC3V9rFI/1apkkIpYcs6Sld3WXWDeB66ui4fbtVLgufON9bIpE/gWC\n",
       "A8z4RUCgSpO0zJk5LOSGcYf62AM5UUITEF0MBaTckjG9SqD3V9n/KOa07mL2K+MEkxZLqnzIDPfR\n",
       "SfxF9O6lx8bPYiCKg6g+eq2j+PEVfXzkTSLTSbjP4m6AMa6c/S9uwNaTlKvM3rw99idSRuw5T63J\n",
       "jMN9JvgR3sYiFrSAq82jEfFPutc4POLzWkUWf5h+S0KPZEqun+PfXN13fWklM0ukzvnpu8EtKDN8\n",
       "0D9UEo9Q4sIGvodz2jd34qmHI8lQGayTuRSat42KX3mIv9FjjBu0ipG2owjyI25C7hoAAAFbQZ+U\n",
       "RRUsO/8AAG9JACCBeZykuOGuZjHVcgAXVS4s9/UpgfG5k5k2MgWTF9vvsT0n4vb+qGFLsO11RKkP\n",
       "2R80OOfw2AY7HQmi99gg+Jw7Zqhi7BurVtrpZxlyQ7twEu5YjUlpBlBmRQQQByA1Y7MwQr51nSM9\n",
       "dvuZMn9evMMzPFPS/RugOrIXa7skYLTj9znj3v+oX1xHzCu3/kV6UdMxOkxJv55O7nXzJyDtYWTe\n",
       "N1aUVFefVeBXf4eVaO+yVOKiUbEO2e5ifuoMY8f3WlmG6sgM4bFB6y3Oux6950FJyDXHlXXiKCH5\n",
       "7HVPwdJ3I64m8BrfS4eXSq14K3tW/GCzmSy9Nel8vjLbatOFrQDhxOWTdz5kwqwho/2TmH5N1JJN\n",
       "jij5vWmniN3jnC9mjbzIfpIqre0Y9eThT+sqk8c6K4SV6DdGfaCq0GZLk8Z6ucQAAAMAABSxxDAw\n",
       "toAAAADwAZ+zdEN/AACfHfGrL7QVO8pzlwW08TklAC3Lt39N7xSGL3Mv7R4L0oddPUWboV2z1koL\n",
       "NEorMZwE1CTNkhCdiPY6UztBqSXh+QI2WqiHchjshKKCCnpGY5cBwlXyfqxrRB0aeCcunhxE2vZT\n",
       "0J9GxfUPJeOyhcYrXyWfqNlZup3VRoIu8AahHcwwxXkGyRF/C+jP45w42oj+2W6U7qTLbl2cQgxU\n",
       "BvBTLIMTOrTovfTuz1AaNKHyFCrBCcKUzxTwudlElN4t14KX0CRxYthCXiUy/7bzI8Hm3KgLOUFx\n",
       "AbXTMzbDAAADAAADAA5g1Q45AAAA3AGftWpDfwAAnz0JGK/ZqB207xyrK//HXTXH8sARUBEo+MTa\n",
       "1UI7KJUhNFEj7IqxzyCscefz3Uh23j4rIAQp7sQfxUgE/QtJc2RxTyET1/leGYYm+g4g2Vf5YmIA\n",
       "Woa8VgqQmKfgF2VkDlGN1xx7set8H/sjm8fWr8AyLO+HaflEjAY3n7t3FKaCA6xmnRBHfShTvpqm\n",
       "NxsamGXBTThp8p6kIkueLonkr6JQY3YigSK/tmcJjNTMMV7GReLFKDZOehG0EqBq0zLmzNGQ3ki0\n",
       "gOUUAAADAAADA8QcCTgAAAMvQZu6SahBbJlMCCP//rUqgAAEwZ1TSaPQSABWfeC6uTuK3u+20hgq\n",
       "/eLdIbcdb8Ga8jhQG7WXE/TxLWeRsqyeaJMtTa9dhp5v0ZhmZBoTr251Wq6m1S9w/MvxzA8l5Huh\n",
       "d3k6hGpUUH9XJPOjLo6oBSSIZhDEHevAeVjuKX3Ll3Rok3wSQqAd/APbG8jOoeu9hWio7hZHOP9o\n",
       "NkEvLCxhayvXtmJ7a4336Hid2SHQqiqaC79Tt6BsUwjDQ7hFgGm+daHbX0YTK6h6G+Ai68+vfuPQ\n",
       "B3ieSOIZWcpY7FNlyDAzrPcT41B41gj+CXM1qezHcJQYv3vxw38S2QDliXPBWQjj9WA2FsbGbDJI\n",
       "RXsxZMfVcQtWGUyXkVqVrPs5nvi+GCGKrQqCS178lP4KxPg0HCgVn6/+DnsVUG+1cCt9zPiuAJpQ\n",
       "A0PBRrq2UdOtYk9C/HgSInANvkjW4qaJ5nfLdMtnyfMWk/xer4CXyYpaxJ+ZRFFWmH4BJ/nfgUN6\n",
       "jUFN1+yqpwY67p4+E1XR8/h2TWLD3npPXKMrkzF2mQhzF+fkr2m4asMtkYXZFs6/ghYV2HyOQefm\n",
       "F1NlOJcZv3DKuj+RrKhxvInXblJLuXDy17xwuAj3jK9APa0co0DwOW+Wa1Qcux+x62bvGlFO8Bji\n",
       "zQQMJNZ9qSbynHaDSVlPraSpLck62JcTc70v1vMPKSfvPw5vfKu1kVuqWVE9PyuNaQldsi/H09fE\n",
       "AJmO9pjmuq/KdyVilnWwhirGaDV5Q2krp0mL/FuXdRtFm3iAhJogADjbovCpl1JUQiAblwzlgJSV\n",
       "UGj0FN+LykVwa2A9KpMTO/bw78rMMIdQ0uU+sxPIO78eLZdxg7TQP3D8+Z2b4IJ8RABjI+XpKL6H\n",
       "9Yh1PPJH8Cs6YY8+eaSHEDxAaFypMx6VYdKq3Y+D8AtbZTrWU3guYueWI2WLZsmBMK9x5IXkcozn\n",
       "mfQwDAIUxfOTWHQGG/M7eQ8SfkO9kKjW+m2GvtJ7ild2lcSrQMiSLfjH1ZW1gbOcAhcLgP2pMu0z\n",
       "opyQyqPUCwgbnR7tB98F5RXEuuIy/RmJqP7hqUjzYQ1Jw3MAAAEWQZ/YRRUsO/8AAG9JACCBeZoX\n",
       "IWDJ2zB0mRpduAF0mXA5JDodYjFMH2qNdV7sGl/XTpECt65ZmdYNrZyVIWg0oodOL2kp0zo/Fc0P\n",
       "gWsLrfBO0M6Z418vHsxiySy2cy49kRvkusFIsD1mZnGup21LUxFRINDjjknWOkdNbId9gweZZU5i\n",
       "GG8tMNRoUvEqsy9uyadSmJOkL385yW576LKTNZHMNLXeo1jJJPrfQ5s+5RlXGZAfWWeJUsh5T/PF\n",
       "Xt1+ABQFasoNpl4AG4s14Ye6kDbC0jbllA4bzuT0wfHh0rOEoozlEIugjfUkpYNWfpBnnres4N7C\n",
       "I3cwrxVPVaPJcmXt9MrSFmIntgAAAwAAAwEq6gMo0IEAAADGAZ/3dEN/AACfHfGrL7QVO8pG6ayL\n",
       "5VVvEoBJule1flbrjpgEDXVPFIA5RAblA0nzARMEkjMj0kpGW7KSuBWpYheseIQC+q/3EqXi3WOl\n",
       "FnfC4lSjI3Y6AixQtk/Yl7U1doFd1qwg+B7YU+91YRhk5VrsZXju+tfGEXi8minvKvldlaSoqum3\n",
       "DGhtmwNI1TlvZI5kVzoYokME29lfx2UwJE6FY5dYpPGIbXfyhFfOHbFPCkAmBW6Z6jVUXqMsAAAD\n",
       "AAADAAdMAAAAsgGf+WpDfwAAnz0JGK/ZqB3Ufx+kzQSCRSAEu7idjjrOBYeUoB96qwB/p8Tt0gFB\n",
       "txYgKhwQkFFcIbpZBoiY5h9nRSSKi5pujGOO/3VYKeuMjvVmOpbgxLbOllnvAb0UAnai4NHhtexz\n",
       "q6hGOkT0OJ7jW1peajE6witW8zbdvlN5Ll5+jpdej3Gy2pPmFqlHgsRCcYf7yuNObu8eKC/igoKa\n",
       "cfSmw5DZkkAAAAMAAAwQBq0AAAIkQZv+SahBbJlMCCP//rUqgAAEw9Urr66tYU+q4meIAbTIr76r\n",
       "ydqflLXKjHjDnKxn69OEs9UYPXm+YsOkKxQkTgDlC1cWcFFICZ53gcHI2iWPprIK1IvsYrxLOaAv\n",
       "8PPUU8sV0fi07XZ1T1oNBWfwOyqs7Bu94HKjxSqmTM9AhRh4GHwlXFWGUCozxtMAz5CZDs0010/3\n",
       "oQqB863qBAxDoP2Tx1FR+f6lm2VvGlQODKHPJ4An7puE5FcWEBYjwnZ7C07bFW+bc8OtOhRSSI70\n",
       "pm0rPpVmALgN5HteEJt0U7fX27SNfvOaqk9CVGY9l+8ZAg05dH23UezKXm9wFNrEW66GHuB1F6eO\n",
       "eZatHzmAZ1+PyDBWOB6zV42ZhEU6imcLxynmDu1mYaD3X62TzZRjnfsWkozg3ltg2vqycBV7MA53\n",
       "Pp7d36WF9BadOiKQGCZ/eWnoZP82HuUV9M8LRRMCHMcrhju+yPYO4IpWMWrdabJ4O1ngSGdqXG13\n",
       "WlKf1YVyAErxpBJXD7P/QSOMdVbWi2Eh5tzMjtwt5hrh8VdU8Zy/vLmyZgN8gsQ5zm4UEAXRcGe6\n",
       "2StMmJz5/C+ravZVFDW47cvA8hxBmmufhxngShs/bgD+phB1FlDv0nn8/3poRbztuRJ73sq/eZru\n",
       "+b4LgQNU6dylu6/xMdAEbf5Bjf3catIlJxpFihTc6xyeZvS3ZtJE6SEVTzaBq5FfI4C7MY+qWGEA\n",
       "AADfQZ4cRRUsO/8AAG9JACCBeZoXIObbG9pGFax+AAqovc3zocsct92hfiuVMTMpUBsnaDh4d7Yx\n",
       "ttAbUy4py82kjW1xFNZNHRJdEujJKPabWBDVAmmiGDi5cQRWNFQ09gubiNXcebG018O7+M9K7ElF\n",
       "7ZI9ikUoQFUR83TaayIRYcW+huDYzIbBIt0u668Hu59WisZmtA5+XODzomkxt9klUGKezw02+tCL\n",
       "DOgJSlix3VQBwDGn3G8RQTwFIW/vooA5+RaUEi7Fvoc+Lhwn0WgC5lCISAAAAwAAHM0PVdThtQAA\n",
       "AKABnjt0Q38AAJ8d8asvtBU7v+9gxjYAT3s0r6KsEM6KlN6BVjIQldof9ssuXNlKbK+hMF5Yg3So\n",
       "AASou4OsY8wG4aN9QnM5R6GD2VfsVN36mew0N18A4DB4gBhjh/0xHOL+JFoXeFNEJqZ/Xkh4pAZh\n",
       "EzgMbvVNj5ML4zoEFigHgGYSpwsCfG0Ezfw/T+zluyVCIG0AAAMAAAMAGvbAgIGBAAAAiAGePWpD\n",
       "fwAAnz0JGK/ZqB3VPDp67Pbg4SIoDNNruIVjeDMeGjWWBUaog4h3W/4EUOyI/5YMWOXGip/Sh2tC\n",
       "gAQ75HTaaL7VcOzOYBSxUKiDi3w0cG/z9lybLzPVjV1H/zNYVkZTiqMK8ppoxdM3Hp64uwzXtSAm\n",
       "ErsMDEw6gAAAAwABoauXc44AAAHkQZoiSahBbJlMCCH//qpVAAAJhHov9y2hWxT3UgBXR1SPMdWK\n",
       "z56fvHMkceq5a7zzZ5Lo0qlUCY6EgwZBE6HxNGB+4oCa4uwBV6odJRTilgBa7YUvC7Nk7s+1/1ku\n",
       "IWMmEy7QMnyk7fnKBbhGUHp3YmmTf8HH/Z1o28rPR0LP/Ox3O0YbmNyEsqcihyE1/dwJuuYthjZu\n",
       "8CRH33VTPoakc3/+GVVk7vjB1JqBXsKRwig2w25sBoym97x60kE46D4bkKlfVTFtCZIOImyGyjx9\n",
       "oGQfS2X1L7J3SnCv3EQyraGRIdsH22qGvjQkW3Oz46kZzaF95AFkNNy8WZOQHDxUHBb/1JprMY9E\n",
       "ohL2Bkg/8ChP3OiG2RSpDT7GiRKAlYOxwMxGULr6LeFy7JCcUnYd2SKqAi6QhJ0HDG//YYuqGYfS\n",
       "r/ZXVF7RoSnAYjqL2djcma42+gaOLB3l0grenAkKTv60zlCcmajLSRzSwjoHrZqeBD+fssz4VvbY\n",
       "eSl6gCj39jEgLHN8PNOfps4mpKW+foE/mwpRrjdnDJl5dNqkBblCkJTroqvWhQxbGbOpgk/weEy9\n",
       "gpWzLd6nN/Ot7D3FhYAQA6s/sBNU4swYTnTBs2XtP90/sGjW6kn1nH/c8wrVXMbCJQAAANlBnkBF\n",
       "FSw7/wAAb0kAIIF5mhchZi8LuMKtXCuAFhOAX1EyxOp6iAiHJIdXDE/XUYJXR3TUiN3o8IrwckHm\n",
       "OJNCFx8oBacHhCiHjHLRDxZ3VTsWnknx5+b5UOzRS4NNlWVSgndwRuGTUOM6cL+zUNRyyX+RPhob\n",
       "gLq1rP7aQb6DS24oj6AsQAge9Nil3zvmQe91hVQWpTPATB+klzYs7fTcnhGIIQXWMRpPDoiYZCbJ\n",
       "AMvqcwLN8orDzvAInlcUK4GGxMXtG5P8+ANmsc0MAAADAAHiS7zrxqphAAAAagGef3RDfwAAnx3x\n",
       "qy+0FTvB1vEkyFQzL/J8o+CGCW2E+vmGatA18SsZ7B7VW4ReTX39AyltrAtCc3vIDOwb7JdvhkeQ\n",
       "ATQk8igwSaMNR1wRCtXgP41Lh7xEGj5iPux1gAAAAwAdVjOgesAAAABSAZ5hakN/AACfPQkYr9mo\n",
       "G5yzBpy3Zx/k+wsKA96ah4m5rzyoy2f8IYJwJBHAn94RHZrV9j7bOqgZ0G6Qz3itLuRTdxsl0ICZ\n",
       "iwAAAwAABNx6HwAAARlBmmZJqEFsmUwId//+qZYAACUJ7zeNucONlgBWm8/jWxAqwx/pKEfcDJ9S\n",
       "ExddVH39VYgvS6WgXLFL7kNghZ05Y+QUGHOwMyu1UxXGQ4UnVKkPEMul0iTzRJKOYsXKPgBP7jhw\n",
       "ghgiCBoWbry9U5gd++kSEucLm/HTf92ewcba7ra1vW1MOOWnunAU8XKXEabcznGGE95NcrpIDA7v\n",
       "nJWQ8OZtxQklyfQUKje3Ckd/J9ge1JmjpPWqdF/s9XISxSnkEwz6b0xAAk1O85LZRyO20iH0YUSL\n",
       "alujRkI26Mh/EW3k7djK+pF2KZ5+JGbq2QnvMdrcDe2wZeNOX60TuKlkXL/RVg5VmP5JHS4UlAkX\n",
       "drA9OgoWdkkmoAAAAJVBnoRFFSw7/wAAb0kAIIF5mhcg6Eu+E+2Vuj/GHp7TrxzL4u0I7egb+5+a\n",
       "wAuZnvyR8wpq4Ald6xvE08mhnlss5bqkaDt+M8GlrBtm9a/K5HV0eIvVY+DXC12ODAosE21i4GZa\n",
       "JgnBBiLicHzvQmJxbv1LGY2ZdR/osKfrAmk5mV3Dhy8ceo/Tqc+wAAADAAD9cHYG1QAAAEEBnqN0\n",
       "Q38AAJ8d8asvPif87C8pL5vTTdO670PUEoTI4NI3wvY72/rTY0rulEbL7pevr2lmQMCWAAADAAAD\n",
       "AAAVsQAAAD8BnqVqQ38AAJ89CRivnyp64svJcWIEZUk75ldggbXiJkhJ+1ROvmy0zsgUF+0q4vCw\n",
       "p+37KIAAAAMAAAMAIOEAAABQQZqnSahBbJlMCG///qeEAABJQXxqsjEcqbXeZtte9TtEKiAAnbQU\n",
       "KX6eM960zIY1qTZGfpu1vCe4nNq73DL2wrI7QIoPCevuW31OSbVQBlUAAAT/bW9vdgAAAGxtdmhk\n",
       "AAAAAAAAAAAAAAAAAAAD6AAAD6AAAQAAAQAAAAAAAAAAAAAAAAEAAAAAAAAAAAAAAAAAAAABAAAA\n",
       "AAAAAAAAAAAAAABAAAAAAAAAAAAAAAAAAAAAAAAAAAAAAAAAAAAAAAAAAgAABCl0cmFrAAAAXHRr\n",
       "aGQAAAADAAAAAAAAAAAAAAABAAAAAAAAD6AAAAAAAAAAAAAAAAAAAAAAAAEAAAAAAAAAAAAAAAAA\n",
       "AAABAAAAAAAAAAAAAAAAAABAAAAAArwAAAK8AAAAAAAkZWR0cwAAABxlbHN0AAAAAAAAAAEAAA+g\n",
       "AAAIAAABAAAAAAOhbWRpYQAAACBtZGhkAAAAAAAAAAAAAAAAAAAoAAAAoABVxAAAAAAALWhkbHIA\n",
       "AAAAAAAAAHZpZGUAAAAAAAAAAAAAAABWaWRlb0hhbmRsZXIAAAADTG1pbmYAAAAUdm1oZAAAAAEA\n",
       "AAAAAAAAAAAAACRkaW5mAAAAHGRyZWYAAAAAAAAAAQAAAAx1cmwgAAAAAQAAAwxzdGJsAAAAtHN0\n",
       "c2QAAAAAAAAAAQAAAKRhdmMxAAAAAAAAAAEAAAAAAAAAAAAAAAAAAAAAArwCvABIAAAASAAAAAAA\n",
       "AAABAAAAAAAAAAAAAAAAAAAAAAAAAAAAAAAAAAAAAAAAAAAAGP//AAAAMmF2Y0MBZAAf/+EAGWdk\n",
       "AB+s2UCwFnu4QAAAAwBAAAAFA8YMZYABAAZo6+PLIsAAAAAcdXVpZGtoQPJfJE/FujmlG88DI/MA\n",
       "AAAAAAAAGHN0dHMAAAAAAAAAAQAAACgAAAQAAAAAFHN0c3MAAAAAAAAAAQAAAAEAAAFAY3R0cwAA\n",
       "AAAAAAAmAAAAAQAACAAAAAABAAAQAAAAAAIAAAQAAAAAAQAAFAAAAAABAAAIAAAAAAEAAAAAAAAA\n",
       "AQAABAAAAAABAAAMAAAAAAEAAAQAAAAAAQAADAAAAAABAAAEAAAAAAEAABAAAAAAAgAABAAAAAAB\n",
       "AAAUAAAAAAEAAAgAAAAAAQAAAAAAAAABAAAEAAAAAAEAABQAAAAAAQAACAAAAAABAAAAAAAAAAEA\n",
       "AAQAAAAAAQAAFAAAAAABAAAIAAAAAAEAAAAAAAAAAQAABAAAAAABAAAUAAAAAAEAAAgAAAAAAQAA\n",
       "AAAAAAABAAAEAAAAAAEAABQAAAAAAQAACAAAAAABAAAAAAAAAAEAAAQAAAAAAQAAFAAAAAABAAAI\n",
       "AAAAAAEAAAAAAAAAAQAABAAAAAABAAAIAAAAABxzdHNjAAAAAAAAAAEAAAABAAAAKAAAAAEAAAC0\n",
       "c3RzegAAAAAAAAAAAAAAKAAAIp4AAAdYAAAD7QAAAoUAAAPPAAACogAAAbgAAAGNAAADRAAAASEA\n",
       "AAOoAAABFAAABE8AAAFjAAABGgAABKgAAAGkAAABKAAAASAAAAOSAAABXwAAAPQAAADgAAADMwAA\n",
       "ARoAAADKAAAAtgAAAigAAADjAAAApAAAAIwAAAHoAAAA3QAAAG4AAABWAAABHQAAAJkAAABFAAAA\n",
       "QwAAAFQAAAAUc3RjbwAAAAAAAAABAAAALAAAAGJ1ZHRhAAAAWm1ldGEAAAAAAAAAIWhkbHIAAAAA\n",
       "AAAAAG1kaXJhcHBsAAAAAAAAAAAAAAAALWlsc3QAAAAlqXRvbwAAAB1kYXRhAAAAAQAAAABMYXZm\n",
       "NTcuODMuMTAw\n",
       "\">\n",
       "  Your browser does not support the video tag.\n",
       "</video>"
      ],
      "text/plain": [
       "<matplotlib.animation.FuncAnimation at 0x2a1a50715f8>"
      ]
     },
     "execution_count": 19,
     "metadata": {},
     "output_type": "execute_result"
    }
   ],
   "source": [
    "fig = plt.figure(dpi=100, figsize=(7, 7))\n",
    "plt.scatter(x,y)\n",
    "line, = plt.plot(x,model(a_guess,b_guess,x))\n",
    "plt.close()\n",
    "\n",
    "def animate(i):\n",
    "    line.set_ydata(model(a_guess,b_guess,x))\n",
    "    for i in range(74): upd()\n",
    "    return line,\n",
    "\n",
    "ani = animation.FuncAnimation(fig, animate, np.arange(0, 40), interval=100)\n",
    "ani\n"
   ]
  },
  {
   "cell_type": "code",
   "execution_count": 20,
   "metadata": {
    "collapsed": false
   },
   "outputs": [
    {
     "data": {
      "text/plain": [
       "0.66184437155243836"
      ]
     },
     "execution_count": 20,
     "metadata": {},
     "output_type": "execute_result"
    }
   ],
   "source": [
    "cost(y, a_guess, b_guess, x)"
   ]
  },
  {
   "cell_type": "code",
   "execution_count": 21,
   "metadata": {
    "collapsed": true
   },
   "outputs": [],
   "source": [
    "for i in range(100):\n",
    "    upd()"
   ]
  },
  {
   "cell_type": "code",
   "execution_count": 22,
   "metadata": {
    "collapsed": false
   },
   "outputs": [
    {
     "data": {
      "text/plain": [
       "0.66183901104375753"
      ]
     },
     "execution_count": 22,
     "metadata": {},
     "output_type": "execute_result"
    }
   ],
   "source": [
    "cost(y, a_guess, b_guess, x)"
   ]
  },
  {
   "cell_type": "markdown",
   "metadata": {},
   "source": [
    "### 4. Using the model for predictions"
   ]
  },
  {
   "cell_type": "code",
   "execution_count": 23,
   "metadata": {
    "collapsed": false
   },
   "outputs": [
    {
     "data": {
      "text/plain": [
       "6.5199853965837917"
      ]
     },
     "execution_count": 23,
     "metadata": {},
     "output_type": "execute_result"
    }
   ],
   "source": [
    "model(a_guess,b_guess,10)"
   ]
  },
  {
   "cell_type": "code",
   "execution_count": 24,
   "metadata": {
    "collapsed": false
   },
   "outputs": [
    {
     "data": {
      "text/plain": [
       "9.4062199145621008"
      ]
     },
     "execution_count": 24,
     "metadata": {},
     "output_type": "execute_result"
    }
   ],
   "source": [
    "model(a_guess,b_guess,30)"
   ]
  },
  {
   "cell_type": "markdown",
   "metadata": {
    "collapsed": true
   },
   "source": [
    "QUESTION: difference between the a,b parameters and the learning rate. Effect of different values for the learnig rate"
   ]
  },
  {
   "cell_type": "code",
   "execution_count": null,
   "metadata": {
    "collapsed": true
   },
   "outputs": [],
   "source": []
  }
 ],
 "metadata": {
  "kernelspec": {
   "display_name": "Python 3",
   "language": "python",
   "name": "python3"
  },
  "language_info": {
   "codemirror_mode": {
    "name": "ipython",
    "version": 3
   },
   "file_extension": ".py",
   "mimetype": "text/x-python",
   "name": "python",
   "nbconvert_exporter": "python",
   "pygments_lexer": "ipython3",
   "version": "3.6.0"
  }
 },
 "nbformat": 4,
 "nbformat_minor": 2
}
