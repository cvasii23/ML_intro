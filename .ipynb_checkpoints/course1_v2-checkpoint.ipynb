{
 "cells": [
  {
   "cell_type": "markdown",
   "metadata": {},
   "source": [
    "# Course 1:\n",
    "# General Facts About Machine Learning. Linear Regression."
   ]
  },
  {
   "cell_type": "markdown",
   "metadata": {},
   "source": [
    "<img src=\"images/machinelearning.jpg\" width=\"900\">"
   ]
  },
  {
   "cell_type": "markdown",
   "metadata": {},
   "source": [
    "## 1. Machine learning. Supervised, unsupervised, reinforcement learning. (lunch and learn)"
   ]
  },
  {
   "cell_type": "code",
   "execution_count": 1,
   "metadata": {},
   "outputs": [],
   "source": [
    "import numpy as np\n",
    "import pandas as pd\n",
    "import matplotlib.pyplot as plt\n",
    "import seaborn as sns\n",
    "from matplotlib import animation \n",
    "plt.rcParams[\"animation.html\"] = \"html5\"\n",
    "\n",
    "%matplotlib inline"
   ]
  },
  {
   "cell_type": "markdown",
   "metadata": {},
   "source": [
    "We begin by loading some data: [The World Happiness Report 2017](https://www.kaggle.com/unsdsn/world-happiness) and [The number of partners during lifetime](https://www.statista.com/statistics/248856/average-number-of-sexual-partners-in-selected-countries-worldwide/)"
   ]
  },
  {
   "cell_type": "code",
   "execution_count": 2,
   "metadata": {},
   "outputs": [],
   "source": [
    "df1 = pd.read_csv('data/happiness2017.csv')\n",
    "df2 = pd.read_csv('data/Number_of_Sexual_Partners_You_Have_Had.csv')"
   ]
  },
  {
   "cell_type": "code",
   "execution_count": 3,
   "metadata": {},
   "outputs": [
    {
     "data": {
      "text/html": [
       "<div>\n",
       "<style scoped>\n",
       "    .dataframe tbody tr th:only-of-type {\n",
       "        vertical-align: middle;\n",
       "    }\n",
       "\n",
       "    .dataframe tbody tr th {\n",
       "        vertical-align: top;\n",
       "    }\n",
       "\n",
       "    .dataframe thead th {\n",
       "        text-align: right;\n",
       "    }\n",
       "</style>\n",
       "<table border=\"1\" class=\"dataframe\">\n",
       "  <thead>\n",
       "    <tr style=\"text-align: right;\">\n",
       "      <th></th>\n",
       "      <th>Country</th>\n",
       "      <th>Happiness.Rank</th>\n",
       "      <th>Happiness.Score</th>\n",
       "      <th>Whisker.high</th>\n",
       "      <th>Whisker.low</th>\n",
       "      <th>Economy..GDP.per.Capita.</th>\n",
       "      <th>Family</th>\n",
       "      <th>Health..Life.Expectancy.</th>\n",
       "      <th>Freedom</th>\n",
       "      <th>Generosity</th>\n",
       "      <th>Trust..Government.Corruption.</th>\n",
       "      <th>Dystopia.Residual</th>\n",
       "    </tr>\n",
       "  </thead>\n",
       "  <tbody>\n",
       "    <tr>\n",
       "      <th>0</th>\n",
       "      <td>Norway</td>\n",
       "      <td>1</td>\n",
       "      <td>7.537</td>\n",
       "      <td>7.594445</td>\n",
       "      <td>7.479556</td>\n",
       "      <td>1.616463</td>\n",
       "      <td>1.533524</td>\n",
       "      <td>0.796667</td>\n",
       "      <td>0.635423</td>\n",
       "      <td>0.362012</td>\n",
       "      <td>0.315964</td>\n",
       "      <td>2.277027</td>\n",
       "    </tr>\n",
       "    <tr>\n",
       "      <th>1</th>\n",
       "      <td>Denmark</td>\n",
       "      <td>2</td>\n",
       "      <td>7.522</td>\n",
       "      <td>7.581728</td>\n",
       "      <td>7.462272</td>\n",
       "      <td>1.482383</td>\n",
       "      <td>1.551122</td>\n",
       "      <td>0.792566</td>\n",
       "      <td>0.626007</td>\n",
       "      <td>0.355280</td>\n",
       "      <td>0.400770</td>\n",
       "      <td>2.313707</td>\n",
       "    </tr>\n",
       "    <tr>\n",
       "      <th>2</th>\n",
       "      <td>Iceland</td>\n",
       "      <td>3</td>\n",
       "      <td>7.504</td>\n",
       "      <td>7.622030</td>\n",
       "      <td>7.385970</td>\n",
       "      <td>1.480633</td>\n",
       "      <td>1.610574</td>\n",
       "      <td>0.833552</td>\n",
       "      <td>0.627163</td>\n",
       "      <td>0.475540</td>\n",
       "      <td>0.153527</td>\n",
       "      <td>2.322715</td>\n",
       "    </tr>\n",
       "    <tr>\n",
       "      <th>3</th>\n",
       "      <td>Switzerland</td>\n",
       "      <td>4</td>\n",
       "      <td>7.494</td>\n",
       "      <td>7.561772</td>\n",
       "      <td>7.426227</td>\n",
       "      <td>1.564980</td>\n",
       "      <td>1.516912</td>\n",
       "      <td>0.858131</td>\n",
       "      <td>0.620071</td>\n",
       "      <td>0.290549</td>\n",
       "      <td>0.367007</td>\n",
       "      <td>2.276716</td>\n",
       "    </tr>\n",
       "    <tr>\n",
       "      <th>4</th>\n",
       "      <td>Finland</td>\n",
       "      <td>5</td>\n",
       "      <td>7.469</td>\n",
       "      <td>7.527542</td>\n",
       "      <td>7.410458</td>\n",
       "      <td>1.443572</td>\n",
       "      <td>1.540247</td>\n",
       "      <td>0.809158</td>\n",
       "      <td>0.617951</td>\n",
       "      <td>0.245483</td>\n",
       "      <td>0.382612</td>\n",
       "      <td>2.430182</td>\n",
       "    </tr>\n",
       "  </tbody>\n",
       "</table>\n",
       "</div>"
      ],
      "text/plain": [
       "       Country  Happiness.Rank  Happiness.Score  Whisker.high  Whisker.low  \\\n",
       "0       Norway               1            7.537      7.594445     7.479556   \n",
       "1      Denmark               2            7.522      7.581728     7.462272   \n",
       "2      Iceland               3            7.504      7.622030     7.385970   \n",
       "3  Switzerland               4            7.494      7.561772     7.426227   \n",
       "4      Finland               5            7.469      7.527542     7.410458   \n",
       "\n",
       "   Economy..GDP.per.Capita.    Family  Health..Life.Expectancy.   Freedom  \\\n",
       "0                  1.616463  1.533524                  0.796667  0.635423   \n",
       "1                  1.482383  1.551122                  0.792566  0.626007   \n",
       "2                  1.480633  1.610574                  0.833552  0.627163   \n",
       "3                  1.564980  1.516912                  0.858131  0.620071   \n",
       "4                  1.443572  1.540247                  0.809158  0.617951   \n",
       "\n",
       "   Generosity  Trust..Government.Corruption.  Dystopia.Residual  \n",
       "0    0.362012                       0.315964           2.277027  \n",
       "1    0.355280                       0.400770           2.313707  \n",
       "2    0.475540                       0.153527           2.322715  \n",
       "3    0.290549                       0.367007           2.276716  \n",
       "4    0.245483                       0.382612           2.430182  "
      ]
     },
     "execution_count": 3,
     "metadata": {},
     "output_type": "execute_result"
    }
   ],
   "source": [
    "df1.head()"
   ]
  },
  {
   "cell_type": "code",
   "execution_count": 4,
   "metadata": {},
   "outputs": [],
   "source": [
    "df1.drop(['Happiness.Rank','Whisker.high','Whisker.low','Freedom','Generosity'],axis=1,inplace=True)"
   ]
  },
  {
   "cell_type": "code",
   "execution_count": 5,
   "metadata": {},
   "outputs": [
    {
     "data": {
      "text/html": [
       "<div>\n",
       "<style scoped>\n",
       "    .dataframe tbody tr th:only-of-type {\n",
       "        vertical-align: middle;\n",
       "    }\n",
       "\n",
       "    .dataframe tbody tr th {\n",
       "        vertical-align: top;\n",
       "    }\n",
       "\n",
       "    .dataframe thead th {\n",
       "        text-align: right;\n",
       "    }\n",
       "</style>\n",
       "<table border=\"1\" class=\"dataframe\">\n",
       "  <thead>\n",
       "    <tr style=\"text-align: right;\">\n",
       "      <th></th>\n",
       "      <th>Date</th>\n",
       "      <th>1/1/2005</th>\n",
       "    </tr>\n",
       "  </thead>\n",
       "  <tbody>\n",
       "    <tr>\n",
       "      <th>0</th>\n",
       "      <td>Number of sexual partners- Turkey</td>\n",
       "      <td>14.5</td>\n",
       "    </tr>\n",
       "    <tr>\n",
       "      <th>1</th>\n",
       "      <td>Number of sexual partners- Australia</td>\n",
       "      <td>13.3</td>\n",
       "    </tr>\n",
       "    <tr>\n",
       "      <th>2</th>\n",
       "      <td>Number of sexual partners- New Zealand</td>\n",
       "      <td>13.2</td>\n",
       "    </tr>\n",
       "    <tr>\n",
       "      <th>3</th>\n",
       "      <td>Number of sexual partners- Iceland</td>\n",
       "      <td>13.0</td>\n",
       "    </tr>\n",
       "    <tr>\n",
       "      <th>4</th>\n",
       "      <td>Number of sexual partners- South Africa</td>\n",
       "      <td>12.5</td>\n",
       "    </tr>\n",
       "  </tbody>\n",
       "</table>\n",
       "</div>"
      ],
      "text/plain": [
       "                                      Date  1/1/2005\n",
       "0        Number of sexual partners- Turkey      14.5\n",
       "1     Number of sexual partners- Australia      13.3\n",
       "2   Number of sexual partners- New Zealand      13.2\n",
       "3       Number of sexual partners- Iceland      13.0\n",
       "4  Number of sexual partners- South Africa      12.5"
      ]
     },
     "execution_count": 5,
     "metadata": {},
     "output_type": "execute_result"
    }
   ],
   "source": [
    "df2.head()"
   ]
  },
  {
   "cell_type": "markdown",
   "metadata": {},
   "source": [
    "df2 needs to be cleaned"
   ]
  },
  {
   "cell_type": "code",
   "execution_count": 6,
   "metadata": {},
   "outputs": [],
   "source": [
    "df2.columns = ['Country','partners']\n",
    "\n",
    "df2['Country'] = df2['Country'].map(lambda s: s.split('- ')[1]) # function that spitls a string on the '-'\n",
    "#and takes the second part"
   ]
  },
  {
   "cell_type": "code",
   "execution_count": 7,
   "metadata": {},
   "outputs": [
    {
     "data": {
      "text/html": [
       "<div>\n",
       "<style scoped>\n",
       "    .dataframe tbody tr th:only-of-type {\n",
       "        vertical-align: middle;\n",
       "    }\n",
       "\n",
       "    .dataframe tbody tr th {\n",
       "        vertical-align: top;\n",
       "    }\n",
       "\n",
       "    .dataframe thead th {\n",
       "        text-align: right;\n",
       "    }\n",
       "</style>\n",
       "<table border=\"1\" class=\"dataframe\">\n",
       "  <thead>\n",
       "    <tr style=\"text-align: right;\">\n",
       "      <th></th>\n",
       "      <th>Country</th>\n",
       "      <th>partners</th>\n",
       "    </tr>\n",
       "  </thead>\n",
       "  <tbody>\n",
       "    <tr>\n",
       "      <th>0</th>\n",
       "      <td>Turkey</td>\n",
       "      <td>14.5</td>\n",
       "    </tr>\n",
       "    <tr>\n",
       "      <th>1</th>\n",
       "      <td>Australia</td>\n",
       "      <td>13.3</td>\n",
       "    </tr>\n",
       "    <tr>\n",
       "      <th>2</th>\n",
       "      <td>New Zealand</td>\n",
       "      <td>13.2</td>\n",
       "    </tr>\n",
       "    <tr>\n",
       "      <th>3</th>\n",
       "      <td>Iceland</td>\n",
       "      <td>13.0</td>\n",
       "    </tr>\n",
       "    <tr>\n",
       "      <th>4</th>\n",
       "      <td>South Africa</td>\n",
       "      <td>12.5</td>\n",
       "    </tr>\n",
       "  </tbody>\n",
       "</table>\n",
       "</div>"
      ],
      "text/plain": [
       "        Country  partners\n",
       "0        Turkey      14.5\n",
       "1     Australia      13.3\n",
       "2   New Zealand      13.2\n",
       "3       Iceland      13.0\n",
       "4  South Africa      12.5"
      ]
     },
     "execution_count": 7,
     "metadata": {},
     "output_type": "execute_result"
    }
   ],
   "source": [
    "df2.head()"
   ]
  },
  {
   "cell_type": "code",
   "execution_count": 8,
   "metadata": {},
   "outputs": [],
   "source": [
    "df = pd.merge(df1,df2,on='Country')"
   ]
  },
  {
   "cell_type": "code",
   "execution_count": 9,
   "metadata": {},
   "outputs": [
    {
     "data": {
      "text/html": [
       "<div>\n",
       "<style scoped>\n",
       "    .dataframe tbody tr th:only-of-type {\n",
       "        vertical-align: middle;\n",
       "    }\n",
       "\n",
       "    .dataframe tbody tr th {\n",
       "        vertical-align: top;\n",
       "    }\n",
       "\n",
       "    .dataframe thead th {\n",
       "        text-align: right;\n",
       "    }\n",
       "</style>\n",
       "<table border=\"1\" class=\"dataframe\">\n",
       "  <thead>\n",
       "    <tr style=\"text-align: right;\">\n",
       "      <th></th>\n",
       "      <th>Country</th>\n",
       "      <th>Happiness.Score</th>\n",
       "      <th>Economy..GDP.per.Capita.</th>\n",
       "      <th>Family</th>\n",
       "      <th>Health..Life.Expectancy.</th>\n",
       "      <th>Trust..Government.Corruption.</th>\n",
       "      <th>Dystopia.Residual</th>\n",
       "      <th>partners</th>\n",
       "    </tr>\n",
       "  </thead>\n",
       "  <tbody>\n",
       "    <tr>\n",
       "      <th>0</th>\n",
       "      <td>Norway</td>\n",
       "      <td>7.537</td>\n",
       "      <td>1.616463</td>\n",
       "      <td>1.533524</td>\n",
       "      <td>0.796667</td>\n",
       "      <td>0.315964</td>\n",
       "      <td>2.277027</td>\n",
       "      <td>12.1</td>\n",
       "    </tr>\n",
       "    <tr>\n",
       "      <th>1</th>\n",
       "      <td>Denmark</td>\n",
       "      <td>7.522</td>\n",
       "      <td>1.482383</td>\n",
       "      <td>1.551122</td>\n",
       "      <td>0.792566</td>\n",
       "      <td>0.400770</td>\n",
       "      <td>2.313707</td>\n",
       "      <td>9.3</td>\n",
       "    </tr>\n",
       "    <tr>\n",
       "      <th>2</th>\n",
       "      <td>Iceland</td>\n",
       "      <td>7.504</td>\n",
       "      <td>1.480633</td>\n",
       "      <td>1.610574</td>\n",
       "      <td>0.833552</td>\n",
       "      <td>0.153527</td>\n",
       "      <td>2.322715</td>\n",
       "      <td>13.0</td>\n",
       "    </tr>\n",
       "    <tr>\n",
       "      <th>3</th>\n",
       "      <td>Switzerland</td>\n",
       "      <td>7.494</td>\n",
       "      <td>1.564980</td>\n",
       "      <td>1.516912</td>\n",
       "      <td>0.858131</td>\n",
       "      <td>0.367007</td>\n",
       "      <td>2.276716</td>\n",
       "      <td>11.1</td>\n",
       "    </tr>\n",
       "    <tr>\n",
       "      <th>4</th>\n",
       "      <td>Finland</td>\n",
       "      <td>7.469</td>\n",
       "      <td>1.443572</td>\n",
       "      <td>1.540247</td>\n",
       "      <td>0.809158</td>\n",
       "      <td>0.382612</td>\n",
       "      <td>2.430182</td>\n",
       "      <td>12.4</td>\n",
       "    </tr>\n",
       "  </tbody>\n",
       "</table>\n",
       "</div>"
      ],
      "text/plain": [
       "       Country  Happiness.Score  Economy..GDP.per.Capita.    Family  \\\n",
       "0       Norway            7.537                  1.616463  1.533524   \n",
       "1      Denmark            7.522                  1.482383  1.551122   \n",
       "2      Iceland            7.504                  1.480633  1.610574   \n",
       "3  Switzerland            7.494                  1.564980  1.516912   \n",
       "4      Finland            7.469                  1.443572  1.540247   \n",
       "\n",
       "   Health..Life.Expectancy.  Trust..Government.Corruption.  Dystopia.Residual  \\\n",
       "0                  0.796667                       0.315964           2.277027   \n",
       "1                  0.792566                       0.400770           2.313707   \n",
       "2                  0.833552                       0.153527           2.322715   \n",
       "3                  0.858131                       0.367007           2.276716   \n",
       "4                  0.809158                       0.382612           2.430182   \n",
       "\n",
       "   partners  \n",
       "0      12.1  \n",
       "1       9.3  \n",
       "2      13.0  \n",
       "3      11.1  \n",
       "4      12.4  "
      ]
     },
     "execution_count": 9,
     "metadata": {},
     "output_type": "execute_result"
    }
   ],
   "source": [
    "df.head()"
   ]
  },
  {
   "cell_type": "markdown",
   "metadata": {},
   "source": [
    "## 2. Regression"
   ]
  },
  {
   "cell_type": "code",
   "execution_count": 10,
   "metadata": {},
   "outputs": [],
   "source": [
    "df.set_index('Country',inplace=True)"
   ]
  },
  {
   "cell_type": "markdown",
   "metadata": {},
   "source": [
    "Let's consider only two variables: The happiness score and the no of partners."
   ]
  },
  {
   "cell_type": "code",
   "execution_count": 11,
   "metadata": {},
   "outputs": [],
   "source": [
    "data = df.loc[:,['partners','Happiness.Score']].rename(columns = {'partners' : 'partners', \n",
    "                                                                  'Happiness.Score' : 'happiness'})\n",
    "data.dropna(inplace=True)"
   ]
  },
  {
   "cell_type": "markdown",
   "metadata": {},
   "source": [
    "We aim for an algorithm to estimate _happiness_ (target variable) in terms of _no of partners_ (feature)"
   ]
  },
  {
   "cell_type": "code",
   "execution_count": 12,
   "metadata": {},
   "outputs": [
    {
     "data": {
      "text/html": [
       "<div>\n",
       "<style scoped>\n",
       "    .dataframe tbody tr th:only-of-type {\n",
       "        vertical-align: middle;\n",
       "    }\n",
       "\n",
       "    .dataframe tbody tr th {\n",
       "        vertical-align: top;\n",
       "    }\n",
       "\n",
       "    .dataframe thead th {\n",
       "        text-align: right;\n",
       "    }\n",
       "</style>\n",
       "<table border=\"1\" class=\"dataframe\">\n",
       "  <thead>\n",
       "    <tr style=\"text-align: right;\">\n",
       "      <th></th>\n",
       "      <th>partners</th>\n",
       "      <th>happiness</th>\n",
       "    </tr>\n",
       "    <tr>\n",
       "      <th>Country</th>\n",
       "      <th></th>\n",
       "      <th></th>\n",
       "    </tr>\n",
       "  </thead>\n",
       "  <tbody>\n",
       "    <tr>\n",
       "      <th>Norway</th>\n",
       "      <td>12.1</td>\n",
       "      <td>7.537</td>\n",
       "    </tr>\n",
       "    <tr>\n",
       "      <th>Denmark</th>\n",
       "      <td>9.3</td>\n",
       "      <td>7.522</td>\n",
       "    </tr>\n",
       "    <tr>\n",
       "      <th>Iceland</th>\n",
       "      <td>13.0</td>\n",
       "      <td>7.504</td>\n",
       "    </tr>\n",
       "    <tr>\n",
       "      <th>Switzerland</th>\n",
       "      <td>11.1</td>\n",
       "      <td>7.494</td>\n",
       "    </tr>\n",
       "    <tr>\n",
       "      <th>Finland</th>\n",
       "      <td>12.4</td>\n",
       "      <td>7.469</td>\n",
       "    </tr>\n",
       "  </tbody>\n",
       "</table>\n",
       "</div>"
      ],
      "text/plain": [
       "             partners  happiness\n",
       "Country                         \n",
       "Norway           12.1      7.537\n",
       "Denmark           9.3      7.522\n",
       "Iceland          13.0      7.504\n",
       "Switzerland      11.1      7.494\n",
       "Finland          12.4      7.469"
      ]
     },
     "execution_count": 12,
     "metadata": {},
     "output_type": "execute_result"
    }
   ],
   "source": [
    "data.head()"
   ]
  },
  {
   "cell_type": "code",
   "execution_count": 13,
   "metadata": {},
   "outputs": [
    {
     "data": {
      "text/plain": [
       "<seaborn.axisgrid.FacetGrid at 0x1f92744f9b0>"
      ]
     },
     "execution_count": 13,
     "metadata": {},
     "output_type": "execute_result"
    },
    {
     "data": {
      "image/png": "[encoded data removed]",
      "text/plain": [
       "<Figure size 360x360 with 1 Axes>"
      ]
     },
     "metadata": {
      "needs_background": "light"
     },
     "output_type": "display_data"
    }
   ],
   "source": [
    "g = sns.lmplot(\"partners\", \"happiness\", data=data, fit_reg=False)\n",
    "g.set(ylim=(-4, None))"
   ]
  },
  {
   "cell_type": "code",
   "execution_count": 14,
   "metadata": {},
   "outputs": [
    {
     "data": {
      "text/plain": [
       "<seaborn.axisgrid.FacetGrid at 0x1f92744f4a8>"
      ]
     },
     "execution_count": 14,
     "metadata": {},
     "output_type": "execute_result"
    },
    {
     "data": {
      "image/png": "[encoded data removed]",
      "text/plain": [
       "<Figure size 360x360 with 1 Axes>"
      ]
     },
     "metadata": {
      "needs_background": "light"
     },
     "output_type": "display_data"
    }
   ],
   "source": [
    "g = sns.lmplot(\"partners\", \"happiness\", data=data, fit_reg=True)\n",
    "g.set(ylim=(-4, None))"
   ]
  },
  {
   "cell_type": "code",
   "execution_count": 15,
   "metadata": {},
   "outputs": [],
   "source": [
    "def model(a,b,x): \n",
    "    '''\n",
    "    function that computes the model\n",
    "    ARGUMENTS: a,b,x floating point numbers\n",
    "    RETURNS: floating point number, the estimated (predicted value) corrsponding to the input x\n",
    "    '''\n",
    "    return a*x+b"
   ]
  },
  {
   "cell_type": "markdown",
   "metadata": {},
   "source": [
    "### 3. Training the model: Gradient Descent"
   ]
  },
  {
   "cell_type": "markdown",
   "metadata": {},
   "source": [
    "<img src=\"images/scara.jpg\" width=\"900\">\n"
   ]
  },
  {
   "cell_type": "markdown",
   "metadata": {},
   "source": [
    "for a sigle training example $(x^{(i)},y^{(i)})$, denote $\\hat y ^{(i)} = a x^{(i)}+ b$ the prediction.\n",
    "The loss will be $l(y^{(i)},\\hat y^{(i)}) = (\\hat y^{(i)} - y^{(i)})^2$ (square loss) and define the cost function\n",
    "$C(a,b) = \\frac{1}{n} \\sum_i l(y^{(i)},\\hat y^{(i)}) $"
   ]
  },
  {
   "cell_type": "code",
   "execution_count": 16,
   "metadata": {},
   "outputs": [],
   "source": [
    "def totLoss(y,y_pred):\n",
    "    '''\n",
    "    function that computes the total sqare loss\n",
    "    ARGUMENTS: y,y_pred arrays (mathematical vectors)\n",
    "    RETURNS: floating point number, the sum of the losses (y - y_pred)**2 for each training example (x, y)\n",
    "    '''\n",
    "    return ((y-y_pred)**2).sum()\n",
    "\n",
    "def cost(y,a,b,x):\n",
    "    '''\n",
    "    the cost function\n",
    "    ARGUMENTS: a,b floating point numbers, x, y, arrays (mathematical vectors)\n",
    "    RETURNS: floating point number, the cost corresponding to our choice of parameters a,b\n",
    "    '''\n",
    "    return totLoss(y, model(a,b,x)) / n\n"
   ]
  },
  {
   "cell_type": "markdown",
   "metadata": {},
   "source": [
    "* Idea: minimize the cost function"
   ]
  },
  {
   "cell_type": "markdown",
   "metadata": {},
   "source": [
    "<img src=\"images/gradientdescent.png\" width=\"900\">"
   ]
  },
  {
   "cell_type": "markdown",
   "metadata": {},
   "source": [
    "* Derivatives, gradient"
   ]
  },
  {
   "cell_type": "markdown",
   "metadata": {},
   "source": [
    "Start with randomly chosen $a,b$, and simultaneously update them:\n",
    "\n",
    "$$a =a -\\alpha \\frac{\\partial C}{\\partial a}$$\n",
    "$$b = b - \\alpha \\frac{\\partial C}{\\partial b}$$"
   ]
  },
  {
   "cell_type": "code",
   "execution_count": 17,
   "metadata": {},
   "outputs": [],
   "source": [
    "#set some initial values for the parameters\n",
    "a_guess=-1\n",
    "b_guess=10\n",
    "\n",
    "n = len(data)\n",
    "x = data['partners'].values\n",
    "y = data['happiness'].values\n"
   ]
  },
  {
   "cell_type": "code",
   "execution_count": 18,
   "metadata": {},
   "outputs": [
    {
     "data": {
      "text/plain": [
       "array([-2.1,  0.7, -3. , -1.1, -2.4,  3. , -0.7, -3.2, -1.8, -3.3, -0.6,\n",
       "        0.3, -0.7, -1.1,  4.2,  2.5,  0.2, -0.1,  1. ,  2.8,  1.9, -0.6,\n",
       "        3.9,  4.6,  4.2,  4. , -1.8, -0.2, -4.5,  2.5,  6.9,  4.9, -0.6,\n",
       "        3. ,  6.8, -2.5,  0.9,  7. ])"
      ]
     },
     "execution_count": 18,
     "metadata": {},
     "output_type": "execute_result"
    }
   ],
   "source": [
    "model(a_guess, b_guess, x)"
   ]
  },
  {
   "cell_type": "code",
   "execution_count": 19,
   "metadata": {},
   "outputs": [
    {
     "data": {
      "text/plain": [
       "42.41955134437685"
      ]
     },
     "execution_count": 19,
     "metadata": {},
     "output_type": "execute_result"
    }
   ],
   "source": [
    "cost(y, a_guess, b_guess, x)"
   ]
  },
  {
   "cell_type": "code",
   "execution_count": 20,
   "metadata": {},
   "outputs": [],
   "source": [
    "lr=0.01\n",
    "def upd():\n",
    "    global a_guess, b_guess\n",
    "    y_pred = model(a_guess, b_guess, x)\n",
    "    dydb =  - 2 * (y - y_pred )\n",
    "    dyda =  - x * 2 * (y - y_pred )\n",
    "    a_guess -= lr * dyda.mean()\n",
    "    b_guess -= lr * dydb.mean()"
   ]
  },
  {
   "cell_type": "markdown",
   "metadata": {},
   "source": [
    "Note to whoever wants to run the notebook, for Anaconda users, install:\n",
    "\n",
    "* conda install -c conda-forge ffmpeg"
   ]
  },
  {
   "cell_type": "code",
   "execution_count": 21,
   "metadata": {},
   "outputs": [
    {
     "data": {
      "text/html": [
       "<video width=\"700\" height=\"700\" controls autoplay loop>\n",
       "  <source type=\"video/mp4\" src=\"data:video/mp4;base64,AAAAHGZ0eXBNNFYgAAACAGlzb21pc28yYXZjMQAAAAhmcmVlAABn5W1kYXQAAAKuBgX//6rcRem9\n",
       "5tlIt5Ys2CDZI+7veDI2NCAtIGNvcmUgMTU4IHIyOTg0IDM3NTlmY2IgLSBILjI2NC9NUEVHLTQg\n",
       "QVZDIGNvZGVjIC0gQ29weWxlZnQgMjAwMy0yMDE5IC0gaHR0cDovL3d3dy52aWRlb2xhbi5vcmcv\n",
       "eDI2NC5odG1sIC0gb3B0aW9uczogY2FiYWM9MSByZWY9MyBkZWJsb2NrPTE6MDowIGFuYWx5c2U9\n",
       "MHgzOjB4MTEzIG1lPWhleCBzdWJtZT03IHBzeT0xIHBzeV9yZD0xLjAwOjAuMDAgbWl4ZWRfcmVm\n",
       "PTEgbWVfcmFuZ2U9MTYgY2hyb21hX21lPTEgdHJlbGxpcz0xIDh4OGRjdD0xIGNxbT0wIGRlYWR6\n",
       "b25lPTIxLDExIGZhc3RfcHNraXA9MSBjaHJvbWFfcXBfb2Zmc2V0PS0yIHRocmVhZHM9NiBsb29r\n",
       "YWhlYWRfdGhyZWFkcz0xIHNsaWNlZF90aHJlYWRzPTAgbnI9MCBkZWNpbWF0ZT0xIGludGVybGFj\n",
       "ZWQ9MCBibHVyYXlfY29tcGF0PTAgY29uc3RyYWluZWRfaW50cmE9MCBiZnJhbWVzPTMgYl9weXJh\n",
       "bWlkPTIgYl9hZGFwdD0xIGJfYmlhcz0wIGRpcmVjdD0xIHdlaWdodGI9MSBvcGVuX2dvcD0wIHdl\n",
       "aWdodHA9MiBrZXlpbnQ9MjUwIGtleWludF9taW49MTAgc2NlbmVjdXQ9NDAgaW50cmFfcmVmcmVz\n",
       "aD0wIHJjX2xvb2thaGVhZD00MCByYz1jcmYgbWJ0cmVlPTEgY3JmPTIzLjAgcWNvbXA9MC42MCBx\n",
       "cG1pbj0wIHFwbWF4PTY5IHFwc3RlcD00IGlwX3JhdGlvPTEuNDAgYXE9MToxLjAwAIAAAB/aZYiE\n",
       "ABH//veIHzLLafk613IR560urR9Q7kZxXqS9/iAAAAMAAAMAAAXw6It2WLJ58pRAAAAJWAFcA3QT\n",
       "rLeGtMP3oZgCvhyMhveI3fMOUoX5zU7H2v8lIu2tZKxTQ5ozN7D6r1l01iB7M6dL3Syslz99NvJ/\n",
       "MKXNkgT84HEac2NYTTi+s9csa9P2TH3auXrzSjDoxWHDuLOhMsAqD418BLcxdD2e8sRIL0Z0gFXd\n",
       "0PymBwaIGwH+zEDvYK6SVKvOJddNVF/OBVkqsehEPXrJJgS/UNQCygOmqM3clk4/L+jtNp+8cPwQ\n",
       "Ce5lXvvQ48JxnE/M2jm7wWUVGnxTnvPEvBpSUPFJK7cUypqhqxKcnbSCNiyhuHxjxiUAtdP1S2Ix\n",
       "Pw9DEJPrLrlXNQOYk8bD5F/yJBHAvMYyNAB3L46YJ8N2fc/eYSQBcCt36sdltR+3tDp76F69N24f\n",
       "70cyehH81D5armCRprDuGK1AH5diHgKoVyIwpT/20vbxLWS2JGmCW/JQCMrB0F6wYTR+maMI+BZf\n",
       "r7Hs5TILlH8Q0Gkn++LBXsqUd3zr5EE7myEAMCg4DaP7FWjGsH0QemRW6qD6ZktOgZNCuF71T7At\n",
       "JqXv4e2uFNdypju8a3tVeDuLOa5rmhXbG/q41ZPQBeiSXSk2zAfExF4uX4WxsCS/7gyftxLLlXbg\n",
       "o46WzpW+2mLK2pt2TVKNa1U3b/FJzU4cktTOouwq1L7hCm/UCIAEEheatm6DF7dbz/WCmUAkWevb\n",
       "4faUxJIeS1IA1BUf3K8ANwSuOiuk6AmGMnmPL+tUYMLTj/ZU0nLqfd2PwfBoqyVAqCoHlny+gCJA\n",
       "O/r71RN3PKhS+2uoBx24dnWlgCSTWNJPMRpQPig1MII62JjFHb33oMZB/IypmDOZ/knTSoVxjUoD\n",
       "o0LahnhTXxi9QN3p8v176x6fEBsdWc7/vyRU4lia6DRc/MUBu3W+scsVbljC6KjGCVtB3YKe1Imi\n",
       "o5t+iUszU23ne7bcgAs9v+Tkz1QvVBZAfO6rAqL/rA2zp+vGLpwIyOm6tZ9vKBIzqtGNCbMZ/k8Y\n",
       "uOqttzKmA7ihl1KJKn6XyOZGcEgTMoJO5S6S+mxRgL5cj8pBbRCZBCwvTLLWbJ0T33vcDr5XrXjt\n",
       "FPkiQI/L5guo7SC93jjF8WO5CXzu/0WU4TvVbWxNgIqvhRmVUqZu0J5tTh3JZQ/zslkbKL8JIUEw\n",
       "/nR8amxI7f51PVT/eeOgikJ6RtWbTNVKCD7+e6fD20vky8898Ucir5k4b2Be+tTEInZzjtPwtNSd\n",
       "VRJudk1lP+zGX3pqkTOOEfj6yrKbJyDShxVBqxF8x1hJghUdnhQwqlwqWEsxncNBUOfXbFcy9Fee\n",
       "eG9DGGBpl5eat+k1wUfG+JKkuPDjIPPHHfBAtcXK2LVeqD2dzq8Zem3/vv6jr/gSt46pKpFPWER4\n",
       "E3l8G9XfT/zSmVwRltwd5Q2buAYLXFpFQIVJOB0Ed1iErFD+lyJYBbqOYvgQMgkFSxT2uxqg0eUt\n",
       "SWGCygLC3LYDRs8uPJXL+ohDGgDyhx119rQ4GNdpp+Xyi1lkA3A/zN4lg0wWzL0hxpJhsPmD7AT4\n",
       "Yyvoy5SzdYbJUcmmrlpdRSVooY0LkAc6UDds0W5Hmpy9BC4TFniUQ68kp4Ho7W3UJtTeeybgBnyy\n",
       "6wrhQtJXYPwjvnXK+k8q8ctTv2QT7g7mNGSYB1Q5a3O5GjVcSdgRuqDZ6fj8D8PmOO+Piv/ilFDd\n",
       "i/yJl53w2vXLQTD1Qa8BnQJBRkl/nEKvPqjI3h/SRkvlGvlbN/8a01Uvn8o4+YTHB8hESE/iHnPa\n",
       "P7dSQy1munq5GZLGBMhMXeedgWGjCI63RHFe1ZB8hzZ/XHkoAtegsBbbkPUvJqhIYg04paTSKlMl\n",
       "FDu7A53cYPBMI8Ud2EiOWhYd30B07sSQ8sSwkMSjxaDVBmBSrtr5jCy9xgqnuGHXW3mpHR9hzBjn\n",
       "VQL7jcEeBgMgQEF4j6ak0AXW7cpYs/OIFjCyE/r1vKWdR+7cTeMmmrFz5KV5tC/Pi7prsF2m0e5F\n",
       "Tfs3YM+V0cnJFDHwJewSZEAfLSoCAOicsjJshb5I04ml/nDsNAwKpUd1Esq/oHtSDQjkGbqZFKiK\n",
       "OHtCoNheImza05SVjwGfaBh2F9RvCpXEQrmtsi/odt9Xq+UC0s98YQNsaQdISkw5vTP+RpyyN1tL\n",
       "eu+RXRHZeocGUpKDsvWSRVAiN2TP5aDnXOVoiKUqJ/Rko7oQPzmkC+L2rB9i31xAqvYoytbVvs6D\n",
       "dyDXEqI86nVYc7nnLxEfbMfihIPCxcIV1Z72R+V0oO2hZ7Skbvo1MOj3iN8mDdC++AB2acbk8Qcj\n",
       "yRSbJ1PVnDoWRGDiplzliviBIicdi/DvwKqU8ta1xfdAraprtqNWU5OWp2iB9udD9xy6j0YuCKsK\n",
       "d+gG6BgLjUKLSO8gPjFPXz9DfyvGNcXk7jArMxbwDYXNT6/DF5rlDXsehi91mRrUnM7eIEwMYIZC\n",
       "YONzDJgXY8VQI71Lypnt+QWENFQsBgCbyh6wB7bOJrP7NxcMUY7ZVuGIYlLuzJ2oEWTC9937R4/p\n",
       "kemAcvnmhZ+363AZs2CcWAKZPOVhH9OyVCkOIfVvbJnD4Qs4xd6kVy5Lt7x0zhpb/UauygAHbxm9\n",
       "s6V0e+iiyUZPGk+lGp1bmdzhc/29hi7ok7qJCtFsM6t32At3EgVJ1MHN+R5qknpoljMH764t60wV\n",
       "Tp4cLp9F//tOXh/NfFRf4wSTVz+JebhBjbvcXcIIJeEVpl1fnl8ocoKoYGTvFcr09GTCJeq5f/+p\n",
       "S+DNfJnyKrIW+dAUo9cTHuCpyEycrRbVSgbChr2tsI2GfKM1xPYY22qL/aaJKfq3S/6a/yNgkzTY\n",
       "KC46r6g6AL5a8G+i4Z/fdJFV9m2uANhJrfIjV9/1iPbb6AuvLugIXXxCY0oOFSU/Fk0shWIhkPqX\n",
       "XRpS1sJQd1W8v7gyZB9CVnJTMHnJpyNtOkuLKPOUS/hWILnHqS7YQKDdU7F/uyUNWRWCYLF1DGIl\n",
       "isD4YDeULDt0G6kyZ50x8XMuWs2yemm8dq4XaI9q8F9iuYHtXQMCG9A6jVU4ZgKy9dyQGLkG7HhE\n",
       "NeDdK1/zFrYa8BStdXT9uGcqn3nRhaV4LYZZGjhsOegMdH5n3f8WTV3VtAb3/UodiaWX+f3va5fZ\n",
       "mYNVL0si5kPHBifcnthi4Y7UM3yJmKv7IJHohvus/Vtm40+yMVZZpQkGG6wluVkGXUIy8UcXtiB8\n",
       "xWKZW73/UC2XN8AK7YH1i9wEwx175/y3sgRMwsfdycsZpCO+9ii6gGtH+5A5JHgeBYxCDsD4ON/c\n",
       "NWDnftSzumdsXf8xWZ/y2hQegWHILA+b3S3Y/xW+FpSOYgOWui/W6zjBJZIUVf/9ZN9OJeDk3WcC\n",
       "kLp+YaibfRmUcd0JaumOXMSuOjbfVzbNIWICjKLrbxS0L+GdzpEukbKjuJNB5UyjadsjvY3Ecsm5\n",
       "dF2+S4Omnmoe24qewnAVLq/dmGJqvvFeTqs2K259huqTjN+lrncqw85FY7rUprs32Z2SYpKbJp7N\n",
       "R3zKac75vYeuiCNPP0vj5mgYGMTjg5TiYJkCQEYViQnMXMTPXlUNACXFQjfsXkaa2ZOLkcJqYtgh\n",
       "BC0r4NbeW32mNjOSu3rlTtqgd6e6jE0FlxVP4N1tCkmKhw/M3dMgwK2wKmcJtRDs+NvZFs8JDA97\n",
       "YTMIzTC8c9WMIQG1O/DxVmfLvRJHhR9Afq/HnIEw2EYuCZQwExkca6w29Bz3x6poLxcyRVLvcJQy\n",
       "yQdktEeoX/Samq8LXM8epNWLuJJjN4XtcCs6u1yB20HGu0Ezdb8dUTRKgQUdrrfhLYrLHsbXLoIE\n",
       "AxzhiC3RUUQr1eCj1FuQcI+cOuQKjiBzk2VSo8IZrpD2eP9DMCL2yVScgs3GDLBakCr7SzkHrMr4\n",
       "XROqI4xfiI1ZB8tkYRICTarIcIjDtx6bqMJ9m3v1w1mOdGjwZYXzD9OpEyTTRLdluygmofGBL475\n",
       "koGwVhw6o8AP22I/5STMfQgVrU4ZWq5QXqoGxe8fyn1vAN+gXuoRnKbudrxMEGneFCE7X9r0q7aR\n",
       "Y5W1p/qjx9o22W4RudyzvTpqpHrvXkcjSUhQOmdHsGz6eeqgCzB+z8m7d+v/A4QlAtyu8T/qFrWu\n",
       "LmsFpotmfPkAxk+pWjYYlrj3eyvdZHs+SY8s3ZpAe7YGCh0PgNKiR8KvmjCccx90N5yM/O5xixjC\n",
       "35UMJzSBNY+b8UJZU9lWx+FE/RqK5RLpgwLCDYe9aJ5CMqbO8HFIJaSIc73E76iHP1raOAgW+3hx\n",
       "mJho6/9FZIq4wuX49U5B/7YiZG/yyjZOGnS2u5awQ3sza6kkRIhEQbBQqlsk5z1gE/I85Xu/F32m\n",
       "gyPfE79fBXHtZKHWz5YOggytqiElZyY+TkyMJCPVtaWcWkGIqlevN/O0GeLcVx4zfyep5UVPtLsS\n",
       "07AhAqvEu12NlT9H9kklZa8c/ZxUcOYmu4hHfwt+5l5whPhrGpdTgxh2YB7DoIdPL707KViYSAa7\n",
       "Wz2rJF1WPGAxYIOoBWvPrBFYYxf4OBBv2pp7/lcPHrjjNDIx1XYrfMR89IW0DW353C6TBJZP3n6u\n",
       "NTQNYZWlqSJMK+u4jl61bHj3JZG0vKr93K7QPGexYg8nEDwJn1TnqcMbEMKl8Jn6SNG7oMltUFJB\n",
       "W8y0NtqARQoKv4QFcELuQ9yVr30QYCcO/Ap5qVMAcSSqP4gcd+WLp6uR3HxigouDYrSguBU3ATri\n",
       "Vreczak9uvqJQfj1D4JZqDrVDTqZmVTHJaWzRtehtREqJo+7CR6GLGiRYM9+Ol0qvPNYu82wZsfq\n",
       "RjgyP90CRk5NYibz9h9DO1Sktr2Kmyw9PIEYqEP6Ke8ZEogyDatQbhfss1bdAuNkvNkNmb/+m/e8\n",
       "CTdLBxOnJNCg67JjeIFkQaxquTnLcMDoPxGkaEom2uIRO0H65rsKLlZs7dvXQxdP8oYypum8L6/+\n",
       "7cdfxuqHd/Bka94ndOnJgghl9u5x0gbuKvkUYOpon2adDbRzMy1HCOR1KurjIKgsjeiWmxr4Q/jZ\n",
       "Opmmc/3zS+EWlCv7q7jnk22mlK16On5zLGwaOKUP30/aN2fkoGOriV+QgCapbBKNSTR4V5Vyjzg+\n",
       "u8mcR2U1hnxBIDvzbhCRAimYSxz3RcdsWgaTynyWxzjvX8smEK8G4G2PNCZTevov0OBhbtLM40L0\n",
       "+biUtxBy5DBO+KUlq6r88XqvsZ+WarWbUCgrD+qn6XoqDdYQyb7Jwc+Iv7yL7eJGetslay1jgrxK\n",
       "5ZOqaVkoVBwdOke6PkKRh2hORQASrgaXZKr19NHwY2xVteRJ+Eyg4gx3PTwLNDMl9WKGMC1UekOm\n",
       "mCU0RHVyv/aLcnQ1qtlw1dWacnK869vzsyfSukbkUx9jdVCK7or6qRcXF6wm5FT0PIwAEjYqZvEP\n",
       "5ofJ8IOteqU7Wxb/ma7I7Ts7EwpYyrUGg1A/9En831JqktX2FjLT9nZcs8eef+XcqLl3TiWwCSJX\n",
       "ZXbtoujV2IR+Dy3eHJT2opFke2Sbw7+5odv3zA2RichRKKNB7+P3K5vI/I8i4ce2IKn/etj4FHAZ\n",
       "wXYeQyXra3p0W5aTDqvKwFg0Zg2HJc8CPdyCtjrqvdVWDub8xu4AtGhDe0Qli/w5nxiysFOdYqwJ\n",
       "IFBIXWwUVzo83fS3vP9HkKbeA9IGMs6OH0zrbNqvSfYPvOPuL/1UuxtoQkpNOiGhqv6DYzU59Ism\n",
       "2/viiNTdpgXjQiDerMgL2B6z0jvmYjiBn5Dgme8jjGfQJqLDQ7N3TByi9inNxSP3GzJlM0iAIq5m\n",
       "0OEUn1/mGxexuWFz3uCTXjCHBex830W0ZztCWOdXWqm4qfws/GNvvemqKbrPG4OJGwN0RjdVEVyr\n",
       "igZg6MZH6438ZC3LgQgQZ97MOGYY3RIuexGhVgUSYCH/U+YfK9JI0rQ4aEgYsgSA9clKEiKdgH3j\n",
       "oO5yXQuPhW+xGY6rI2I/a3p5yXmpZpq6naVe9eizglz5Lqu9h/Cm2XSSgYIteV2o4aN+PedThpGC\n",
       "EETV/tysdIxuQTen8eunXEvu6Hb8H6LGpG4NPnYLuSGYGdZDSM9PknUrGoqSP1BmS2bF4vnDr6tW\n",
       "J2oOCl4R5yK+0FNDJb1HrPQUrDbrJ0td2/++pgbO/i4RpnaDhICqB5CMFTvbsOQIFcoVNBTjgSa8\n",
       "nogNTRr6pYAQN4M3mMtfX2iTuStfgiEfdgYALdJgWD3kC7HgEx5KrdWtoED9hl6DW9fDHTabvvdh\n",
       "w1F98PLjoYse3qVoo1hU04hRwZ2H1ArpFE4QGnczWnqjxCNo0WH2gF12NMaRbcSKpF9+KMPokb6Y\n",
       "FSJaGmfUOGBzmTO80jDfmSGRubsW9/6dlo59RiQXxH9M6acG6qYRV4Y9bv70JjjtLCREz1lQh3EK\n",
       "z7OIaLNiovsPOAz0Vhyf8m0weP1woKnFzcCpMZTa8PXDpUmCX7/yyfe8u6erewoi5nbkmnexvJ+/\n",
       "clLbuVmXlK0+T4baTxlIxRAfIrHluz6DONBjJe8s2s/G2IOlXU+CrXDshvoL3wUR3OX40b283mEH\n",
       "wM2JyQXY5vSdicSRGPwhbA39WOHNIOXcdFqpt1bAELcpOmOTOARaOKJZTSHFIfcmNCNdJainwUSd\n",
       "KEhxrIa7xE6YGagHuvyYCxTM51TVHsrAvkIgjJnj5Id9P3XU11ZdfQMy2XvGYqfir1w3w3h1iJv4\n",
       "8zRT88hndF6L/nOTTvESulN3PvMyFT33NFH4VOiGJAxn7IxX6cE7S7rtfHDSy6cQ49EAIfLzU0/L\n",
       "5ggplbx5zZVq2D6knCTOwAYuV973BRO+e3HT1HYETrYpljkNdwoNk7XVI2ETyAUK+ikPtTnTOqur\n",
       "nlfVpLPimRj0uIC1JO79xSCYcxIkdWID3RLEKq7kUhzvVTAmAAnMoG56CGrXiuP9y2NgHNWa9JD7\n",
       "/xlBKbK3mh4pg3eSSCFXp8zDBiGRGkUcKBg+kes85IC9I0HD3osA1omSLXOVFftncZdrm3YSgBVF\n",
       "yrJzbk6q1dINxdtGmBsaRDCzQge3crGiwu5KpFK+o/e1lzHg4NGfXqWw2j+EiEAk7MRWem30sMC4\n",
       "/q4YSkb3Zl+Y5rTs05qtximdnmbQcc5ve3vYjFy36YiRehDyh9A0w8/9+/qWmWt9FI9sT7GS0hcn\n",
       "zImCnz7AugZomYHuKd7doImInXB9x7IOE51T2m5KGOmrmEv6Fi9ACkYQS7GPDAIO9oBDBTc1aGzp\n",
       "Mm6lqUg+Vx6g/UvB9jO/eteET9OOEpA9MoQqMtzbe5tKgqFEklFkdwRtZ2EmN1uUOcG6u31rY7mM\n",
       "s4mMZ5+J/ND8nW4pgVJXse8j8BgkY1KP7HoJLQXVZVxUwf3z9TV/PJVVN006mvHEYbEmyVTH3avR\n",
       "svzxjdzyx5gi4GK4fBMht/VGB1orDlp7NzkmMk3LlHCJB77Trs8hESTuMcyFgjUjc22Az05K5NTx\n",
       "8y7pvaH9Xo4mhnecb1COhBukqD2vKPk3IHmZcZfy3Z66MfRRvPfSOyEPCRO2Je5q4d1vFY8VyC0O\n",
       "6l7SNqB2PouDTJ8hgFm3wKkmatMjgLn8TDSG6/hl5CcfZGILjsYmSUq/J9EwTN9WToWOsDyr26iT\n",
       "uO/ObjgnbfqECTITjdZTrnRn/W0368NflmTF1AHJTf8t1zxub76MBnwP1BK//w4hGxVvwvahHGcH\n",
       "KC5698gGcqLFkeadZkSfi07VC9jGLcdqewz9AyM+fzNSrxeXksaAxfx/llXFShtwOAEuJ2KYff+m\n",
       "mZwlfUq7UOZgqh1pNU0UZmXU8DgR1oRJe3FM5NJSQzuQv5/zTVYEFkIzRx4ASGTNYG2ti4EUdlUY\n",
       "LzgeE8DiEB/Juxs8fRJewJ+Iy6EoITwxajXPANat31wogLmfaDAg7UeUfEt2Uea03efuxLuCcHgG\n",
       "gbomJoEshnc3E48KIyAgSKzUQkN8q5OOjWrYvfVzmDHbnDwlM9w7hrzeSChxWcV3x1woq11bBRVS\n",
       "uxri66T6U3UsxHp7/qlNf1/VGkq9IgLQTTvCKOBMUlIJ9BBcq0yZEtAhtVeOhGK0JZT6vPVYV0FN\n",
       "1jX7gCMSZ9hU4skuUd9kU9GCfYuQJYP+2LeajjqPzYH57oBNCExDSfWrmRBwnffqHRvYL3UMkZxi\n",
       "Dnn07l28lXPv9NLBaXaClQ5YX0gw41yOqRT5IlktwWHMvVko/TyxGVEWxXQ6tKpecDkx1Nvwurkr\n",
       "YN93/FrnkeRakEiWSYAAKCCY5XZnFFqAifwbWvhO2zzddZWL2KOVeXG/xPMPeUJJKuG7JFgHboq9\n",
       "feykLtkaTIKzgNETz1PfgFNIMtmj1S3e92elTP8r7wVgt66Yy6xodVOZJ5dAdHAoXWgnf0yMiq8A\n",
       "MHGV4mDpy6ZZ7aXIxneOonCiCiFo+MIEPu0JXzEy4Il3lUogDFRTSRuuhVwVZZ3zNCXUgTSs1m5p\n",
       "RWRltKa2FzNrlFqSuC9y5H7cBDIhPBQMXAFEiGLwGVpcoIlz20c7++gLiQID0XB4570q0WA9Ku6d\n",
       "32Y6QYbTOCrgrmTHcBVkDwOw9k6sFufmNkkiuTC0C9ZGEi5n/ko9uiBYdsGC4JAAIa9dWxxi3VoE\n",
       "pTywAkCrmSu2r+rs6+nTmSeyyM6foH96zA7iA8wnEOzc6i9anqquboyg5lmDnRWeA9LgM1+0s2oe\n",
       "zah4A30k7q8irccSBBkADeAAAAMAAAMAGcDNj4FxBhT99NkeSWXAk/sJVWB0bm6Sv4HFFAp902lU\n",
       "qZL9xR3IAhI51UvUUQ48Hzj0KGl+E+DhB7aimH26ChCxLPXeYvT4p3XhW4HWENuBPMvCrTFpUyuB\n",
       "y4a9pdJzEpFCEQ0qTSRr354n5UDpQAAAAwB8ie8CLqAABdTDATr9AoyEB69Br0/1HeXuUjotoMaE\n",
       "NGqy5/XUGGeG+3mbzDjLvXxJTNPxckJ+Ho1giPj+Ar3iFbfafWCLYcFkFsUPfkkLd0TsCE6aXjHY\n",
       "UpnmqKfclkcrC3lV0MgjgFU79NLrJaER4TSpXkw+sdA8OsUQABB8aQzp6BNFwHR3AzxgIV6Y5zaG\n",
       "8RSNKc+nBoMEsPf/RmTsXdjoW2fAi+gJzVsiCwS5IP0pSkw0CQYqz1DukC8U/XrKZ3Wl/8XV3xLo\n",
       "o4UzgGyre+wCFlXLD/fngwUjlRmku+cK/5gl08LkrpJuGwLLX9O1+N+EWfvSRTKNwqTKUwADlowA\n",
       "Lm8BejAPDMCnCbWuFDqiQC6ooGcp3eF//kZWkxfwuVG0VMjepZ33HPF7j1kr9+3bOyRgPB8ZVoTN\n",
       "fkoiL1JjmRxywB7emrZOrM+JXAFotTd105g6gCo7KJMZ5pcNGL8PGN3tRS6Q3i2UewURr2m3Jb6a\n",
       "v/B1xhe/R7CaMM9QBU2uAAN8AABNAwOgCzYh2Hfv3wCysVhVL+/MJ5VESoC/AoCBr66f2TNkRzzv\n",
       "5sJm7jDsIkE2pwtFwuPfyX/PXXvC+a4FuIIZpJFdGxmQFg2SSto+R74yclXJXfpu+SHR8eGKbZ7G\n",
       "4/Tcoat9JGBv1aJtVDSlCpSRPlxrbi24rhsCpuNvTx2bJVLLkUqRGo/VysxleWTxiXjvAmYdqGZg\n",
       "rA7OluSPVGl9DM1ErwTRCF956qBkeyY9Sy9UqT+fAkswJEi+Sj2psZZbc5K6WDX+WzVunH9+KQbX\n",
       "8gmkS8fxnl5WNr29yDSStYlRrrAIo2I1jmme/tk5kaC+DHIzxPcMZcbK5N0q7kCb8ZwKNFlFsZ+n\n",
       "WYrpvMbrVavtvUabfnpHpvi4VYbQIR0mnul83/wWVJvS5z+/c80G6oCbY2teWXz4TcBruJt3Rw4m\n",
       "4a6PVbmGOdytSyUzCR/GACf7RcAed1rWWGVPkC+d0PdQEvthO7ZN3umw99B8Gdq6Jgtijd7Oxr+u\n",
       "w1jpnF6m0UinnqnqRVEPCCcS94Dtz4KQgg0oeBCRhhe3V3/+OuK1C/kV9lKKUw3liAAAAwF68MZN\n",
       "0exNGnhwgQY8C8jSbEcp/sdAeryYxqg79g0z8RRLu4yqg06DWXBRTvZdDvKHrUWWGZ6amJTACi/5\n",
       "FeyJMpZ6VqhmTZKgu2sy9WjV6WIx7Rss0llReOx/jaQwQtR34puLEN36JOAe1eUktf7ufRA/3UP1\n",
       "nSjiktQvxnmZCeBUhN/naJ6DMYNHvK5OiQMB0G7TbOah4EtK8ukyLWYnu823neRjSUtXM66lNT1v\n",
       "0GiUYbVPpqPpa6Y1nw49lhzFLhFF7Re/9JPHHWzB0NFwoZvS12Tc3YBTftbw6w/PeRuSxUk8S8w2\n",
       "seo21b+lS/7W/ckGJfiTXVRJn8bVq30EzCPhPrAQNtHKyQ1w1BVTi8llrrlpHo/AkWj74W1SEWqs\n",
       "O+zxzguLxFczKVlbr6e25XS6J0CegS5RblYpEcQT/n8aG1nky8qONMGhsQ7t5wRNff1ujeDcXO2t\n",
       "J22gsLX/1+PblWVEyIeGpusrj0t600ejQh7CZXOg23/sbns+5gtIDQqR2vJYEtmK5Zq6a/raYXR9\n",
       "d//0AI8TJUK9lN8Y/VVYAYaKn7XUgSww+zaVAOrDP3/pyrsd3d60PruswLG3mLhqd5xRueVGJWhC\n",
       "R+HSPbUbY8bJHdxEsi5xdUJ2MAVzzOpQS6swog4yKbvd7pXyEDsezTr8+0LN7Q8xL26FRZSgTccP\n",
       "LDYvSJ4RD9J/nMQvXopebF9qEqag+HlIWa1Tq8U3QexUjz4G1Ol9+BGej5lMEkwCT09Ko7cDYYyN\n",
       "BMKKKyv6TUnVbLPFV7wpqfcZ9BuMQ7y3vKBJs42zDDy14RL2arB77ukEdDLAADxAXiMAAAMAABxR\n",
       "AAAHSUGaI2xBH/61KoAAZTPboAI+QUnLjChjknT36emFBWrpV2epXvqDqyEQsH0/eL//QpfiE2G7\n",
       "Yvrwo+dLSGKvi2h4XtgAIEm5QXgNXN5Qy5NrrQIpTEACeR9GqHM4NEbteSHWzc7WMqswqFGgCeNQ\n",
       "QVgJEYpEZLSWN5FU9bdpuMJBWkCFKJyikftGUeg2sWESR78oGvUUsncgqkqtnzBQkiyxSC8gX8RU\n",
       "a9I3NttPVpWo8ojqxshFKRdXxFAXIzo3+nj49Iw+37gE7b4uFTY8MSWujHbRM/ywvrFhTG72IIh0\n",
       "oaICjGEIBycQCudewUpLMT+ASTjW7SX40HPQZUMkjxh9Wx6/Fj6LRPCFL/CzZ2VyWOnIG44fFNyC\n",
       "KRtgP3jMX/ZxKwQM30oQu69VVf30eaRpLsLIGXdGMYTMWwyV2X2lM1C3zyen8njmWAeuuyxdil+9\n",
       "NxjsY3UJy+81M9QUNuESNXF+Q204ek/I+c5BVIjGjUeft1sirmgwVqgJDo6CiuRlJFt/bbKsBYYL\n",
       "BVGt4i6+afQEaaG6WyL1hyPLzInRljF8/KuYC27xyfQsvYbtAa/tJmDvMruH1wFYYAj7Aa6AN67/\n",
       "qtSLW0T/fX1X9neVAA2Eart6qD4uzQhHW5fVjWCOWjh3PhqGTk5eg6yeE0eVPV9fgWfyZ9YxK3nR\n",
       "Kgx2nYpkWNSZpbUACQagU2CPizTdwEIjoOc951Uf1XGxv7L3TRLvtRocaDrrYFT6N08IHQ2NsofD\n",
       "NiWgwZZQaOKm/+eKDuRWbV6pGMp+dknln6FFkxTeA2s0K98P9uKwsdzM8mFrW4TMAkvPYSCDcdLC\n",
       "MdMIBg7nlSPJyaQMWZJb3YxFa4bkc89JsJYVwiMUqN/gLkH+Khc5wA+4JlK38xNj+7750raPexvk\n",
       "TIA/lTDrhfiRddMq0VjPeyHWbMq3BQRnivktRKcsYq0Wi9AahcSI65j/8i9LyNZhOdkH95NFW6gS\n",
       "QX33d0tFh3vkn1pv4hHytFCFIVdKcFl0rLBBc93lVnHFzEionmKwuUesH2tQacas/f6PpIz5xnso\n",
       "novHmElcKf3hlPcfL8rNo517O7Yotw6RgsmM/j/uQrpmL9PYiKNSHonpbJmlikqDb5VjtlxhJgyj\n",
       "Ud4G0Ix89gq3l9MIMm1w4SZXY8ZVH4XTL4zNnpgJLpcjumDd5GxDX4hLdh3hrnX0sMNr8yD7eyIm\n",
       "iPNnmYQb7xDEHaVX1j5ywN4gYwvjIcO4QkDgkgXHUENRIiSrRqyrS9hDdJl5FiSz5LKBo8ipC4EU\n",
       "rMI+hG6KarUV8HJYEyDZ40D2cjiUNFfjIo+C6jYsj539S8lOu9j97Id8kFQzTRq+ZxJyLAPGijvU\n",
       "kGUZa/jL8j/gzX0CHKGAH3L7dPgfvZOTpqkP6vgp+cQrlyQtdT6vBZf+4xgaxrPeaiJleyKdDheL\n",
       "C1nkPar9SIRa8D28Q0cdQ/UnDJBhThRml1FX5ldbHROAPjCb4ht9Zau/iz5OPbu/5v5sBu+oQVhc\n",
       "+CA2dYJG8jORAguiSILINFJx8yIIit7QpGAZAktBbrObjsScLgan968Vr45+IsdRzAa23TAYRrMN\n",
       "YecZYvG1mFqcvU2X+tkaCEowHaZ34vPA1CTRtRTmh+apI4FuAJnusGVoM/yvUtoV9mQaAiPugv+g\n",
       "JM+Igm5pd+N7urBiebEA1chgGi4gWlIX9vMne+AUJIQ+YfcvzssQ5fz68URGecTK60zyGzuK2uTA\n",
       "8NLUffuKlBQQsoWAKsoFyFusDx7+YsZaHixtb1MAAz9r64qNtzsRPQEqJmpqvFd9tp4RMABF7RBI\n",
       "DPd7wgU6CZzXlJyskzyHIFX0gJM4y85B+UZtlRZVbZcn/pPjlYX4W31kPwiHJhH0Ep3PeNcZhV/v\n",
       "3YyhFhDZcezcVx/ldsaeNwGQo+RC9Fxh09f8hwLvHXpayYi7w+0klxEFdngJSvqBSAoa6lYcSa92\n",
       "xoqkwB4pF7Z5QaajVWxDziTIOg9qLrwWvcdhhEFxKrGkViknsYHRU8mFHLRa41i1kfokUYvuifI7\n",
       "JruGK+/cxb/8ZKY57mr6jAWyE0gZEnu/sFW7x+7A/eCEtse/Ldf5Tt3cFFbC5HmIyBJFZ+gPO5Yj\n",
       "rNfdkEy6HIEgzD3lstpcw5Vf8czqHwQco5rYP9bSzC4H30F1uO105GxiWVSroPRGSNzjmUH53aYV\n",
       "58H9jW4LHUhSkNSwrcxjVqZGkGMQDXDJgmLLCfj+iS2RQKMYFK1FF16SZw6i4Kdd6P7eQ1AKDHwa\n",
       "zo+zoihM+V8v30ceemTR17ED2AFtc93DPAJGDkQMDrmOvocYeuaZxsTNV3F/WccCyG4onWPNLkkA\n",
       "3H/kvhy8DnQy6/HXW4cWK0nm/hkTREUOnVGyOrhDeNKpltxHZ3asuAae+XeECoz4HKkiSv6x6YJT\n",
       "ktB7/lYf/T8Mg9xpPDtVPr+8i8rTVRF/wNsWhSp38pUQAAADAC5fCzEPfENSAAAD80GeQXiG/wAC\n",
       "KxpyNsgA/oqXgu5cP8FYM4kmfg1+AOVW9GWmvN7kc7ZuPdTWhJHHeWUhKfwp7A7UqtERWLvoeUMd\n",
       "08MbPB/vUa8GvEWSfNh4O/97uxsA1wknmIHm7hlnE9Z6+eOx5FFCQh+xOs+Xq3xB5A+QeOeM7B5B\n",
       "AxneLeSTl0CEmtZfGD8sqpQz2du+bj8m0cLWRIDRHioqx0S1UJRUfN1wmMQvpduv8N9vc7rntZvc\n",
       "qSCEVBQFUaF7d0AZHqEF8kqCY1QFq9Sn5MMFPlhdszTA0Vd5NjCNSfhyphwqEUgCtaILWZk5UI+A\n",
       "FyHAgJKHYTFTfKnW+5Mkt2ejszI7wmRi03eTq76cGTcTi2lwjF6fOraALpLDyTkpV/1aXkZPU8Yv\n",
       "lN+XiJ0gd2ugymEbZg9RCrLlAeLdA3y18gZxgRc8pRTPZk1kIFAiA+U087QYMg74SHQDT5hnQIOc\n",
       "FMry3M2EsJDtO5uba7K+sRc0vNSLLEtA/YdYpILtqQtnc6A4gTfYHWG1YgbF3ARRR3K3PjcXeMhT\n",
       "SIEH1ChyM/GMoJdoXeLtIHRfm9Y//VQRugNv8qQqoCnNWPQ18C00j6MG0Qky2EHin5e79Z2QykHF\n",
       "UdK5N/ieK3wJU2BXLybV4U5xiWpGzoJ2gQuax01BJW7IWTT0FT6RL4eNMMY7iXDyH0APm1w9qsTc\n",
       "D9KjDnX1QbKvk+PTtKPYdfRMYwt5pvWBuKnLWAjEBhLbJeE9SwBq2MoaPc3UXGsVgi/KsA/UatXg\n",
       "GQaSPjU7MpQfhlQ0/Pg6MjoILNPAUI08OA2RqHSsGpWfpgZ9vzSFnMoE4W2VghTLlv5kwHbq0DpH\n",
       "CsRsdd8ZsgYCbr40atfB9mLpklLa2We8F/iKBJi7ZpJEyVlutTSJMk0CiGSncHYCTNS2EncNA4rW\n",
       "y8TzcM9/yas/+q+8VUx8cHhjvLnporr5xMQAbDJUdMJj+5/ywfI6z0LnqzVdxbYW9hu8+MHMvBPi\n",
       "wLo7ScC4PsFc2cmVfPYns/Ptvk6KuxPQlx6pml+1mKzV6Tqm8kQ3/Lsr9ZrCRr2jrFWWRO7hlaXN\n",
       "4Y0VlquXttApTdFkt96YBeQ0ql/tUjPnd7xL+m6VxYM2/MeShckk0ZtmgtaAXhdVo5VB30UtXZW0\n",
       "u0YfMyAoNY/JTRCOU26HYIV4yIS1HbVzwY5TctpLNF0z9kHdHe3ZZfKQCV3b3bZfZ/qFAhVHnOa2\n",
       "lA4Wq8UkpXt+YxxCYflL5lxbHHCPqYJP9M4mK39xXtMQnqHmEtLGpZUN0de6s5+GkWKO3EyK56Ga\n",
       "1YEB93RlUf7/8bJXSRSBUN7HWgVFXaEIHGBtdSNAAAA6YQAAAmUBnmJqQ38AAgsZKRhsPUba8AOZ\n",
       "rLcwAcYQlRzHBb9zT0bPoKhE4j83atawpO5daFu4SUtjrb4ZOroub8tvJx6dY/6PQNOO8/XjWIlN\n",
       "8UXm6JO4ia03bvx8cV9evuGmlx7zLtU9GO05k5y/17/myzuEmX15BolHAfjt0qNOLa9c1nZl3e2q\n",
       "Y1TUS45gQ3No3RcBDGWNrYEqVt5MUoG5uFod+cN2o8aCiRd5dzLqG7vyuBeVwDlFllq9S+mzPYPA\n",
       "PYUaNppVvCsuM4g81mNLlDxI4Bp/jmI5H2hCqbgJCUScCAHVC/DghB1qBLC5c4aV+6vHSkNekOFi\n",
       "9l9MVI4xcmtbSqoqEcOAPxSfys/4QL5KUrTAtxht5Aql4ZyWjQ8h9mrktbpbMKDLHenxAC5tXl/j\n",
       "QGE1XERy4uSBhHi+rgQSksK/+9f7UlK/c9QXbpRuaVEpD3t6M3Te5JCVeDgpC5rYuXOX6U5ZpafU\n",
       "3nYT06G/6+B3NLy7nZ1nt9H/60xOqL0z9bukEAMEkBTI+r690rIh2lKieWRwKTsRpklYT+eE342k\n",
       "hm1ACV2KGQZXXVYmMwCxzDWYyUbOf640Kbe8Ch5nf6n/uCsC96u7msuodWo4IogsXKfVcjDRCD4K\n",
       "w6xXY97tk5xWpyhPUwhYr2A3K7VYtlpT1edrSt1vA5a85zT4bEC6sUpCeAx8s0iDKRvs7M4bOGNw\n",
       "U+wNW69fsGs1mZvO3//upTr7rF8vVG4jIz5/YAcw5l2ktsqZwEf3mPcXS1zGgfB1QApRZw0aKcUP\n",
       "dFpmfror+Fg8AEBAB1ADLD/z/LgAAAu4AAADwUGaZ0moQWiZTAgh//6qVQAAPV71KyV9ftgIwO8j\n",
       "OMfj9fmssQm9KAI6Qpxi1DRwVn28npgCGszFWnQw825WSga3Oj+axmlrTPSKh79NAkSAZWrKjJPx\n",
       "vEM9c0iUrsOop1BdZQpuSV/CNJTLbte/tCXY+lcaRs77A/+KSVDPsxKSwfmuINsnZYFrPc3gGybU\n",
       "yP/K/9i1O7NBAkupORMTgyReo9pFisIF8cHSN92L/wV9QX6YdAP13nKlGgHdVBOHBGl4qXjwcdCe\n",
       "8hBeRy9XVHiiN87GUKcCdqKWmS0W3ZdV9zW5eIFsuXyQIzk/imWE8RpzE/gcKUI4JikKVgfsiKQ0\n",
       "hbxhFo0fQVFN+QUtmEzAOZQReiniKN5++/tH0i5smurhuAwmSksBlaIkW75VrPZ7T3bHGxi21bQW\n",
       "IMXWLx/o2v7x6nQ3CK0zfVlq42G8c77/6vom86lFkcsAADT3VLFN0aRq5RziaktcwkAVhELe07Wk\n",
       "OsdKkH8YpOqIxod6pDSle0PzraVkCc7ZB9eXSv9Wjx2Ed/xrJ2Q8scfIqr+PUm9pj2/DBeLEAAtP\n",
       "9+R5QKsm86GC+CyVJx5HK9p6ZMdWVG9CppSbIBMRQ2W888CtiRykumRE5UDppDFtD+N2omlMvsL/\n",
       "qJ7iNsmCLXrxQ0GBSv5AnIyze57VMeI86Rj6RbyQbZAMyCaGNQxt1nrqqimdm8lfCsUQEsIy+03D\n",
       "WwD2mJJhIAGdc/tjGnSSk04a6f/P9oxFqfIeuDeQJ3sjGAg7CyVoBD/Ch/lvo9ur86pW0RKkgjQs\n",
       "aUJ/OY5KiXqBJGdQzWX7wSYGPiWxWnG1CYAFREOhk6nHvqMShA/7xrUvK1DTchS3/HU9L8rBwLW0\n",
       "Z2MiJuaiui1QoZYcnfhfD3v9B2u5Y7z4avfNdqsK6aahOlyyvhGjSyWU0XRTqFDUubIALCG+jW9d\n",
       "MlV6s17yRfP9+v3o3QJcyNIHoYa8Bf0/d95yFBklThc/z8uWPf3d6wbBUr1MvZHuueDYlTdkHFIK\n",
       "rhot+PfE2KhBysXPEtC6tMyE28fmYwmLB/nowRIOpeUPolHziQTQ8X6nW5RPVGAMeAIa3CAmHZaE\n",
       "eS7tnHoHZdjguUgtlhxEFT/pl3MeWKIbhK20mYQAEbnWbx87wxK4X76PQ9L62p9hN2qCaoQisDAC\n",
       "m3hatH+IfSnBRo4WCGCNKJ97wxtDl6c5V2RKblQv5Lf2C5fed+fALsXRD/a1TLUlupQPu9t1VktN\n",
       "OgaOmfWNgguo0MrAAAADAAADAScAAAJ5QZ6FRREsO/8AAHd0BsvJxABtFcR1YbwMmP8MsAFdLxkN\n",
       "vqrjsQi4ViD8PUiptNpbiporSYSpFrglBH1mSto/6MP3caxOFOS+rpIQohPyyrFDuCf5CQ2aE6RF\n",
       "HEdqc9bU9/8h7RAPzCKHqHrcq8jf2lqujgEp4SbZdn7vETyXTi4EspARkBt0WBwAw6tNqJq4m9mP\n",
       "FhncShLwy0Cfg3yA7p6uqctgZcbxaBdLfVvhetQ6VvaTn/hIa3ES1sM79q1lw58iwQJ+5QbilF11\n",
       "sOERNLc1bKVp+eFAof8otD4SIfkLw4IUzjJEI65rcoeBLiDoh2c4xib1G+3qGtiRoqf3xHs04lVD\n",
       "+ENSwr8BSFeJZlpx7bASsJer4zxxrnRewaUFmTpl5rxlOr4a7Qc4wn7JMs1eeJBKB+1HDfyUdzwy\n",
       "00Xxg5LWPd/+3z6vLHuza7GJQAmczYcgQAYBCkv6jmaZkARcxpJu//VJ3G4NVqyLuDIl/AaI+HnT\n",
       "w07ZgY6LIEZ55E4PttdRpUxvOxx4ctZthQjalZBOIgpp6Rcj059RSTkVlEoAyn24lskSWk+NS869\n",
       "iyqsXL4oVoZ8v6KB1Yxit5nC8jq5LJTtS9zr9RJP82RyLH2quwLcuYvZQp6jiEQjRlwySwfDK3iQ\n",
       "9r/BoJc498OE2dBZeAL5cHILnVfp5icXxIUQpxqSdF5V68/7vbt29M5rivdKMJp1TkWwo0zozF92\n",
       "krS3o4DGYhH7RrtqzWRlueeVPtMzxl1hE0dTtgBPuPHxSG1m4sjCL+kyIREM5IMPWIoEDzeZQDoZ\n",
       "Ki+ULMEctTbaJcZ9jDuyEZsyvEIAABsreZAAAAh5AAABoAGepHRDfwAArJ3RnarQoIAngy4gU/+u\n",
       "g16iPl/qF30hv1ePXSEz6/2B56Hmkud2MRTyVFr/cMbfyL9fQSyowjYL0Qx+3lPV4oVQhn7hX5Tk\n",
       "3WeEbNq3W50zRe35Lm/T+l3Ojg0t5nD2z7qcueOAb7PCTP6zuhfoqNMG5CKYv2D3XQMOQrtZpSG/\n",
       "Xe5b5VXtr/NU6m9obTWpPEb0gjiTeCV41RtOOnTxGZy9SweMs+A4fWIa/Xas0f1ZLiAqKvpN0Ymj\n",
       "xNv97dHyQqkEtt75IbXYRm2cRBva4edgkrm/lOpYH+EkbJtu3xAp7u3BpsnPaPTNOxFDbddaDpW/\n",
       "FwRbu5e6TrY9i/pIxrAcC79XEJly3YU9uMBu5kZyCQRGe0Ciqp1rJanFGbaVOHpRn18md5hQA3cz\n",
       "fDm3VPbSoeAY2BjRNAhTC0kA/sC4IfsIsyls2xy7hD5ek3sLpA3S9JsJhF3uu0FFwN3Hrq+q8aMR\n",
       "ypMfvnk1j3maR2X+2hPrp6BSw0lQhk6QklbYSsgrMZNRwgcWw6u6AAA16S6vy4AAAH+BAAABiQGe\n",
       "pmpDfwAAN0XQ4z89wtfnzQBehl3LGhJfOpCSA94Wo7UnCYyEZtdBuvvAHCyCfEpgTvJJUh4mk+3I\n",
       "td4NBX6JukhiTOtVOjDCbvAiJ6WWlEfySRrgoASivXmlTAGAeueKJz01l705Qun0Ss69G9hDHGMI\n",
       "fQIAsNdeCiJ+R/84tTUnHmtcJkufC7AOd4nov8IxZdrZXjUFvBYYr0xvDIgFMiXCEPoc4f+bvI+q\n",
       "4Y6SZQ/jfdakqbNuhd5H2dBHGGannCtP61bBQDm0jYf8xUqGCfjDVODnioYUDysU1ps0ht9U6qR3\n",
       "btPKgu24hlH/9WrSCGijHKTCWR6nvjTyhTh3XhRoRdhSn30yX7Odkc968KlpWWc5GOnHQWELJ21W\n",
       "ihQbbbR/dBHWztXKA5+UDuOVdgoLfVawEVlww922i//SjftsNFKxHNPc4AUQpmODpr2lcQ7Ztdke\n",
       "asHWmI4LrSgBBnPscBLOOMK71q5z81i2iivnz2OxgYpFdwQU4bAADSrFgasAAAMBIwAAA0ZBmqlJ\n",
       "qEFsmUwUTBH//rUqgAADLfHz3uIRwiVNF4n3EYA4VHqdo5PEyPYgTV0KSbgjDh0n75rztPPzSxAj\n",
       "7pBlDyL47KTHkBw+VrIim2uss8RlQyF0BCi5/cGEw4Lhn1J4sw/2p3XtOPyyFH/n+B6q3fIIE3b5\n",
       "+cEqpOvGOJVa6xZtBXEKSgDWmtn1f52NmOeliAnJg1HVb8xwtQVWDWENKa8GsizT33taYGje/W10\n",
       "wefQOLmSdassqjhulZy/hkoIVzGy3d6HsrLF7fE6nxDM4ReEF4hYdbRAbDbSUswtiP+KDE0FrFJr\n",
       "azid5ID7gl+N8QuhIz74SxWJ/ElrWgwrzjqDPf1xFKsVe9JKQP0BXjyYz8S54ZtibzRiosXXO6aw\n",
       "zwWrFyEHgTBUIJdaR07GWbDE0/L1xiBRgZfkIkIHcLAkYL1eWYtw4X4RFpFdlCHCEVk0PK/894nm\n",
       "sGZGUgXaf4wIHes3xNb3i9xbCcfk+n0MA3bztDVxpnZOSJqyQJ5SANbdFrYWMODrINROVHLf0EQA\n",
       "2/9tn1MR1TPc4t5JSOJ9vfJiRubtbCPjq2JK7TzVkFiaMSCMeJfbyHYeHdPDKOz+FSZmpvPb+QQG\n",
       "A7zMtgkosxQ76XLGaRttiwSPYlkDbmf9gJNwNr3znA7XauVYsPG1tM/pQ1Zuq3Jyslh34MfKz2Je\n",
       "OSHD9cpzoLTuSk8Zv0JOcJ5eGFE5IAMv4Um0TMc5YZoj/fAMpYC7VgqTX+rfTDqXyeCoCdLlaxvW\n",
       "9Yp55m+2tgP2oS3qyKPFQK0k9tmfRilZzwyfleIhXicb1+WVCZN/b6qnRUHWXoEx4lHe9D8BbjPS\n",
       "eBgQwozgoxulbeVZrestWXXfp+nV9+K2P6TuIRuRrij5f/GsoXqMTAjYJWBQSnFhptP+/b4TdrWZ\n",
       "sB6Nd6ujpMte9u9MnMIO7L06qoMVXvA3zMcBrKkrHoM+mYGc1D+VIudMvxBLxVrC2U/nsu15F12I\n",
       "0chdIMgdyPt/Pp+Qtq+eZpGOUBELRERXYMkZmWvdvZoMFYebhrvzim8Us/yXtP1RGeckrSs9yeDF\n",
       "UsR8/cQdNFi16YBa0FEu+LOKuQhOa0zd/HVDwe58h8mUGAMWAAABFgGeyGpDfwAAn0wQDMHD6Cl2\n",
       "PXbcHRlPod6/WsdQxvv3VNKMBaapBztJ8ihQs9IHhkrFKIOMP1SB6CMAbCB/lMfSlFNlSsp+xKdy\n",
       "/rHHFTwj0nYniSbkO/j8hSpy+q8A1RNCUOwOfRBnMexDL+fgClF8ZLFiq5YwDBKoF+fyJjVPES7o\n",
       "piYDetIInXJ5NeymirlFwvf7FhqpB9OKEwX6utRI14SANg8DISFj3DI2IEKQve+UiQY6CS+C/Dpz\n",
       "ny9jDJSFl/6uYJyUW+kLgTlvdRqsrWqvyDzIDb6Ag29AO4A+9q6UiFRWnaHveMtgW1TJWZ7T29S1\n",
       "8j8U25+WWfEKoGkwHcvrbffHMWTnpwAABuBJfAAAAwLaAAADmUGay0nhClJlMFLBH/61KoAABvvj\n",
       "5tOG49T9MPgAWZ86ueOf/bv15tqM5Auq2DYE53Q8qIh4P8EXc/udYkYWbOdIv0WU6OWb/LjSt6Y2\n",
       "lne99GKI+w76n9iIZTLoAo+w6156mvushzlTv743oOF1oowcbk0DXWujXaind5VjDNp09qy0CAxw\n",
       "/fGnQ7QKhTeYkU6EQU6uSqNdsF0dmJXKeI1JHH0z6a59BoR09WjfMkC9fUq+ztqwQT9PZojscLOR\n",
       "IZHY/f3PYYj7wOfEPf4BxdM0RpTK2ppbLQIFv1lw3HzeQ7HicsxPNl0+msbmyYHoL8BqfBTfH7F1\n",
       "6sjRRItkGMwvwYhWxObHMj2GrF/yXlsotESIc86xGYEogc+cwxL59RBvPtx4YOQM9VqlEFRpqyuO\n",
       "AK72XbHlTW3H20CfUeg2p3lR5j4494oxC2uLjVaBYx+asRJ293diBR0F8l8Xk7zxgFsBWpCpMDTh\n",
       "iaTm+jz0GZqcOF7hAzGgRSX/FPxyvooeQiRxuoDlN1XabCKpkcixZoSHQ8s0tklqYqu/V6Ev9WPD\n",
       "aU3I+7PL61nsmgAOMDa1qo5GgbVraMtHimu3A9ErTt1gGEMhk7KAOIXjFbsE8pxqORdPv+S6k6h1\n",
       "slpdIYz0PjG8W2J5dzwcuS5aLizVP/Y0q6N3DnCogf/KonZMUdGO/pTbzdA6l/RQWK5Q7BR88sKJ\n",
       "q+HDdNrfrHmOUFWCU79kGsGY8gh6xhgZRvdI6l2GWLvyqYNi6MIuhf44rJOYiswXFSXERkK58aDK\n",
       "fsNRASA4touIvE5T1KzUzEgonmR8/QlrMDOVRicCbjEFRJOhQWlBlTmfqzq55/Pr0Frpsk3aouA3\n",
       "bm1SO/N8joF5ukkwgvCq0zx17YAuWZ7nEevqgwscd/4+gdh7PuiZPtTumlh5BL1NKbf9NsU46dD9\n",
       "LSIq8112WiYgGCmmx0afhVGB1vKjL1agj7IWZis35JhY/w2cPpgXrGBfzh7qscIqZNnCFmcZDre6\n",
       "l419P0g3974W2iPtCXOLuVBTRDxk25f8jaFyMMM2nm66xVRsr5kbEgxCkSQ5/MWmyiVUJmvTAKF7\n",
       "u4SoIWRmIgzkO30nxVcg+XmEJmLJiMOINUxmei3qS4nfMQebUTlQmvS9HCq1YhVmuIHnDMsK5hM7\n",
       "l3LCe33YF9b8L4CwnAn6l5hShNczC8RTIuWq9rVg+3vrjG3G9MG+KqIctYQOOQAAAQcBnupqQ38A\n",
       "ACfMQBu2YL9wS5KUltmoClm6cMsEH9QSms728phRRJ/4yW3TOkwCXRynsgQzMnxpFNTtxBsrIccT\n",
       "hphwgenEJH7quHRlUc3MDKuExKjZCKYd9ALzaB0LMpUlsMNh+hP4U4TOFY5rqwRmMWIa+nSWOh3p\n",
       "/i4mXLqqQNm96tLTDPXqycx7G042QVr+4IVbCKbwINlROpkP16bgwgPt9gew35AqpJDkmhZk8iTK\n",
       "L+dIwyWYk1cGNc7fe0EGnHHikpJyvtQBeqOq6CCz9/X5CIvXZs4Z49tOHC5GyZUusFM7+2uXRyEA\n",
       "6nOm23ZATp45ij9dwwRk0TAAAB74fy4AAAMBxwAABDlBmu5J4Q6JlMCCP/61KoAAAdIeSZGOdWIA\n",
       "h9B8HN7/rLM3EYWPWVL8Gs9B9PhXbjlLBinJ8pvLpHvGcazWy8Fsd+Yjm7xs0UkWbYfVpPEwPP+E\n",
       "Xd7cs9LpDBvTGDO0P8+maIWHAM8+Jd6dfRYVrQvk1KvAcMnCStvgfSONoiDjzrUQGmYjHBr4r4wV\n",
       "tsUjWHjP/Zb4Jp2u+hZCD6agKjF1CJZtfL8MxtOGDd2c/Vbm6WhXUGij3GWAg/qdDmGiJZSk5XXk\n",
       "RQPJdT0qqAd9wKc0peoM+xOrEx86Q3yDVJOHwh8YRZa7+nXmlR7aIWdQtE4tlMh/KT8/Rrv/j7kU\n",
       "cQx1oKqn8VYW5fGvnWXi4k8MY7JqrzoSs1zapwQAWt6JC3WX0CgeEqBSdpZCj/46RXw0BVq6EynG\n",
       "wsSszrsbJG8pvuPxODiN9q1ZvwC2IuSrAmos7+9cCDToE6nNWDUB2VJEth6xdTFjFwzl2y3AEiRp\n",
       "GPdvwwfbP1o7BsZ+wGeF9XdxrBvlroSV0l0BZh+W5gd6Na24tMnk9Zdu+mnz7/7XwYm/h/sAxvWc\n",
       "lab7ecLAoFBq+hRi8YUJVhqetrMAHN+bYhPKRKwT+buNEpdT2DVY4Cd0pAHBEn+Ya1ChhEu28L09\n",
       "5qUTYLyRttkm6/m87RaF8YYIlxDFcoSqRBhpJeuImhPBWjh4biJIlBFPgWTdIAu5du3Oyr32TqOQ\n",
       "jngAumlMGUE0L6S0J62ghj4NnDzjB48KQsg+6Ynjsqbjn4kF/dp7Z1HB4uBuA28K9u2iQmpZybmj\n",
       "TATP+BRpcrfBOvcxUpZi86nYZrpU433sr6MmxO91tShKjO62BI/9YTs8/yMQzJEntluOexm0r8dl\n",
       "dpt6jFyvcoVZL58pOczjaNYhO/XrvXBowEzlFbT4YjHkOCZE6YmfvNto1kxpEl6Vecnv1RVeJE1L\n",
       "pLV/pfPkLP+nozFKNTAlQ3bhORCrV6k1p4R8rtgjOaHkfWlciyg4hqKD/dCMtXjtMjhe7hg/6NZM\n",
       "7n1SFAp0mpbenA2xvAARpWVRfUk6q2961DuE3XoiOAGK6LAeN1cZzbaz27bMQuCfU2vO1APpHxuQ\n",
       "Jl+oSclHoV7KBoKGW04kdoqWC8deZpKAIKLlRgDqQ4QYEaxaYtnqVezvFcYQkOui+6g4YszhSCNs\n",
       "X6XhAHZlxVst96MCDomJkb5xn8o8kaMLyFwk2Z+mtWPfWzbZrO/2uL2ZCctpIuw6jIkTBPjrsubv\n",
       "FpbkbJ6uFcCyd7wleCw+8RTGXRyxgdWgkYcZxlGr+jrkhiU8TubB2VOpsMEHxs0Rr7EPquzsHv6G\n",
       "EOyWcODz1UGITrzs62eRxj/QrLCuVRig0S9zBqZ0mSOKWRG6uogWxszf7Sl/PKPRX042pl8JR+F2\n",
       "UMNO6XYqaiEMIErJxf3rCP7iru9qlBj2WAKjOA1IAAABe0GfDEUVPDf/AAAnzEActlosydbSArVw\n",
       "DSm9sYKJ5E5mNWWzBQIGkYEe6QA4rCGrhJNcE4SiaAAEyleCM+STTG6VbcGV5g/lGlSfre8wyQhz\n",
       "L1Ebv0vEhKUDv5o+Xr4yziv9YTr/3BKBQWxT9rcqdSXYtKQ8XcJ4tov8dBqdekilH/ds/m0ZYlcK\n",
       "cSPQ+TynfKZzZQ93yFl/EGjqjqru+dtUMzwr4TYMnI/jG4yF6rQTzf+nejx1/yzy73StL8gOvg8q\n",
       "01FWGXPwX38XgtdbQpS6IbZUnyiX5jsJnQGcjm1qlN2xN0EgOyCmicJwwPa66kV6I27lW3S2wnbq\n",
       "JnpHNEaHuwzwqLSrhiGwSWuKVFYjLqdCyjfQOGySWWJf5ensc8dOpiqEGf53MGJxfNBxyFA+SjjC\n",
       "ncpKGAJuNZOCz+4Xknoi5lPNEK/dZWIoO1f4Pa+TkZ6jGMbAj/TDG56ASITL2hfGtw7laNI3n8uE\n",
       "wr9vcUAAfd/68AAADPkAAAEhAZ8takN/AAAKN0cB0OAEDS65ci83B1Y5rWFWYj/qe5Uc3XlJ4JQl\n",
       "LaeuXy/SDtNHLQQK3psmKlmoqfSaOhQDBFXCMBmtxIOBBzk5ucquU+e/lLU1F5/bUYAspWmYDt/u\n",
       "MEwKTNK5oHMUsQvLMUrQafKfxbn8X/nEo0NeWWV/CsS6eFNqmXiYbGja/J7bQ+NIbcZwJKK9bgsl\n",
       "hhwY2Mll7u3HBO0wGdNKU5sXV0Tz7DmRgpaJcXsnjId9SuWQ58iDuvlj2GD2xs2F5FRebP8M4nQH\n",
       "p/7TQfMa8J+QVQ+AfAUnx0GUwml3kvTnrzTO0d31r6eWcxwlnT6RljHWlTGBu57EHcq+Bjq7B/oY\n",
       "zJ8OYU3rj91nvriL5wAAOKjAAAAekQAABKJBmzJJqEFomUwII//+tSqAAASn/H1GYPgUYXB3Fxpq\n",
       "45ZomRy9klgcyVMiixevq/h8oAgq8jN2bf6/un1XzHG2wGHYNE53Et7nPCJi4RrS7N0p25eJKPqH\n",
       "pcbtqbvO3jGbSvRgaM7DrH4flxlEPrjct0493yRsi6syTbf/G41V0z/5VE1QUVYiSnqPCTSWutYV\n",
       "XZ3yxnmx50a36bh7SMQGF2Qn0ITAXZu6ED4vP95g/IUXcEsHs2Pcw81+gIxQmhBNt2Q3sX4sXB4Z\n",
       "XXvI8VLyLrnHS0M/rCwwNrVKs7rpsRPAr3NcyFfoxCor5pvrCFw9MRcYzaV9op3LvsZTTHb/juvb\n",
       "hwOw2lunmX0khg+HEIm+Uyc0mM0gK44awDYn5C19CkaervP4pU3BEDW1hpc7HcZ1XNxH0mODQiZR\n",
       "qzNpSGZdzm1QOargmZS9tzrg7fTuREtTZF6xIJQT/j91BFllnqJhfdv4evvcW6qIT2KoigfLG60v\n",
       "pWMcRZQJH5iuce6I76YG7gDncbQE8zeKRdt8DiXKu0eVVJS9ff7Bj0Zu2dUF4Dqz0Z2PGPIoMDwz\n",
       "6pJGz6fJnTUJ0ARkLmXv8+7+Lya6CCRfiy999tZMAv6iNo5NfnpTbRE5FN50+rnDERPILV0m0UwO\n",
       "+N8wLGhil4wuSwZuks+QH3veksne+6o42zP4MoAiz80WejmurkNGfZL/sXjU5fldlbNZ7ffQept7\n",
       "oPFEKFi3E3bjK9/M1wFUaJhfZQIpk3IjiV2/AylYz6mm2J+/tqhfE4Fs9BQ/tI9CGJvZVvs4SvgZ\n",
       "igKxty15vyHCgKsKOiAQvPiMV8DeZ+FG4Y/dAD7tWX2orfwL0e6EKHagSthkQHZa2w6cYZBdZ7eK\n",
       "ewB+O9T8/3jzojMFxEis9iLogwbF2vEI64+CkMg4Vz2kfYTiXWXnIcESBtCN+DsmGoYl/x5cn6A6\n",
       "D7lctS0ABJGEWax2+fV/V0UQwYk5TTul6bFWNCRf5k7Uj13xrWsPcWJWThQsHpxjXERSQZS4B3Tm\n",
       "CahYaSUBXQoN9K+Pa75hnteBEpRIE6h18A6zGKNZHApmoWf4UqckK1+kN3gkqB79JVmJf3drcUgV\n",
       "4xCpbD8+UHardTbxyD+V//WGpa/z0mceFyL2cW14koAnqeRar/Bdk/7Q3i1RuLMyQ/eZFAapJAv/\n",
       "C/oC5Lt13ss8xuQhM4sTf8ammQ6lvcc/4ApwtfvQ/DV8Bb0WLRen60MLiGNFCAaprg643WDcKDY+\n",
       "ggJKzfqACVZLYS6frH+RE5lJjXj5VMW8qI7Ak9/e1Nz+p4qIyXk0iG34G/fpuNeynhEXDhaXqVpm\n",
       "cIxPg6Ci1pSRf5khuAaezYrCoHAhBWexBU1LPv6M19Bv6gcri1BqqFnJJpRQ8PhrUHPPTSHIqm52\n",
       "7tUaoDddMehs2tXtKpzDdkgMOdIdx2cSbGfI0HF8KZkpXRpYRcWsGvffCUHI9vP3rYJUlec9Wtwt\n",
       "zs9XgTgDTPAWbpbGz4oMG6axGi+dFjUUVJcM0Qchl/0JJXSTpA1BF6aogjR6voTA8QmUY6u2cbNp\n",
       "InSROMUXjQjtB8mRtenpAAABi0GfUEURLDv/AAAmsAGx6UQPqyJaZifj0btmXAAJf+5m2a8M3PNb\n",
       "XS83M+RYNAy7+XhtsrUgxI8Jro7TM7+wirTXMgn/JDmyIddIG/jrL3nDc7WrQZxLB9n+uAv2d+YD\n",
       "xPftkg1c1Rn/hwPidHDX3rNy8xjG6D1qkVyNQ7iDGaCKLQX/DgRNacZ2ydhX7+t2IAu0Rtot5ZfF\n",
       "IHlotPjwEROKXOQgf6GyjYA59/+FX28+sXHuq+O5rPt4Oi9pfCHCXK3a1Ut8vwOrlA26ZDii1KLf\n",
       "chxv9GkxStzx1ObGRZjtQaM29Dc9SKwqwOaG6jKchGSnqD3JMFjA7uMQzG7tS4RXRn8Pde5da0SG\n",
       "eWNrIteNxjmXqGoL+26rjlpZfMM+KFbE6zQCDyXkqnd9yDSYJF5eT6t3q76nSC3Lw+Ff4EDUf8df\n",
       "v2PiGluKUW7aTTuxaP4vudjloZj9EFSxGcveXSzCO5xgwEvzg1xpEEmLQeFo7cbR03/qUBCotoxS\n",
       "PAiphqgAAP+lAAA3wAakAAABDgGfb3RDfwAANz1g9Hy3QStDHeEhoKyOygv3O5eunF2YJFyz3OMj\n",
       "SX6Q1cBYAP3qwENFSFh6lFqiUNkuNGGmfSg1Pc3/3tjn3uGvXE20O51DhkKezulZWcsKaa8Zp0PW\n",
       "PrlagEu8HsrTjkeXQjZtftNnsURImYpI/xF6P8Dku/TGaTxdFMGOCIj92/ha8XDKeVjeboPr7gyp\n",
       "EJz2qap1Hh/KehAL4+vsFv9DcmwC3Z7D0ZyfypdDf0WObzVZm89tggn3aDpW3x7IzSA8hPihrCiR\n",
       "zXoikX1ix8FhxCQsa2mRCvo0CaO/du3LkRB6lGxNcCxN4Jp7RhDZcVAWfM+Tv6l5cYLDNAAAoUOA\n",
       "AABVwAAAARsBn3FqQ38AADdF2ShkzME8/HMZLeNFH1X/fZh9MmZELbDDViFulQKIs/QVNXACZied\n",
       "bdKuauOlChUkfL2IqH+ieSQs3xNSdFcpyR6Oun/ckKhI/5gkHF5iIL2pgnncNC4m/M16LBOazoIA\n",
       "6OR3vsiq5e/tMtbeP63btlYVvaQBuiGlV808ZAgrer4ct4myfP5HBuAt3IxXfa9Jzd6yyZuy106Z\n",
       "GELvgD8twYjPiX0dNvafAXaN4TqvLz1ea7Ph+Cf4v1lsgCM6GhDbDxsMMGJjgL2INURZ985o5fo6\n",
       "q+rNoqCgbIWYYY0pkwn/L7b6I5Yz75pkQbQhozidn7SrIBW61307Ia/Zg+1e+NyTyNaUTLEAABVe\n",
       "4AAXgAMXAAADt0GbdkmoQWyZTAgj//61KoAABMf7+Le1oaK9/cXunX5RBSqV82p+sW2P2+a52aKj\n",
       "v+xHKc9GuHVgXWDNl9rQLtIb99JTmXxAh9LRMSGJxyXrsTjuT1N03KfKNZGz8fJHq8HuM68DSrAY\n",
       "QfYh9Y+ieBqW8B/wk8oIYllJBWstN/4oa/DXHVjxNWEY7b0xUYVMkjPzNB11Y6u5vCbCt51lpaLA\n",
       "wjUFFWf3K1dfMspobe2QwXKtQD9/4jae4gE/zSkKAm2a8eOfhBnjRQHqSluqLhcvEYqmk2oDA+gu\n",
       "B+FdDuveXOY5NwUwFiz8WL7KjZb6oCXk2SuKqO15ayj36cHAJARwj8Sb/woF5UnQBn0gBDTP3HH6\n",
       "A2rOGlvIGdYiJCBEPc2jXTAp8EFvS58L8P5P4zLVlmQL+vy0+f7c1BG7OYicuyTt3+wJ5v86hiCF\n",
       "n9v+z4dhVL0RmeIW3zASCP65P3vwzRFvoijVS26EUlYb3MrncU2Bky3TYf4UU5hD1v/SQCl2AnWG\n",
       "9L7fl36hteHZBdBHEzsT4YnIFzULAecA5OtfLFRPiXguOqXhLyxfb4E63oicC6YzXtsE5gzGWoLr\n",
       "DgGmPyA3KIkpmn6iAAECpmI0i7qjOyrABnGJyd8B7zXRqSpMABZbX/EF+NX2ndxApZYRR2IkQgPO\n",
       "mQLGxDi6vfTpMXRquvyXZcNbScovkRgTjqAfoAhJqAZ5AzTSnEPFMWEPz2+O4Sv0DClodBFZpKty\n",
       "MsB02Q7hdKSEYbkKyNg7Fn7mHBmthOQGsXVMfYSTDQxFy6lXPWKIgVCW8/UnPGjQKWda/02NRNfE\n",
       "u6dMSohZ3No1A3dSzZKT/kLIdy9e+8s7dWwaxVfa5CRozY0o+2rytUcn/KGqUV2b6a4Z0l1TkrgO\n",
       "gjcdPQvyVaOicKQlN4T/JRvSCJtkpQfmws8GfIsOAbDCIwxE2/K7hJ0+8DXtqgqkAPjWxJya3rFv\n",
       "8DVfeDYsz7yXep7cIZtcS0m2kWYwYiNut220TISmA24xmI+RrLqgnrkCF4S/RK331feXY/nTed5O\n",
       "dXJK+4UEx9JNjivQSu/Pruyvr+wSLbQ0uHvwX8TcpDMNJbLiGJEN73PT2K25dRR04lRbrXeiHtzc\n",
       "wwwe2wfli7hg+KwTFONH+eOucEu6Hoy6zEjq0JllbJP9s0DxS3SfiKsZJpQk/Qta1v7nGPjNWOPG\n",
       "RA8MziEY+8fsPX6HTVJ8ULI29uCtZVBItJj/8MWaGFpNiZXQ+cJ88/1uJKZ1SG+nXAAAAT5Bn5RF\n",
       "FSw7/wAAJxSpBYxDK3qbBiEh6AC6qeVWDS/HTbRRGKAalZnfYkVfiMiCNUo8ykq4do+iQnMoYE53\n",
       "uDrfiPNhEk/D7ZgFwg5JiFrXakzruCkul3Bd/2DRbFvdrVVkY0MjyZAvE6M7myorMUwsFxqpkK5i\n",
       "ADP7iONxb0+uKeSp1mMjVaVtNKyxcNlFE9jTWzLwy13pTatidL/p4xs9VgMcnNh+R71OG8bFjurP\n",
       "Kx2O7PlN07yutLMN1ZAZw2KD1cdiw2UfW4JeqyC/EivJhtYSiogLMcP5/eHcvQg8eVZw5ycufq1A\n",
       "vAfd2JAe2zTzftqI4pIGRb85nt7FOJi/AGNJRSl5uW47YSd/SDa70rObV/U/wB43MBnhc/tCOL06\n",
       "Smf5UK5TQbQ3DtVy1D6cySGy5QAAPJP4ACFkgccAAADaAZ+zdEN/AAA3PWPu/djFutEk6E/ACWLt\n",
       "39N9opkA4u27F3QITJQgXDsJmvrLkPzbcQI6KGYxwukqYNXRTWOt78p4FZfcY/3Oq0q7DEUF8L8f\n",
       "3LzWwT2V8oQfh5bGwxFMzgSAIK5biMAQSVHoiMzHERMj2KWVt9xZCF1WA1ljfXaVmHdHNW3F1hcU\n",
       "6mENqKerRHgVPeu+6d69npm82Z3sBneR3MbuEeIBSVQJGWBnr5WGQH89wco7iBFMbRjHZTZ1kaU8\n",
       "+4yk9cr7pC9cn5CgABYSP+GAAB1hitkAAADUAZ+1akN/AAA3RdtSk+oJRDlMXRQ0TghcA4MS5L9U\n",
       "mBkeQRjkv67sCvKMrJUNfLXNgJeQ2DACFPdg2/0MCfoWkumG8uB7n+C9kZj6t4FtadPlglB4WIr/\n",
       "HQBTdRc4HizxIJ+J2+PIHdafjUoQ9OvLQpM6bzzUGLBc8CmtesgkI4nlfQUsAAfkB+3VOIOsf6By\n",
       "TBkE1bKvjRDlWsJmst/38yoIpUtOIyobsOrb/Cp2wwSqgZLXeXGgWUgi2rrm9jQbUFgxoNCAL9UA\n",
       "ARVI/iwABIRfhlQAAAL7QZu6SahBbJlMCCP//rUqgAAEwZ1TRb6vNP+IWfKdgBYZ/zR/7KiLrb1x\n",
       "LbxJbdzlTM5M9hgn9XuoG0X8twMmLHT5PiictGuhnZAmbn/xkEKUnQLKnE29eh9j2WcB9GXlO53+\n",
       "Sbm9ou8CfuUTsBPmxqNa85xiYx4zcM4GCSlZJvKSbdLkP0XiUrA8ZYk0vkxNh2azC2blnGOqO+mP\n",
       "p+7T0ZkN8c8KdEpRCQSqxi6fDr+f+6AMPhoQHgAtkkSPrmk2BWNiiuzHzYnzywdfWzlZE3FOSued\n",
       "aJVGo4YqLHvzZlCdyNY8BaSFX8rPIm9jHhrAtHdLPhz83vJVCTpowm/+a26o/AUq9+KaYBNzu7fN\n",
       "sbX/VpLwEeeWnk6U/nZPthSUhozZm+rwt6y6iit0UQGo9nfGXSxTCAtkweqo4+xvQpJe23xRTWUx\n",
       "ucLrYHAyskZlUfhzbXbIzHBF0ftPWjsxSQoq3AXP/yHWO04g7k/E2qM6t/sF7rK3dRknB0nGBb1M\n",
       "G/rN4B3TsOLZApSRYCCqQ+lDpS+GjCu1L5FiR7UJjaMjnFTg9R0KFC68ml/UNY5TPZLrMPNEFDYk\n",
       "0wVqHzdM70eJ1gokVwMsF8TPSSF0wvwru6cLKi495vnsFAFww6yXqfvic8//t8IBWi9YwRU2hke+\n",
       "gQ95zNgKj6hcpHeeEba0E6j7EbDsAa+48TU97eipHV1YEU2JDcdPD0gYIXfTDzjWnV5zqyD6CjHA\n",
       "3MgO40WrEDXUWvkwAjTdtFD05xeUsWZFq5DLc+hCNHTW2PyQ4R0AeFKggwISPmuZqZoKJMTDk5gO\n",
       "FFsrIOQ+rCb7SqCA4bydKd7vuh5Pf4R48/ZIc9t4NCErTe6+trhucxKZB4LqhND3OMkueE+41Ikn\n",
       "UkMl2Q/tcDAlx5PstssosanVjcVv++dxXlRcVSx+kKxGu4HbNYOD4rWr2eqWjaokVtsMsR7WFock\n",
       "aAAUueh9JAeplgS/WSBinLe0LO4k04RWE+PUzaSrghgmhjfNgQAAAQlBn9hFFSw7/wAAJxSpBVjz\n",
       "FfyMDxJOJieI+I8wAlku/b7gk0psux5C2Q69vekpqQwDrsRPqbEym7Pjp9aDAaNaWdDg23mp5Kcx\n",
       "gbrP94Kfbt2H8hDLyicADUOSGGfHYbTQAiW9Alj5ksdCK20DsGkm9dfnJuBDqiydGgI1NKHpnPCC\n",
       "8hMOzOKZbb85Q4M+EzDVzaNADy07yokuP7vy7x0gFUgavF9Z/tPipAUBD38yVMFtRtOK5fQlo+kz\n",
       "7NfO2CLa2hjn93Th4A4kxAPbzbn9wfLvxxEQCE8fnuSoASzYO8UCJMOwbZKQcpyWqkHTt9VBhbA7\n",
       "xwGBBWCV5BE+f4AAkob/bgAAAwFtAAAAuAGf93RDfwAANz1j7v3YxanzOk00+yAg+wZZwzwo3PpK\n",
       "AC6W01tGZhAEwxQBHMbbr5AAiD21ITEL1dUg/+fvUTHKp42O4RSaH/0r9ifcHOTLdWrX5FI2WAEh\n",
       "Olun/jCUHWUPFqqT/kOXnPp4imuZ0cY3jCqOzyRt1JfBAasOBXZqh+ocsJxwq8xecojSPsbcuRSp\n",
       "rvYsCvKLanj5+rYU7HYKbM1pizVBLG//F76sAAW8kNP5cAAAGrAAAACfAZ/5akN/AAA3RdtSk+pg\n",
       "GEYTaBH+dABOg3pKERET8lW7EIknOsRwDQNVit6h9K89p5H1c8I7u1wBafpVDoEzZUyFr8e0fQd/\n",
       "uEk4AjNWjZONrhLEQrC8JzkmJjRj+AQkFBJPJsfvdJpK1Ifdi1KyzFCIB/3DHMEDf/v4AFNBkHjb\n",
       "NKr2Rpauxq/mr8fNcd8sZLSZqAAOGgdh7cAAAEHBAAACPEGb/kmoQWyZTAgj//61KoAABMPVK6+v\n",
       "d5dUoAbAQQYNLb8uBooBmiyv/FfiQsx63VRWP16ZGYnhiCPg3dcoigOIAk7/mJNqzvs8YBEe2XoC\n",
       "r2l172xN/mxbDy3d8hNd1cJa8ZCom9DUW5W6Dl7suCRo9u616h9f4oPAxzuGpceZRiyC24219SHp\n",
       "LsD9ZKbvnJ7cVzqnGFf5uar62/2+3yotvB6XseYmiL7tJrlmNdtgy8a0YT8doTNO08yub/eHDnC4\n",
       "6wWLwtI8MTcaVD8VP5g3mI9LmXK3IJteWT7TRG2cDNHOaeYOlqnzyySzEv3dpk/7Gm8IDeBxk875\n",
       "B+VEFtJailx3PZB+gE0NWB6b69jJmnI1PKJeMNGR+Wnm0Fl7xvvuX1ery7EOc7TCmCuYyJzWuc6M\n",
       "zksj3CAVvNpJx0RUQXn+u6o8gvnPj4uaJbRvWszDyTteKW8YtccOj9lkwqNIUZNuZ/jDZsvxsGD/\n",
       "6t4TBbsR8oj1I6Y/wPvVPgG87KrBwrXCDCIiaHqss0cc9PcfM4pFhljv44QDhAcMXhts1HS9A94A\n",
       "0kLqxnMNM9/yc7aSsmx+ojwXE/03r/GYY8IySfSYI0zurErlEJHSHW2jkXSnIIbv7haI6UTF+kJZ\n",
       "ktZU73tj7BPhUDYr9ntKggGu/DVYn37lQ581zPrDZbwwh6IGxrCF8y6pIwfELovFbiOOQHXcjlwH\n",
       "vvzKpGHWZ6oUjI9xFtKtdcY5XS3xbs2kidI6/DhbGXq8+S0tAAAA2EGeHEUVLDv/AAAnFKkFWPMS\n",
       "jt9NRytkvAAs4wdniQQe9p/QcEFl0O7zEzK9Q6lYKyy54rAhWsBeMVf9irkJ6BQjKZUk3U+odBse\n",
       "KjYiYbgil590NcsxLd2spZtKmbKohXlKW+nSvSuw1LwcxNZztIKrXl9+LGXNY3iVLnYHhT+GZ9te\n",
       "biHDntcWjoFQzkb+bSSn5ZL/MxhJB1Rtj5V60TmCfUuIiAjpgIvAOtg+5RkRE+aRD4uEdQf2k1hN\n",
       "wAWgHNV11x4z2sJw1XFSKwYgACxQfiwAAAMD5wAAAIYBnjt0Q38AADc9Y+792LXFHKe00I7KqtT8\n",
       "SoD/UVQc8Tn6/MuJ/zvkE4iE3ZO3VS+lFuVR8ACAEJDeFQAwK19cK9bPTIDouH6zYJ7VaLRSW2Nh\n",
       "oXNhROMdHz+/ZFgMsVPlHAA1B0rwf8hurzdBw/IBVVXlh4KakDOG0AAAjJRhnvIAAAMDjwAAAHIB\n",
       "nj1qQ38AADdF21KT6mLGRfUUdeRVN55cMfb94T6pDoLkrTAg/jojXNQ/ObwPgOoAQkGka3RKzYuB\n",
       "quGjZoQPMTkegAJZ/8souebY2SiV45YbBDBZsQFnWvRQYTihHoHMIzSqJpZmABTUUNnFgAAAwIAA\n",
       "AAHWQZoiSahBbJlMCCH//qpVAAAJhu/H4IHGJyRObaAFQhUSWbRtsE+Mq32pPnlUPAXDttx+Pptw\n",
       "+IIs4Wy6VTT/JrK3XB6jiMI4L7SFKYe6hUMKElMwOco71PkO7JIID2UhOKl7MxzIuEjrfgA6sWTU\n",
       "5FLUmcAvwMXgJGkycL/un+zlEpALlZS5b5l0l+XjXVHlL6ZJo3NaHCTE0mzFWJCfxms+2jLkau8b\n",
       "FEwurq7D6X6VwGXLHLjaNL0g086F0GOgbyvLrUg3EwKNbIG9FKhGx3nP13cSUvotdX6oJ4SV73Ul\n",
       "Pxkruz4DpT+Nx5MtKjjGzyX9RBYKoYucNA5ToGjuOis2qcpDOw/tl7Y8/JluTIxrA1YZ4mTrJM7I\n",
       "susgpi75CUtHoZJABlxGqbcFNsvgFQioRxmiuFUoBd47Z7y5MrL1656xWOYhR0iJGkY+u72/tRCW\n",
       "B0xBK/eZSMvhRmlIlad6oDAjnRyOAaQC+afRHSp/jFv3x679/OZdB6k5kjXqJqksPvo57Dm572VP\n",
       "VR0vujQv/9oJQsujOrwpi7SKwuC9NNNV3lej0ax1zpiW1BYMLmEwZGf4JKzcYisB+wCX5zGcWmGh\n",
       "v2VEGq9vup9aZNeuOjTBafAAAACrQZ5ARRUsO/8AACcUqQVY8xYr9uGcDmgXMVsbk2qQTFh66WDz\n",
       "RhAxnBxqmqOgULYACdelX3l1g07zwdNh/hy1L13wMV5c09s06v1ceIMc75ZjTbyByV47m62V57E/\n",
       "0oIRHS8jKITIleL7HfZJw+eBAD/L/NeBrycfEwEPmyoGmueWz+ARL03JWN56mPjwnPAdk49yHK+G\n",
       "JP0lrZ89Et5/AqgABNa314AAAF3BAAAAVwGef3RDfwAANz1hDu8Zx7XqXti09RrN+j4dZLSW++cD\n",
       "j74VX0LMAEOw1uw+oipzSxqiXtFGcIYOdaWN2hKO+l7gqyRuFgkNpnxX5K9QAczE72/AAAAxYAAA\n",
       "AEQBnmFqQ38AADdF2RVjwayK++hXFqKDbBuQFhjJcS7B2Aqtr8IUJiDRbDUYZig17TF+KrB/Wres\n",
       "zsAACzutKzwAAAMD/QAAARlBmmZJqEFsmUwId//+qZYAACULvsE2ILQIywArTy+nrE9DJor6JLkE\n",
       "L/UXhn01mKyNiqgzmsv+gzRFNT6k+CmAYzdHmwowTSY6vZDP4IHYrUOOcj5gfdpxZhwRK5NBvCtB\n",
       "9yiqdYtDBwQepXemg7kSNrt9k5y+udozBilcPpCJUoMRlabeVHeoE9XBYfJOHB8dYvYtEJBL/2ja\n",
       "btBD1kSnPHrfOLQRt6aToeiHkW4tpd7d9dfcSF+hD1ReWxoziP50RlZwkeVRiDbzJtxwfKtchltj\n",
       "wXfqcpwHrdCn3ohCGIKgIz5Ud9t+V9pMXop60rSpKBhVLB2Y4lWZDc4HewaPekcHOOQanktKkjv+\n",
       "JZNbhxxkzDIk82SHwAAAAItBnoRFFSw7/wAAJxSpBYxEREeWPDOEvbOmvWuwSUrpgBbhAhOZUU15\n",
       "gAMnU/W9g59mySlvTDcK6XqG9fFj4sLgtUsOlRyTQlGx6VFnDSJrWxXRuN+jZ5ZHk/Ndj3TknEre\n",
       "PBdLkQO+3++4gvcqBXCmCT7tPstzEuHfmQJXiyl+uABdK+JgAAsXUGpBAAAAQQGeo3RDfwAANz1f\n",
       "e2bk2cnEym19l2nOu+rgOCmpC19vGI/XMvVLY+4zNPoJn2Wl1qgOQxAAAStC4puAABppYBsxAAAA\n",
       "OgGepWpDfwAAN0XZBPRbPJGcmMQakT8dhcyZzoQkDBDj7LmuW/sl21Zmb33oswQkAAA4JW07yAAA\n",
       "BgUAAABBQZqnSahBbJlMCG///qeEAAAZFWs7APifd2B6jJmjXO1XZ3T/zgATtn6AeC1a7A6kYuiZ\n",
       "b52/mqzUgAAAAwAABE0AAAT/bW9vdgAAAGxtdmhkAAAAAAAAAAAAAAAAAAAD6AAAD6AAAQAAAQAA\n",
       "AAAAAAAAAAAAAAEAAAAAAAAAAAAAAAAAAAABAAAAAAAAAAAAAAAAAABAAAAAAAAAAAAAAAAAAAAA\n",
       "AAAAAAAAAAAAAAAAAAAAAgAABCl0cmFrAAAAXHRraGQAAAADAAAAAAAAAAAAAAABAAAAAAAAD6AA\n",
       "AAAAAAAAAAAAAAAAAAAAAAEAAAAAAAAAAAAAAAAAAAABAAAAAAAAAAAAAAAAAABAAAAAArwAAAK8\n",
       "AAAAAAAkZWR0cwAAABxlbHN0AAAAAAAAAAEAAA+gAAAIAAABAAAAAAOhbWRpYQAAACBtZGhkAAAA\n",
       "AAAAAAAAAAAAAAAoAAAAoABVxAAAAAAALWhkbHIAAAAAAAAAAHZpZGUAAAAAAAAAAAAAAABWaWRl\n",
       "b0hhbmRsZXIAAAADTG1pbmYAAAAUdm1oZAAAAAEAAAAAAAAAAAAAACRkaW5mAAAAHGRyZWYAAAAA\n",
       "AAAAAQAAAAx1cmwgAAAAAQAAAwxzdGJsAAAAtHN0c2QAAAAAAAAAAQAAAKRhdmMxAAAAAAAAAAEA\n",
       "AAAAAAAAAAAAAAAAAAAAArwCvABIAAAASAAAAAAAAAABAAAAAAAAAAAAAAAAAAAAAAAAAAAAAAAA\n",
       "AAAAAAAAAAAAGP//AAAAMmF2Y0MBZAAf/+EAGWdkAB+s2UCwFnu4QAAAAwBAAAAFA8YMZYABAAZo\n",
       "6+PLIsAAAAAcdXVpZGtoQPJfJE/FujmlG88DI/MAAAAAAAAAGHN0dHMAAAAAAAAAAQAAACgAAAQA\n",
       "AAAAFHN0c3MAAAAAAAAAAQAAAAEAAAFAY3R0cwAAAAAAAAAmAAAAAQAACAAAAAABAAAQAAAAAAIA\n",
       "AAQAAAAAAQAAFAAAAAABAAAIAAAAAAEAAAAAAAAAAQAABAAAAAABAAAMAAAAAAEAAAQAAAAAAQAA\n",
       "DAAAAAABAAAEAAAAAAEAABAAAAAAAgAABAAAAAABAAAUAAAAAAEAAAgAAAAAAQAAAAAAAAABAAAE\n",
       "AAAAAAEAABQAAAAAAQAACAAAAAABAAAAAAAAAAEAAAQAAAAAAQAAFAAAAAABAAAIAAAAAAEAAAAA\n",
       "AAAAAQAABAAAAAABAAAUAAAAAAEAAAgAAAAAAQAAAAAAAAABAAAEAAAAAAEAABQAAAAAAQAACAAA\n",
       "AAABAAAAAAAAAAEAAAQAAAAAAQAAFAAAAAABAAAIAAAAAAEAAAAAAAAAAQAABAAAAAABAAAIAAAA\n",
       "ABxzdHNjAAAAAAAAAAEAAAABAAAAKAAAAAEAAAC0c3RzegAAAAAAAAAAAAAAKAAAIpAAAAdNAAAD\n",
       "9wAAAmkAAAPFAAACfQAAAaQAAAGNAAADSgAAARoAAAOdAAABCwAABD0AAAF/AAABJQAABKYAAAGP\n",
       "AAABEgAAAR8AAAO7AAABQgAAAN4AAADYAAAC/wAAAQ0AAAC8AAAAowAAAkAAAADcAAAAigAAAHYA\n",
       "AAHaAAAArwAAAFsAAABIAAABHQAAAI8AAABFAAAAPgAAAEUAAAAUc3RjbwAAAAAAAAABAAAALAAA\n",
       "AGJ1ZHRhAAAAWm1ldGEAAAAAAAAAIWhkbHIAAAAAAAAAAG1kaXJhcHBsAAAAAAAAAAAAAAAALWls\n",
       "c3QAAAAlqXRvbwAAAB1kYXRhAAAAAQAAAABMYXZmNTguMjkuMTAw\n",
       "\">\n",
       "  Your browser does not support the video tag.\n",
       "</video>"
      ],
      "text/plain": [
       "<matplotlib.animation.FuncAnimation at 0x1f927c26470>"
      ]
     },
     "execution_count": 21,
     "metadata": {},
     "output_type": "execute_result"
    }
   ],
   "source": [
    "fig = plt.figure(dpi=100, figsize=(7, 7))\n",
    "plt.scatter(x,y)\n",
    "line, = plt.plot(x,model(a_guess,b_guess,x))\n",
    "plt.close()\n",
    "\n",
    "def animate(i):\n",
    "    line.set_ydata(model(a_guess,b_guess,x))\n",
    "    for i in range(74): upd()\n",
    "    return line,\n",
    "\n",
    "ani = animation.FuncAnimation(fig, animate, np.arange(0, 40), interval=100)\n",
    "ani\n"
   ]
  },
  {
   "cell_type": "code",
   "execution_count": 22,
   "metadata": {},
   "outputs": [
    {
     "data": {
      "text/plain": [
       "0.6618443715524384"
      ]
     },
     "execution_count": 22,
     "metadata": {},
     "output_type": "execute_result"
    }
   ],
   "source": [
    "cost(y, a_guess, b_guess, x)"
   ]
  },
  {
   "cell_type": "code",
   "execution_count": 23,
   "metadata": {},
   "outputs": [],
   "source": [
    "for i in range(100):\n",
    "    upd()"
   ]
  },
  {
   "cell_type": "code",
   "execution_count": 24,
   "metadata": {},
   "outputs": [
    {
     "data": {
      "text/plain": [
       "0.6618390110437575"
      ]
     },
     "execution_count": 24,
     "metadata": {},
     "output_type": "execute_result"
    }
   ],
   "source": [
    "cost(y, a_guess, b_guess, x)"
   ]
  },
  {
   "cell_type": "markdown",
   "metadata": {},
   "source": [
    "### 4. Using the model for predictions"
   ]
  },
  {
   "cell_type": "code",
   "execution_count": 25,
   "metadata": {},
   "outputs": [
    {
     "data": {
      "text/plain": [
       "6.519985396583792"
      ]
     },
     "execution_count": 25,
     "metadata": {},
     "output_type": "execute_result"
    }
   ],
   "source": [
    "model(a_guess,b_guess,10)"
   ]
  },
  {
   "cell_type": "code",
   "execution_count": 26,
   "metadata": {},
   "outputs": [
    {
     "data": {
      "text/plain": [
       "9.4062199145621"
      ]
     },
     "execution_count": 26,
     "metadata": {},
     "output_type": "execute_result"
    }
   ],
   "source": [
    "model(a_guess,b_guess,30)"
   ]
  },
  {
   "cell_type": "markdown",
   "metadata": {
    "collapsed": true
   },
   "source": [
    "QUESTION: difference between the a,b parameters and the learning rate. Effect of different values for the learnig rate"
   ]
  },
  {
   "cell_type": "code",
   "execution_count": null,
   "metadata": {},
   "outputs": [],
   "source": []
  }
 ],
 "metadata": {
  "kernelspec": {
   "display_name": "Python 3",
   "language": "python",
   "name": "python3"
  },
  "language_info": {
   "codemirror_mode": {
    "name": "ipython",
    "version": 3
   },
   "file_extension": ".py",
   "mimetype": "text/x-python",
   "name": "python",
   "nbconvert_exporter": "python",
   "pygments_lexer": "ipython3",
   "version": "3.7.3"
  }
 },
 "nbformat": 4,
 "nbformat_minor": 2
}
