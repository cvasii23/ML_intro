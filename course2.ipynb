{
 "cells": [
  {
   "cell_type": "code",
   "execution_count": 1,
   "metadata": {},
   "outputs": [],
   "source": [
    "import numpy as np\n",
    "import pandas as pd\n",
    "\n",
    "import pandas_datareader.data as web\n",
    "import datetime  \n",
    "import matplotlib.pyplot as plt\n",
    "\n",
    "%matplotlib inline\n",
    "from IPython.display import YouTubeVideo"
   ]
  },
  {
   "cell_type": "markdown",
   "metadata": {},
   "source": [
    "# Course 2: Classification. Features. Logistic Regression. Bias and Variance."
   ]
  },
  {
   "cell_type": "markdown",
   "metadata": {},
   "source": [
    "<img src=\"images/machine_learning.jpg\" width=\"600\">"
   ]
  },
  {
   "cell_type": "markdown",
   "metadata": {},
   "source": [
    "Let's read Ethereum price from Yahoo! Finance"
   ]
  },
  {
   "cell_type": "code",
   "execution_count": 2,
   "metadata": {},
   "outputs": [],
   "source": [
    "start = datetime.datetime(2018, 1, 1)\n",
    "end = datetime.datetime(2018, 2, 23)\n",
    "df = web.DataReader(\"ETH-USD\", 'yahoo', start, end)"
   ]
  },
  {
   "cell_type": "code",
   "execution_count": 3,
   "metadata": {},
   "outputs": [
    {
     "data": {
      "text/html": [
       "<div>\n",
       "<style>\n",
       "    .dataframe thead tr:only-child th {\n",
       "        text-align: right;\n",
       "    }\n",
       "\n",
       "    .dataframe thead th {\n",
       "        text-align: left;\n",
       "    }\n",
       "\n",
       "    .dataframe tbody tr th {\n",
       "        vertical-align: top;\n",
       "    }\n",
       "</style>\n",
       "<table border=\"1\" class=\"dataframe\">\n",
       "  <thead>\n",
       "    <tr style=\"text-align: right;\">\n",
       "      <th></th>\n",
       "      <th>Open</th>\n",
       "      <th>High</th>\n",
       "      <th>Low</th>\n",
       "      <th>Close</th>\n",
       "      <th>Adj Close</th>\n",
       "      <th>Volume</th>\n",
       "    </tr>\n",
       "    <tr>\n",
       "      <th>Date</th>\n",
       "      <th></th>\n",
       "      <th></th>\n",
       "      <th></th>\n",
       "      <th></th>\n",
       "      <th></th>\n",
       "      <th></th>\n",
       "    </tr>\n",
       "  </thead>\n",
       "  <tbody>\n",
       "    <tr>\n",
       "      <th>2017-12-31</th>\n",
       "      <td>692.989990</td>\n",
       "      <td>746.619995</td>\n",
       "      <td>686.440002</td>\n",
       "      <td>741.130005</td>\n",
       "      <td>741.130005</td>\n",
       "      <td>259822610</td>\n",
       "    </tr>\n",
       "    <tr>\n",
       "      <th>2018-01-01</th>\n",
       "      <td>741.090027</td>\n",
       "      <td>765.299988</td>\n",
       "      <td>724.330017</td>\n",
       "      <td>756.200012</td>\n",
       "      <td>756.200012</td>\n",
       "      <td>256171569</td>\n",
       "    </tr>\n",
       "    <tr>\n",
       "      <th>2018-01-02</th>\n",
       "      <td>756.169983</td>\n",
       "      <td>882.609985</td>\n",
       "      <td>756.169983</td>\n",
       "      <td>861.969971</td>\n",
       "      <td>861.969971</td>\n",
       "      <td>949013949</td>\n",
       "    </tr>\n",
       "  </tbody>\n",
       "</table>\n",
       "</div>"
      ],
      "text/plain": [
       "                  Open        High         Low       Close   Adj Close  \\\n",
       "Date                                                                     \n",
       "2017-12-31  692.989990  746.619995  686.440002  741.130005  741.130005   \n",
       "2018-01-01  741.090027  765.299988  724.330017  756.200012  756.200012   \n",
       "2018-01-02  756.169983  882.609985  756.169983  861.969971  861.969971   \n",
       "\n",
       "               Volume  \n",
       "Date                   \n",
       "2017-12-31  259822610  \n",
       "2018-01-01  256171569  \n",
       "2018-01-02  949013949  "
      ]
     },
     "execution_count": 3,
     "metadata": {},
     "output_type": "execute_result"
    }
   ],
   "source": [
    "df.head(3)"
   ]
  },
  {
   "cell_type": "markdown",
   "metadata": {},
   "source": [
    "We are not interested in the price itself, but in price variation. Let's compute the __Return__"
   ]
  },
  {
   "cell_type": "code",
   "execution_count": 4,
   "metadata": {
    "collapsed": true
   },
   "outputs": [],
   "source": [
    "df['Return'] = np.log(df['Close'] / df['Close'].shift(1))"
   ]
  },
  {
   "cell_type": "code",
   "execution_count": 5,
   "metadata": {},
   "outputs": [
    {
     "data": {
      "text/html": [
       "<div>\n",
       "<style>\n",
       "    .dataframe thead tr:only-child th {\n",
       "        text-align: right;\n",
       "    }\n",
       "\n",
       "    .dataframe thead th {\n",
       "        text-align: left;\n",
       "    }\n",
       "\n",
       "    .dataframe tbody tr th {\n",
       "        vertical-align: top;\n",
       "    }\n",
       "</style>\n",
       "<table border=\"1\" class=\"dataframe\">\n",
       "  <thead>\n",
       "    <tr style=\"text-align: right;\">\n",
       "      <th></th>\n",
       "      <th>Open</th>\n",
       "      <th>High</th>\n",
       "      <th>Low</th>\n",
       "      <th>Close</th>\n",
       "      <th>Adj Close</th>\n",
       "      <th>Volume</th>\n",
       "      <th>Return</th>\n",
       "    </tr>\n",
       "    <tr>\n",
       "      <th>Date</th>\n",
       "      <th></th>\n",
       "      <th></th>\n",
       "      <th></th>\n",
       "      <th></th>\n",
       "      <th></th>\n",
       "      <th></th>\n",
       "      <th></th>\n",
       "    </tr>\n",
       "  </thead>\n",
       "  <tbody>\n",
       "    <tr>\n",
       "      <th>2017-12-31</th>\n",
       "      <td>692.989990</td>\n",
       "      <td>746.619995</td>\n",
       "      <td>686.440002</td>\n",
       "      <td>741.130005</td>\n",
       "      <td>741.130005</td>\n",
       "      <td>259822610</td>\n",
       "      <td>NaN</td>\n",
       "    </tr>\n",
       "    <tr>\n",
       "      <th>2018-01-01</th>\n",
       "      <td>741.090027</td>\n",
       "      <td>765.299988</td>\n",
       "      <td>724.330017</td>\n",
       "      <td>756.200012</td>\n",
       "      <td>756.200012</td>\n",
       "      <td>256171569</td>\n",
       "      <td>0.020130</td>\n",
       "    </tr>\n",
       "    <tr>\n",
       "      <th>2018-01-02</th>\n",
       "      <td>756.169983</td>\n",
       "      <td>882.609985</td>\n",
       "      <td>756.169983</td>\n",
       "      <td>861.969971</td>\n",
       "      <td>861.969971</td>\n",
       "      <td>949013949</td>\n",
       "      <td>0.130915</td>\n",
       "    </tr>\n",
       "    <tr>\n",
       "      <th>2018-01-03</th>\n",
       "      <td>861.969971</td>\n",
       "      <td>951.700012</td>\n",
       "      <td>847.900024</td>\n",
       "      <td>941.099976</td>\n",
       "      <td>941.099976</td>\n",
       "      <td>778108786</td>\n",
       "      <td>0.087829</td>\n",
       "    </tr>\n",
       "    <tr>\n",
       "      <th>2018-01-04</th>\n",
       "      <td>941.000000</td>\n",
       "      <td>997.440002</td>\n",
       "      <td>901.030029</td>\n",
       "      <td>944.830017</td>\n",
       "      <td>944.830017</td>\n",
       "      <td>780050914</td>\n",
       "      <td>0.003956</td>\n",
       "    </tr>\n",
       "  </tbody>\n",
       "</table>\n",
       "</div>"
      ],
      "text/plain": [
       "                  Open        High         Low       Close   Adj Close  \\\n",
       "Date                                                                     \n",
       "2017-12-31  692.989990  746.619995  686.440002  741.130005  741.130005   \n",
       "2018-01-01  741.090027  765.299988  724.330017  756.200012  756.200012   \n",
       "2018-01-02  756.169983  882.609985  756.169983  861.969971  861.969971   \n",
       "2018-01-03  861.969971  951.700012  847.900024  941.099976  941.099976   \n",
       "2018-01-04  941.000000  997.440002  901.030029  944.830017  944.830017   \n",
       "\n",
       "               Volume    Return  \n",
       "Date                             \n",
       "2017-12-31  259822610       NaN  \n",
       "2018-01-01  256171569  0.020130  \n",
       "2018-01-02  949013949  0.130915  \n",
       "2018-01-03  778108786  0.087829  \n",
       "2018-01-04  780050914  0.003956  "
      ]
     },
     "execution_count": 5,
     "metadata": {},
     "output_type": "execute_result"
    }
   ],
   "source": [
    "df.head()"
   ]
  },
  {
   "cell_type": "markdown",
   "metadata": {},
   "source": [
    "Remarks:\n",
    "* One day variation is not relevant.\n",
    "* pd.series \n",
    "* features\n",
    "* moving average\n"
   ]
  },
  {
   "cell_type": "code",
   "execution_count": 6,
   "metadata": {},
   "outputs": [],
   "source": [
    "df['2d'] = pd.Series.rolling(df['Return'],window = 2).mean()\n",
    "df['5d'] = pd.Series.rolling(df['Return'],window = 5).mean()\n",
    "df = df.iloc[1:,:]"
   ]
  },
  {
   "cell_type": "code",
   "execution_count": 7,
   "metadata": {},
   "outputs": [],
   "source": [
    "df['sign'] = df['Return'].map(lambda x: int(np.sign(x)))"
   ]
  },
  {
   "cell_type": "code",
   "execution_count": 8,
   "metadata": {},
   "outputs": [
    {
     "data": {
      "text/html": [
       "<div>\n",
       "<style>\n",
       "    .dataframe thead tr:only-child th {\n",
       "        text-align: right;\n",
       "    }\n",
       "\n",
       "    .dataframe thead th {\n",
       "        text-align: left;\n",
       "    }\n",
       "\n",
       "    .dataframe tbody tr th {\n",
       "        vertical-align: top;\n",
       "    }\n",
       "</style>\n",
       "<table border=\"1\" class=\"dataframe\">\n",
       "  <thead>\n",
       "    <tr style=\"text-align: right;\">\n",
       "      <th></th>\n",
       "      <th>Open</th>\n",
       "      <th>High</th>\n",
       "      <th>Low</th>\n",
       "      <th>Close</th>\n",
       "      <th>Adj Close</th>\n",
       "      <th>Volume</th>\n",
       "      <th>Return</th>\n",
       "      <th>2d</th>\n",
       "      <th>5d</th>\n",
       "      <th>sign</th>\n",
       "    </tr>\n",
       "    <tr>\n",
       "      <th>Date</th>\n",
       "      <th></th>\n",
       "      <th></th>\n",
       "      <th></th>\n",
       "      <th></th>\n",
       "      <th></th>\n",
       "      <th></th>\n",
       "      <th></th>\n",
       "      <th></th>\n",
       "      <th></th>\n",
       "      <th></th>\n",
       "    </tr>\n",
       "  </thead>\n",
       "  <tbody>\n",
       "    <tr>\n",
       "      <th>2018-01-01</th>\n",
       "      <td>741.090027</td>\n",
       "      <td>765.299988</td>\n",
       "      <td>724.330017</td>\n",
       "      <td>756.200012</td>\n",
       "      <td>756.200012</td>\n",
       "      <td>256171569</td>\n",
       "      <td>0.020130</td>\n",
       "      <td>NaN</td>\n",
       "      <td>NaN</td>\n",
       "      <td>1</td>\n",
       "    </tr>\n",
       "    <tr>\n",
       "      <th>2018-01-02</th>\n",
       "      <td>756.169983</td>\n",
       "      <td>882.609985</td>\n",
       "      <td>756.169983</td>\n",
       "      <td>861.969971</td>\n",
       "      <td>861.969971</td>\n",
       "      <td>949013949</td>\n",
       "      <td>0.130915</td>\n",
       "      <td>0.075522</td>\n",
       "      <td>NaN</td>\n",
       "      <td>1</td>\n",
       "    </tr>\n",
       "    <tr>\n",
       "      <th>2018-01-03</th>\n",
       "      <td>861.969971</td>\n",
       "      <td>951.700012</td>\n",
       "      <td>847.900024</td>\n",
       "      <td>941.099976</td>\n",
       "      <td>941.099976</td>\n",
       "      <td>778108786</td>\n",
       "      <td>0.087829</td>\n",
       "      <td>0.109372</td>\n",
       "      <td>NaN</td>\n",
       "      <td>1</td>\n",
       "    </tr>\n",
       "    <tr>\n",
       "      <th>2018-01-04</th>\n",
       "      <td>941.000000</td>\n",
       "      <td>997.440002</td>\n",
       "      <td>901.030029</td>\n",
       "      <td>944.830017</td>\n",
       "      <td>944.830017</td>\n",
       "      <td>780050914</td>\n",
       "      <td>0.003956</td>\n",
       "      <td>0.045892</td>\n",
       "      <td>NaN</td>\n",
       "      <td>1</td>\n",
       "    </tr>\n",
       "    <tr>\n",
       "      <th>2018-01-05</th>\n",
       "      <td>944.830017</td>\n",
       "      <td>1018.369995</td>\n",
       "      <td>933.979980</td>\n",
       "      <td>967.130005</td>\n",
       "      <td>967.130005</td>\n",
       "      <td>808280779</td>\n",
       "      <td>0.023328</td>\n",
       "      <td>0.013642</td>\n",
       "      <td>0.053231</td>\n",
       "      <td>1</td>\n",
       "    </tr>\n",
       "    <tr>\n",
       "      <th>2018-01-06</th>\n",
       "      <td>967.130005</td>\n",
       "      <td>1010.169983</td>\n",
       "      <td>958.289978</td>\n",
       "      <td>1006.409973</td>\n",
       "      <td>1006.409973</td>\n",
       "      <td>381555969</td>\n",
       "      <td>0.039812</td>\n",
       "      <td>0.031570</td>\n",
       "      <td>0.057168</td>\n",
       "      <td>1</td>\n",
       "    </tr>\n",
       "    <tr>\n",
       "      <th>2018-01-07</th>\n",
       "      <td>1006.409973</td>\n",
       "      <td>1117.839966</td>\n",
       "      <td>1003.210022</td>\n",
       "      <td>1117.750000</td>\n",
       "      <td>1117.750000</td>\n",
       "      <td>602250144</td>\n",
       "      <td>0.104928</td>\n",
       "      <td>0.072370</td>\n",
       "      <td>0.051971</td>\n",
       "      <td>1</td>\n",
       "    </tr>\n",
       "    <tr>\n",
       "      <th>2018-01-08</th>\n",
       "      <td>1117.750000</td>\n",
       "      <td>1228.250000</td>\n",
       "      <td>967.840027</td>\n",
       "      <td>1136.109985</td>\n",
       "      <td>1136.109985</td>\n",
       "      <td>1292737991</td>\n",
       "      <td>0.016292</td>\n",
       "      <td>0.060610</td>\n",
       "      <td>0.037663</td>\n",
       "      <td>1</td>\n",
       "    </tr>\n",
       "    <tr>\n",
       "      <th>2018-01-09</th>\n",
       "      <td>1136.109985</td>\n",
       "      <td>1300.300049</td>\n",
       "      <td>1133.699951</td>\n",
       "      <td>1289.239990</td>\n",
       "      <td>1289.239990</td>\n",
       "      <td>986697724</td>\n",
       "      <td>0.126443</td>\n",
       "      <td>0.071368</td>\n",
       "      <td>0.062161</td>\n",
       "      <td>1</td>\n",
       "    </tr>\n",
       "    <tr>\n",
       "      <th>2018-01-10</th>\n",
       "      <td>1289.239990</td>\n",
       "      <td>1385.219971</td>\n",
       "      <td>1210.849976</td>\n",
       "      <td>1248.989990</td>\n",
       "      <td>1248.989990</td>\n",
       "      <td>1445484601</td>\n",
       "      <td>-0.031718</td>\n",
       "      <td>0.047363</td>\n",
       "      <td>0.051152</td>\n",
       "      <td>-1</td>\n",
       "    </tr>\n",
       "    <tr>\n",
       "      <th>2018-01-11</th>\n",
       "      <td>1248.959961</td>\n",
       "      <td>1333.920044</td>\n",
       "      <td>1100.849976</td>\n",
       "      <td>1139.319946</td>\n",
       "      <td>1139.319946</td>\n",
       "      <td>1270849838</td>\n",
       "      <td>-0.091904</td>\n",
       "      <td>-0.061811</td>\n",
       "      <td>0.024808</td>\n",
       "      <td>-1</td>\n",
       "    </tr>\n",
       "    <tr>\n",
       "      <th>2018-01-12</th>\n",
       "      <td>1139.319946</td>\n",
       "      <td>1287.060059</td>\n",
       "      <td>1087.609985</td>\n",
       "      <td>1261.030029</td>\n",
       "      <td>1261.030029</td>\n",
       "      <td>704750432</td>\n",
       "      <td>0.101497</td>\n",
       "      <td>0.004797</td>\n",
       "      <td>0.024122</td>\n",
       "      <td>1</td>\n",
       "    </tr>\n",
       "  </tbody>\n",
       "</table>\n",
       "</div>"
      ],
      "text/plain": [
       "                   Open         High          Low        Close    Adj Close  \\\n",
       "Date                                                                          \n",
       "2018-01-01   741.090027   765.299988   724.330017   756.200012   756.200012   \n",
       "2018-01-02   756.169983   882.609985   756.169983   861.969971   861.969971   \n",
       "2018-01-03   861.969971   951.700012   847.900024   941.099976   941.099976   \n",
       "2018-01-04   941.000000   997.440002   901.030029   944.830017   944.830017   \n",
       "2018-01-05   944.830017  1018.369995   933.979980   967.130005   967.130005   \n",
       "2018-01-06   967.130005  1010.169983   958.289978  1006.409973  1006.409973   \n",
       "2018-01-07  1006.409973  1117.839966  1003.210022  1117.750000  1117.750000   \n",
       "2018-01-08  1117.750000  1228.250000   967.840027  1136.109985  1136.109985   \n",
       "2018-01-09  1136.109985  1300.300049  1133.699951  1289.239990  1289.239990   \n",
       "2018-01-10  1289.239990  1385.219971  1210.849976  1248.989990  1248.989990   \n",
       "2018-01-11  1248.959961  1333.920044  1100.849976  1139.319946  1139.319946   \n",
       "2018-01-12  1139.319946  1287.060059  1087.609985  1261.030029  1261.030029   \n",
       "\n",
       "                Volume    Return        2d        5d  sign  \n",
       "Date                                                        \n",
       "2018-01-01   256171569  0.020130       NaN       NaN     1  \n",
       "2018-01-02   949013949  0.130915  0.075522       NaN     1  \n",
       "2018-01-03   778108786  0.087829  0.109372       NaN     1  \n",
       "2018-01-04   780050914  0.003956  0.045892       NaN     1  \n",
       "2018-01-05   808280779  0.023328  0.013642  0.053231     1  \n",
       "2018-01-06   381555969  0.039812  0.031570  0.057168     1  \n",
       "2018-01-07   602250144  0.104928  0.072370  0.051971     1  \n",
       "2018-01-08  1292737991  0.016292  0.060610  0.037663     1  \n",
       "2018-01-09   986697724  0.126443  0.071368  0.062161     1  \n",
       "2018-01-10  1445484601 -0.031718  0.047363  0.051152    -1  \n",
       "2018-01-11  1270849838 -0.091904 -0.061811  0.024808    -1  \n",
       "2018-01-12   704750432  0.101497  0.004797  0.024122     1  "
      ]
     },
     "execution_count": 8,
     "metadata": {},
     "output_type": "execute_result"
    }
   ],
   "source": [
    "df.head(12)"
   ]
  },
  {
   "cell_type": "code",
   "execution_count": 9,
   "metadata": {
    "collapsed": true
   },
   "outputs": [],
   "source": [
    "dataToUse = df.iloc[7:,7:]"
   ]
  },
  {
   "cell_type": "code",
   "execution_count": 10,
   "metadata": {},
   "outputs": [
    {
     "data": {
      "text/html": [
       "<div>\n",
       "<style>\n",
       "    .dataframe thead tr:only-child th {\n",
       "        text-align: right;\n",
       "    }\n",
       "\n",
       "    .dataframe thead th {\n",
       "        text-align: left;\n",
       "    }\n",
       "\n",
       "    .dataframe tbody tr th {\n",
       "        vertical-align: top;\n",
       "    }\n",
       "</style>\n",
       "<table border=\"1\" class=\"dataframe\">\n",
       "  <thead>\n",
       "    <tr style=\"text-align: right;\">\n",
       "      <th></th>\n",
       "      <th>2d</th>\n",
       "      <th>5d</th>\n",
       "      <th>sign</th>\n",
       "    </tr>\n",
       "    <tr>\n",
       "      <th>Date</th>\n",
       "      <th></th>\n",
       "      <th></th>\n",
       "      <th></th>\n",
       "    </tr>\n",
       "  </thead>\n",
       "  <tbody>\n",
       "    <tr>\n",
       "      <th>2018-01-08</th>\n",
       "      <td>0.060610</td>\n",
       "      <td>0.037663</td>\n",
       "      <td>1</td>\n",
       "    </tr>\n",
       "    <tr>\n",
       "      <th>2018-01-09</th>\n",
       "      <td>0.071368</td>\n",
       "      <td>0.062161</td>\n",
       "      <td>1</td>\n",
       "    </tr>\n",
       "    <tr>\n",
       "      <th>2018-01-10</th>\n",
       "      <td>0.047363</td>\n",
       "      <td>0.051152</td>\n",
       "      <td>-1</td>\n",
       "    </tr>\n",
       "    <tr>\n",
       "      <th>2018-01-11</th>\n",
       "      <td>-0.061811</td>\n",
       "      <td>0.024808</td>\n",
       "      <td>-1</td>\n",
       "    </tr>\n",
       "    <tr>\n",
       "      <th>2018-01-12</th>\n",
       "      <td>0.004797</td>\n",
       "      <td>0.024122</td>\n",
       "      <td>1</td>\n",
       "    </tr>\n",
       "  </tbody>\n",
       "</table>\n",
       "</div>"
      ],
      "text/plain": [
       "                  2d        5d  sign\n",
       "Date                                \n",
       "2018-01-08  0.060610  0.037663     1\n",
       "2018-01-09  0.071368  0.062161     1\n",
       "2018-01-10  0.047363  0.051152    -1\n",
       "2018-01-11 -0.061811  0.024808    -1\n",
       "2018-01-12  0.004797  0.024122     1"
      ]
     },
     "execution_count": 10,
     "metadata": {},
     "output_type": "execute_result"
    }
   ],
   "source": [
    "dataToUse.head()"
   ]
  },
  {
   "cell_type": "code",
   "execution_count": 11,
   "metadata": {},
   "outputs": [
    {
     "data": {
      "image/png": "[encoded data removed]",
      "text/plain": [
       "<matplotlib.figure.Figure at 0x1e276ec47b8>"
      ]
     },
     "metadata": {},
     "output_type": "display_data"
    }
   ],
   "source": [
    "plt.scatter(x=dataToUse['2d'],y=dataToUse['5d'],c=dataToUse['sign'])\n",
    "plt.show()"
   ]
  },
  {
   "cell_type": "code",
   "execution_count": 12,
   "metadata": {
    "collapsed": true
   },
   "outputs": [],
   "source": [
    "data = dataToUse.copy()"
   ]
  },
  {
   "cell_type": "code",
   "execution_count": 13,
   "metadata": {
    "collapsed": true
   },
   "outputs": [],
   "source": [
    "def toY(x):\n",
    "    if x <0:\n",
    "        z=0\n",
    "    else:\n",
    "        z =1\n",
    "    return z\n",
    "data['y'] = data['sign'].map(toY)\n",
    "data.drop('sign',axis=1, inplace=True)"
   ]
  },
  {
   "cell_type": "code",
   "execution_count": 14,
   "metadata": {},
   "outputs": [
    {
     "data": {
      "text/html": [
       "<div>\n",
       "<style>\n",
       "    .dataframe thead tr:only-child th {\n",
       "        text-align: right;\n",
       "    }\n",
       "\n",
       "    .dataframe thead th {\n",
       "        text-align: left;\n",
       "    }\n",
       "\n",
       "    .dataframe tbody tr th {\n",
       "        vertical-align: top;\n",
       "    }\n",
       "</style>\n",
       "<table border=\"1\" class=\"dataframe\">\n",
       "  <thead>\n",
       "    <tr style=\"text-align: right;\">\n",
       "      <th></th>\n",
       "      <th>2d</th>\n",
       "      <th>5d</th>\n",
       "      <th>y</th>\n",
       "    </tr>\n",
       "    <tr>\n",
       "      <th>Date</th>\n",
       "      <th></th>\n",
       "      <th></th>\n",
       "      <th></th>\n",
       "    </tr>\n",
       "  </thead>\n",
       "  <tbody>\n",
       "    <tr>\n",
       "      <th>2018-01-08</th>\n",
       "      <td>0.060610</td>\n",
       "      <td>0.037663</td>\n",
       "      <td>1</td>\n",
       "    </tr>\n",
       "    <tr>\n",
       "      <th>2018-01-09</th>\n",
       "      <td>0.071368</td>\n",
       "      <td>0.062161</td>\n",
       "      <td>1</td>\n",
       "    </tr>\n",
       "    <tr>\n",
       "      <th>2018-01-10</th>\n",
       "      <td>0.047363</td>\n",
       "      <td>0.051152</td>\n",
       "      <td>0</td>\n",
       "    </tr>\n",
       "    <tr>\n",
       "      <th>2018-01-11</th>\n",
       "      <td>-0.061811</td>\n",
       "      <td>0.024808</td>\n",
       "      <td>0</td>\n",
       "    </tr>\n",
       "    <tr>\n",
       "      <th>2018-01-12</th>\n",
       "      <td>0.004797</td>\n",
       "      <td>0.024122</td>\n",
       "      <td>1</td>\n",
       "    </tr>\n",
       "  </tbody>\n",
       "</table>\n",
       "</div>"
      ],
      "text/plain": [
       "                  2d        5d  y\n",
       "Date                             \n",
       "2018-01-08  0.060610  0.037663  1\n",
       "2018-01-09  0.071368  0.062161  1\n",
       "2018-01-10  0.047363  0.051152  0\n",
       "2018-01-11 -0.061811  0.024808  0\n",
       "2018-01-12  0.004797  0.024122  1"
      ]
     },
     "execution_count": 14,
     "metadata": {},
     "output_type": "execute_result"
    }
   ],
   "source": [
    "data.head()"
   ]
  },
  {
   "cell_type": "markdown",
   "metadata": {},
   "source": [
    "## 1. Hypothesis (model) "
   ]
  },
  {
   "cell_type": "markdown",
   "metadata": {},
   "source": [
    "$$h_\\theta(x) = \\sigma(z) = \\frac{1}{1-e^{-z}}$$\n",
    "\n",
    "\n",
    "Where $z = <\\theta,x>$.\n",
    "In our case, $z = \\theta_0 + \\theta_1 x_1 + \\theta_2 x_2 = [\\theta_0, \\theta_1,\\theta_2][1,x_1,x_2]^T$\n",
    "\n",
    "(Note that if u,v are vectors represented as column matrices, then we can compute the inner product as matrix multiplication $<u,v> = u^T \\cdot v$)"
   ]
  },
  {
   "cell_type": "markdown",
   "metadata": {},
   "source": [
    "## 2. Loss function"
   ]
  },
  {
   "cell_type": "markdown",
   "metadata": {},
   "source": [
    "* Square loss is non-convex, therefore we will use the so called categorical crossentropy $ loss = - y \\cdot \\log(h_\\theta(x)) - (1-y) \\cdot \\log(1 - h_\\theta(x))$\n",
    "* Information theory $-log(p(x_i))$\n",
    "* Entropy\n",
    "* Sigmoid and its purpose"
   ]
  },
  {
   "cell_type": "markdown",
   "metadata": {},
   "source": [
    "Remember the importance of the graph of $-log(x)$ on the interval $[0,1]$. We will draw a plot, just to have it nearby when reasoning on the loss function, the so called __categorical crossentropy__"
   ]
  },
  {
   "cell_type": "code",
   "execution_count": 18,
   "metadata": {},
   "outputs": [
    {
     "name": "stderr",
     "output_type": "stream",
     "text": [
      "C:\\ProgramData\\Anaconda3\\lib\\site-packages\\ipykernel\\__main__.py:2: RuntimeWarning: divide by zero encountered in log\n",
      "  from ipykernel import kernelapp as app\n"
     ]
    },
    {
     "data": {
      "text/plain": [
       "<matplotlib.collections.PathCollection at 0x1e277528fd0>"
      ]
     },
     "execution_count": 18,
     "metadata": {},
     "output_type": "execute_result"
    },
    {
     "data": {
      "image/png": "[encoded data removed]",
      "text/plain": [
       "<matplotlib.figure.Figure at 0x1e2774b81d0>"
      ]
     },
     "metadata": {},
     "output_type": "display_data"
    }
   ],
   "source": [
    "x = np.arange(0,1,0.01)\n",
    "y = - np.log(x)\n",
    "plt.scatter(x,y)"
   ]
  },
  {
   "cell_type": "markdown",
   "metadata": {},
   "source": [
    "Also note that the loss function can also be written in a less condensed way, on two branches:\n",
    "$$\n",
    "loss =\n",
    "\\begin{cases}\n",
    "-\\log(h_\\theta(x))\\ , && y = 1 \\cr\n",
    "- \\log (1-h_\\theta(x))\\ , && y =0\n",
    "\\end{cases}\n",
    "$$\n"
   ]
  },
  {
   "cell_type": "markdown",
   "metadata": {},
   "source": [
    "An excellent presentation on __entropy__ is the youtube video (on some browsers you might have to copy/paste the link):"
   ]
  },
  {
   "cell_type": "code",
   "execution_count": 15,
   "metadata": {},
   "outputs": [
    {
     "data": {
      "text/html": [
       "\n",
       "        <iframe\n",
       "            width=\"400\"\n",
       "            height=\"300\"\n",
       "            src=\"https://www.youtube.com/embed/https://www.youtube.com/watch?v=9r7FIXEAGvs\"\n",
       "            frameborder=\"0\"\n",
       "            allowfullscreen\n",
       "        ></iframe>\n",
       "        "
      ],
      "text/plain": [
       "<IPython.lib.display.YouTubeVideo at 0x1e2773a3c18>"
      ]
     },
     "execution_count": 15,
     "metadata": {},
     "output_type": "execute_result"
    }
   ],
   "source": [
    "YouTubeVideo('https://www.youtube.com/watch?v=9r7FIXEAGvs')"
   ]
  },
  {
   "cell_type": "code",
   "execution_count": 22,
   "metadata": {
    "collapsed": true
   },
   "outputs": [],
   "source": [
    "def sigmoid(x):\n",
    "    return 1 / (1 + np.exp(-x))"
   ]
  },
  {
   "cell_type": "markdown",
   "metadata": {},
   "source": [
    "Consider second degree $h_\\theta(z) = \\frac{1}{1 - e^z}$ and $z = <\\theta,x> = \\theta^T x = \\theta_0 + \\theta_1 x_1 + \\theta_2 x_2$"
   ]
  },
  {
   "cell_type": "code",
   "execution_count": 23,
   "metadata": {
    "collapsed": true
   },
   "outputs": [],
   "source": [
    "def hyp(x, theta):\n",
    "    return sigmoid(np.dot(x,theta))"
   ]
  },
  {
   "cell_type": "markdown",
   "metadata": {},
   "source": [
    "### Gradient"
   ]
  },
  {
   "cell_type": "code",
   "execution_count": 24,
   "metadata": {},
   "outputs": [],
   "source": [
    "# m denotes the number of examples here, not the number of features\n",
    "def gradientDescent(X, y, theta, alpha, numIterations,printdetails): \n",
    "    m = len(y)\n",
    "    for i in range(numIterations):\n",
    "        loss = - y * np.log(hyp(X,theta)) - (1-y) * np.log(1-hyp(X,theta))\n",
    "        cost = np.sum(loss) / (2 * m)\n",
    "        if printdetails == True:\n",
    "            if i %500 == 0:\n",
    "                print(\"Iteration %d | Cost: %f\" % (i, cost))\n",
    "        gradient = np.dot(X.T, y - hyp(X,theta))\n",
    "        # update\n",
    "        theta = theta - alpha * gradient\n",
    "    return theta"
   ]
  },
  {
   "cell_type": "code",
   "execution_count": 25,
   "metadata": {
    "collapsed": true
   },
   "outputs": [],
   "source": [
    "theta0_guess = -0.00383\n",
    "theta1_guess= 0.176\n",
    "theta2_guess= -0.045\n",
    "\n",
    "x1 = data['2d']\n",
    "x2 = data['5d']"
   ]
  },
  {
   "cell_type": "code",
   "execution_count": 26,
   "metadata": {},
   "outputs": [
    {
     "name": "stdout",
     "output_type": "stream",
     "text": [
      "Iteration 0 | Cost: 0.345336\n",
      "Iteration 500 | Cost: 0.345481\n",
      "Iteration 1000 | Cost: 0.345641\n",
      "Iteration 1500 | Cost: 0.345818\n"
     ]
    },
    {
     "data": {
      "text/plain": [
       "array([ 0.02877345,  0.16231157, -0.04945863])"
      ]
     },
     "execution_count": 26,
     "metadata": {},
     "output_type": "execute_result"
    }
   ],
   "source": [
    "theta = np.array([theta0_guess,theta1_guess,theta2_guess])\n",
    "X = np.hstack([np.ones((len(x1),1)),np.array(x1).reshape(-1,1),np.array(x2).reshape(-1,1)])\n",
    "y = data['y']\n",
    "gradientDescent(X,y, theta, 0.00001, 2000,True)"
   ]
  },
  {
   "cell_type": "code",
   "execution_count": 27,
   "metadata": {
    "collapsed": true
   },
   "outputs": [],
   "source": [
    "xp = np.arange(-0.2, 0.1,0.01)\n",
    "yp = (-theta[0] - theta[1] * xp) / theta[2]"
   ]
  },
  {
   "cell_type": "code",
   "execution_count": 29,
   "metadata": {},
   "outputs": [
    {
     "data": {
      "image/png": "[encoded data removed]",
      "text/plain": [
       "<matplotlib.figure.Figure at 0x20c103c9d30>"
      ]
     },
     "metadata": {},
     "output_type": "display_data"
    }
   ],
   "source": [
    "plt.scatter(x=dataToUse['2d'],y=dataToUse['5d'],c=dataToUse['sign'])\n",
    "plt.plot(xp,yp,color='red')\n",
    "plt.show()"
   ]
  },
  {
   "cell_type": "markdown",
   "metadata": {},
   "source": [
    "## Second degree $x_1$ and $x_2$"
   ]
  },
  {
   "cell_type": "code",
   "execution_count": 30,
   "metadata": {},
   "outputs": [
    {
     "data": {
      "text/plain": [
       "(47, 3)"
      ]
     },
     "execution_count": 30,
     "metadata": {},
     "output_type": "execute_result"
    }
   ],
   "source": [
    "X.shape"
   ]
  },
  {
   "cell_type": "code",
   "execution_count": 31,
   "metadata": {
    "collapsed": true
   },
   "outputs": [],
   "source": [
    "X = np.hstack([X, X[:,1:]**2])"
   ]
  },
  {
   "cell_type": "code",
   "execution_count": 32,
   "metadata": {},
   "outputs": [
    {
     "data": {
      "text/plain": [
       "(47, 5)"
      ]
     },
     "execution_count": 32,
     "metadata": {},
     "output_type": "execute_result"
    }
   ],
   "source": [
    "X.shape"
   ]
  },
  {
   "cell_type": "code",
   "execution_count": 33,
   "metadata": {},
   "outputs": [
    {
     "data": {
      "text/plain": [
       "(3,)"
      ]
     },
     "execution_count": 33,
     "metadata": {},
     "output_type": "execute_result"
    }
   ],
   "source": [
    "theta.shape"
   ]
  },
  {
   "cell_type": "code",
   "execution_count": 34,
   "metadata": {},
   "outputs": [],
   "source": [
    "theta = np.hstack([theta,theta[-2],theta[-1]])"
   ]
  },
  {
   "cell_type": "code",
   "execution_count": 35,
   "metadata": {},
   "outputs": [
    {
     "name": "stdout",
     "output_type": "stream",
     "text": [
      "Iteration 0 | Cost: 0.345387\n",
      "Iteration 500 | Cost: 0.345401\n",
      "Iteration 1000 | Cost: 0.345415\n",
      "Iteration 1500 | Cost: 0.345429\n",
      "Iteration 2000 | Cost: 0.345444\n",
      "Iteration 2500 | Cost: 0.345458\n",
      "Iteration 3000 | Cost: 0.345473\n",
      "Iteration 3500 | Cost: 0.345488\n",
      "Iteration 4000 | Cost: 0.345503\n",
      "Iteration 4500 | Cost: 0.345518\n",
      "Iteration 5000 | Cost: 0.345533\n",
      "Iteration 5500 | Cost: 0.345549\n",
      "Iteration 6000 | Cost: 0.345564\n",
      "Iteration 6500 | Cost: 0.345580\n",
      "Iteration 7000 | Cost: 0.345596\n",
      "Iteration 7500 | Cost: 0.345612\n",
      "Iteration 8000 | Cost: 0.345628\n",
      "Iteration 8500 | Cost: 0.345644\n",
      "Iteration 9000 | Cost: 0.345661\n",
      "Iteration 9500 | Cost: 0.345678\n",
      "Iteration 10000 | Cost: 0.345695\n",
      "Iteration 10500 | Cost: 0.345712\n",
      "Iteration 11000 | Cost: 0.345729\n",
      "Iteration 11500 | Cost: 0.345746\n",
      "Iteration 12000 | Cost: 0.345764\n",
      "Iteration 12500 | Cost: 0.345781\n",
      "Iteration 13000 | Cost: 0.345799\n",
      "Iteration 13500 | Cost: 0.345817\n",
      "Iteration 14000 | Cost: 0.345836\n",
      "Iteration 14500 | Cost: 0.345854\n",
      "Iteration 15000 | Cost: 0.345873\n",
      "Iteration 15500 | Cost: 0.345892\n",
      "Iteration 16000 | Cost: 0.345911\n",
      "Iteration 16500 | Cost: 0.345930\n",
      "Iteration 17000 | Cost: 0.345949\n",
      "Iteration 17500 | Cost: 0.345969\n",
      "Iteration 18000 | Cost: 0.345989\n",
      "Iteration 18500 | Cost: 0.346009\n",
      "Iteration 19000 | Cost: 0.346029\n",
      "Iteration 19500 | Cost: 0.346049\n"
     ]
    },
    {
     "data": {
      "text/plain": [
       "array([ 0.02890595,  0.16230526, -0.04946098,  0.1765792 , -0.04490848])"
      ]
     },
     "execution_count": 35,
     "metadata": {},
     "output_type": "execute_result"
    }
   ],
   "source": [
    "gradientDescent(X,y, theta, 0.000001, 20000,True)"
   ]
  },
  {
   "cell_type": "markdown",
   "metadata": {},
   "source": [
    "Which is better? \n",
    "__Test set__"
   ]
  },
  {
   "cell_type": "code",
   "execution_count": 36,
   "metadata": {
    "collapsed": true
   },
   "outputs": [],
   "source": [
    "A = np.array([[1,2,3],[4,5,6]])"
   ]
  },
  {
   "cell_type": "code",
   "execution_count": 37,
   "metadata": {},
   "outputs": [
    {
     "data": {
      "text/plain": [
       "array([[1, 2, 3],\n",
       "       [4, 5, 6]])"
      ]
     },
     "execution_count": 37,
     "metadata": {},
     "output_type": "execute_result"
    }
   ],
   "source": [
    "A"
   ]
  },
  {
   "cell_type": "code",
   "execution_count": 38,
   "metadata": {},
   "outputs": [],
   "source": [
    "np.random.shuffle(A) #is performed inplace"
   ]
  },
  {
   "cell_type": "code",
   "execution_count": 39,
   "metadata": {},
   "outputs": [
    {
     "data": {
      "text/plain": [
       "array([[1, 2, 3],\n",
       "       [4, 5, 6]])"
      ]
     },
     "execution_count": 39,
     "metadata": {},
     "output_type": "execute_result"
    }
   ],
   "source": [
    "A"
   ]
  },
  {
   "cell_type": "markdown",
   "metadata": {},
   "source": [
    "random.split train 0.6, val (dev) 0.2, test 0,2"
   ]
  },
  {
   "cell_type": "code",
   "execution_count": 40,
   "metadata": {
    "collapsed": true
   },
   "outputs": [],
   "source": [
    "I = np.eye(X.shape[0])"
   ]
  },
  {
   "cell_type": "code",
   "execution_count": 41,
   "metadata": {},
   "outputs": [],
   "source": [
    "np.random.shuffle(I)"
   ]
  },
  {
   "cell_type": "code",
   "execution_count": 42,
   "metadata": {
    "collapsed": true
   },
   "outputs": [],
   "source": [
    "X = np.dot(I,X)\n",
    "y = np.dot(I,y)"
   ]
  },
  {
   "cell_type": "code",
   "execution_count": 43,
   "metadata": {
    "collapsed": true
   },
   "outputs": [],
   "source": [
    "l1 = int(0.6 * X.shape[0])\n",
    "l2 = int((0.6 + 0.2) * X.shape[0])"
   ]
  },
  {
   "cell_type": "code",
   "execution_count": 44,
   "metadata": {
    "collapsed": true
   },
   "outputs": [],
   "source": [
    "X_train = X[:l1,:]\n",
    "X_val = X[l1:l2,:]\n",
    "X_test = X[l2:,:]"
   ]
  },
  {
   "cell_type": "code",
   "execution_count": 45,
   "metadata": {},
   "outputs": [],
   "source": [
    "y_train = y[:l1]\n",
    "y_val = y[l1:l2]\n",
    "y_test = y[l2:]"
   ]
  },
  {
   "cell_type": "code",
   "execution_count": 46,
   "metadata": {},
   "outputs": [],
   "source": [
    "def polyClass(X_train,X_val, lr,numIter,n):\n",
    "    for i in range(n):\n",
    "        X_train = np.hstack([X_train, X_train[:,1:2]**i])\n",
    "        X_val = np.hstack([X_val, X_val[:,1:2]**i])\n",
    "    thetaInit = np.ones(X_train.shape[1])\n",
    "    thetaOut = gradientDescent(X_train,y_train, thetaInit, lr, numIter,False)   \n",
    "    y_pred = sigmoid(np.dot(X_val, thetaOut))\n",
    "    acc = np.sum(y_val == (y_pred > 0.5)) / y_val.shape[0] # number between 0 and 1\n",
    "    return acc\n",
    "        "
   ]
  },
  {
   "cell_type": "code",
   "execution_count": 47,
   "metadata": {},
   "outputs": [
    {
     "data": {
      "text/plain": [
       "0.44444444444444442"
      ]
     },
     "execution_count": 47,
     "metadata": {},
     "output_type": "execute_result"
    }
   ],
   "source": [
    "polyClass(X_train,X_val, 0.000001,750000,2)"
   ]
  },
  {
   "cell_type": "code",
   "execution_count": 48,
   "metadata": {},
   "outputs": [
    {
     "data": {
      "text/plain": [
       "0.44444444444444442"
      ]
     },
     "execution_count": 48,
     "metadata": {},
     "output_type": "execute_result"
    }
   ],
   "source": [
    "polyClass(X_train,X_val, 0.000001,75000,3)"
   ]
  },
  {
   "cell_type": "code",
   "execution_count": 49,
   "metadata": {},
   "outputs": [
    {
     "data": {
      "text/plain": [
       "0.44444444444444442"
      ]
     },
     "execution_count": 49,
     "metadata": {},
     "output_type": "execute_result"
    }
   ],
   "source": [
    "polyClass(X_train,X_val, 0.000001,750000,1)"
   ]
  },
  {
   "cell_type": "markdown",
   "metadata": {},
   "source": [
    "## 3. Bias and Variance"
   ]
  },
  {
   "cell_type": "markdown",
   "metadata": {},
   "source": [
    "<img src=\"images/Bias_Variance.png\" width=\"600\">"
   ]
  },
  {
   "cell_type": "markdown",
   "metadata": {},
   "source": [
    "## Regularization"
   ]
  },
  {
   "cell_type": "markdown",
   "metadata": {},
   "source": [
    "$$min(cost(\\theta,x))$$ vs $$min(cost(\\theta,x) + 1000 \\theta_0 ^2)$$"
   ]
  },
  {
   "cell_type": "markdown",
   "metadata": {},
   "source": [
    "($L^2-)$ regularization: $min(cost(\\theta,x) + \\lambda\\sum \\theta_i^2)$\n",
    "where $lambda$ in called a regularization parameter. Usually $\\lambda = 0.1, 0.001, 0.001$"
   ]
  },
  {
   "cell_type": "markdown",
   "metadata": {},
   "source": [
    "Workflow:\n",
    "\n",
    "* use a train\\ development\\ test split\n",
    "* find the polynomial degree by measuring accuracy on the dev set\n",
    "* find the optimal value of the regularization parameter on the test set"
   ]
  },
  {
   "cell_type": "code",
   "execution_count": null,
   "metadata": {
    "collapsed": true
   },
   "outputs": [],
   "source": []
  }
 ],
 "metadata": {
  "kernelspec": {
   "display_name": "Python 3",
   "language": "python",
   "name": "python3"
  },
  "language_info": {
   "codemirror_mode": {
    "name": "ipython",
    "version": 3
   },
   "file_extension": ".py",
   "mimetype": "text/x-python",
   "name": "python",
   "nbconvert_exporter": "python",
   "pygments_lexer": "ipython3",
   "version": "3.7.3"
  }
 },
 "nbformat": 4,
 "nbformat_minor": 2
}
